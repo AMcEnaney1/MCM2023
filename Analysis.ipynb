{
 "cells": [
  {
   "cell_type": "code",
   "execution_count": 1,
   "id": "94eb044e-0878-4497-ab7c-a0c6e0ec25cd",
   "metadata": {},
   "outputs": [],
   "source": [
    "# Aidan McEnaney\n",
    "# February 16th, 2023\n",
    "# Code developed for MCM 2023"
   ]
  },
  {
   "cell_type": "code",
   "execution_count": 2,
   "id": "6bf19a28-f237-4152-9a53-65bbb36f44f7",
   "metadata": {},
   "outputs": [],
   "source": [
    "import pandas as pd\n",
    "import numpy as np\n",
    "import matplotlib.pyplot as plt\n",
    "from wordfreq import word_frequency #https://pypi.org/project/wordfreq/\n",
    "import csv\n",
    "from itertools import accumulate, islice\n",
    "from collections import Counter\n",
    "import copy\n",
    "from itertools import product\n",
    "from itertools import dropwhile\n",
    "from nltk.corpus import words\n",
    "import math\n",
    "import scipy\n",
    "import string\n",
    "import random"
   ]
  },
  {
   "cell_type": "code",
   "execution_count": 3,
   "id": "7e0b883c-70b1-4925-b5b0-d1f82d208e4a",
   "metadata": {},
   "outputs": [],
   "source": [
    "wordleData = pd.read_excel(\"Problem_C_Data_Wordle.xlsx\")\n",
    "\n",
    "header_row =wordleData.iloc[0]\n",
    "df2 = pd.DataFrame(wordleData.values[1:], columns=header_row)\n",
    "wordleData = df2.to_dict()\n",
    "\n",
    "keys = list(wordleData.keys())\n",
    "data = {}\n",
    "\n",
    "for key in keys:\n",
    "    tmp =[]\n",
    "    \n",
    "    for i in range(len(wordleData[key])):\n",
    "        tmp.append(wordleData[key][i])\n",
    "        \n",
    "    data[key] = tmp\n",
    "    \n",
    "#print(keys)"
   ]
  },
  {
   "cell_type": "code",
   "execution_count": 4,
   "id": "7c0b288d-3aa8-4d41-ba83-984338ad5b2b",
   "metadata": {},
   "outputs": [],
   "source": [
    "tmp = []\n",
    "tmp2 = []\n",
    "\n",
    "for i in range(len(data[\"Date\"])):\n",
    "    tmp.append(data[\"Number in hard mode\"][i]/(data[keys[3]][i]))\n",
    "    tmp2.append(word_frequency(data[\"Word\"][i], 'en'))\n",
    "\n",
    "    \n",
    "data[\"percentHardmode\"] = tmp\n",
    "data[\"wordFreq\"] = tmp2\n",
    "#print(tmp2)\n",
    "data[\"wordFreqNorm\"] = [x / max(tmp2) for x in tmp2]"
   ]
  },
  {
   "cell_type": "code",
   "execution_count": 5,
   "id": "0627cdef-6359-4d6b-b4fb-d95c79982a9c",
   "metadata": {},
   "outputs": [],
   "source": [
    "# Program to write a dictionary of list to csv\n",
    "  \n",
    "# writing to csv file\n",
    "with open(\"dataSum.csv\", \"w\") as outfile:\n",
    "    \n",
    "    # creating a csv writer object\n",
    "    writerfile = csv.writer(outfile)\n",
    "      \n",
    "    # writing dictionary keys as headings of csv\n",
    "    writerfile.writerow(data.keys())\n",
    "      \n",
    "    # writing list of dictionary\n",
    "    writerfile.writerows(zip(*data.values()))\n"
   ]
  },
  {
   "cell_type": "code",
   "execution_count": 7,
   "id": "d82257bd-6178-4b1a-bc13-3fb35d4f55ba",
   "metadata": {},
   "outputs": [],
   "source": [
    "for i in range(len(data['Word'])):\n",
    "    data['Word'][i] = data['Word'][i].strip()\n",
    "\n",
    "\n",
    "n = len(max(data[\"Word\"], key=len))\n",
    "c = Counter(s[j:i] for s in data[\"Word\"] for j in range(len(s)+1) for i in range(0, min(n, 1+len(s))))\n",
    "\n",
    "for key in copy.deepcopy(list(c.keys())):\n",
    "    if (len(key) < 2):\n",
    "        del c[key]\n",
    "    \n",
    "for key, count in dropwhile(lambda key_count: key_count[1] >= 2, c.most_common()):\n",
    "    del c[key]\n",
    "    \n",
    "#print(c)"
   ]
  },
  {
   "cell_type": "code",
   "execution_count": 8,
   "id": "1e3dd403-c8bb-4c5b-b66f-67d39cf018bd",
   "metadata": {},
   "outputs": [],
   "source": [
    "def findPatterns(words):\n",
    "    n = len(max(words, key=len))\n",
    "    c = Counter(s[j:i] for s in words for j in range(len(s)+1) for i in range(0, min(n+1, 1+len(s))))\n",
    "\n",
    "    for key in copy.deepcopy(list(c.keys())):\n",
    "        if (len(key) < 2):\n",
    "            del c[key]\n",
    "    \n",
    "    for key, count in dropwhile(lambda key_count: key_count[1] >= 2, c.most_common()):\n",
    "        del c[key]\n",
    "    \n",
    "    return c"
   ]
  },
  {
   "cell_type": "code",
   "execution_count": 9,
   "id": "c7efa7b6-2a44-4343-be98-721e8d72cf68",
   "metadata": {},
   "outputs": [],
   "source": [
    "my_file = open(\"Valid_Words.txt\", \"r\")\n",
    "  \n",
    "# reading the file\n",
    "dataFile = my_file.read().split('\\n')\n",
    "  \n",
    "dataFile.pop(len(dataFile)-1)\n",
    "\n",
    "pat = findPatterns(dataFile)"
   ]
  },
  {
   "cell_type": "code",
   "execution_count": 10,
   "id": "e1153dc1-aa46-4cc0-8c9c-9d95d32a2bb2",
   "metadata": {},
   "outputs": [],
   "source": [
    "with open('patterns.csv','w') as csvfile:\n",
    "    writer=csv.writer(csvfile)\n",
    "    writer.writerows(pat.items())"
   ]
  },
  {
   "cell_type": "code",
   "execution_count": 11,
   "id": "7b8c920e-5824-49b0-a767-0f0ef045a978",
   "metadata": {},
   "outputs": [],
   "source": [
    "word_list_tmp = words.words()\n",
    "word_list = list(map(lambda x: x.lower(), word_list_tmp ))\n",
    "word_list = list(set(word_list))\n",
    "word_list = list(set(data[\"Word\"]).union(set(word_list)))\n"
   ]
  },
  {
   "cell_type": "code",
   "execution_count": 12,
   "id": "25843518-31a2-482e-8954-d769443a9c20",
   "metadata": {},
   "outputs": [],
   "source": [
    "# Program to write a dictionary of list to csv\n",
    "stuff = {}\n",
    "\n",
    "for i in word_list:\n",
    "    stuff[i] = word_frequency(i, 'en')\n",
    "    #stuff.append([i, word_frequency(i, 'en')])\n",
    "    \n",
    "with open('wordFreqTotal.csv','w') as csvfile:\n",
    "    writer=csv.writer(csvfile)\n",
    "    writer.writerows(stuff.items())"
   ]
  },
  {
   "cell_type": "code",
   "execution_count": 13,
   "id": "25e59c85-081f-4632-9d4c-09dee58ec88d",
   "metadata": {},
   "outputs": [],
   "source": [
    "pat = findPatterns(word_list)\n",
    "\n",
    "with open('patternsNew.csv','w') as csvfile:\n",
    "    writer=csv.writer(csvfile)\n",
    "    writer.writerows(pat.items())"
   ]
  },
  {
   "cell_type": "code",
   "execution_count": 14,
   "id": "61f1ef06-cd92-4f99-8f3d-46e07f5dde4b",
   "metadata": {},
   "outputs": [],
   "source": [
    "#Get combinations without order\n",
    "\n",
    "pat2 = {}\n",
    "pat3 = {}\n",
    "pat4 = {}\n",
    "\n",
    "for key in copy.deepcopy(list(pat.keys())):\n",
    "    if (len(key) == 2):\n",
    "        combs = [''.join(comb) for comb in product(list(key), repeat=len(list(key)))]\n",
    "        for el in combs:\n",
    "            if el in pat2:\n",
    "                break\n",
    "            pat2[key] = pat[key]\n",
    "    elif (len(key) == 3):\n",
    "        combs = [''.join(comb) for comb in product(list(key), repeat=len(list(key)))]\n",
    "        for el in combs:\n",
    "            if el in pat3:\n",
    "                break\n",
    "            pat3[key] = pat[key]\n",
    "    elif (len(key) == 4):\n",
    "        combs = [''.join(comb) for comb in product(list(key), repeat=len(list(key)))]\n",
    "        for el in combs:\n",
    "            if el in pat4:\n",
    "                break\n",
    "            pat4[key] = pat[key]\n",
    "\n",
    "\n",
    "#Normalize each of the pattern length dictionaries\n",
    "\n",
    "maxVal2 = pat2[max(pat2, key=pat2.get)]\n",
    "pat2 = {k: v/maxVal2 for k, v in pat2.items()}\n",
    "\n",
    "maxVal3 = pat3[max(pat3, key=pat3.get)]\n",
    "pat3 = {k: v/maxVal3 for k, v in pat3.items()}\n",
    "\n",
    "maxVal4 = pat4[max(pat4, key=pat4.get)]\n",
    "pat4 = {k: v/maxVal4 for k, v in pat4.items()}\n",
    "\n",
    "maxVal = pat[max(pat, key=pat.get)]\n",
    "pat = {k: v/maxVal for k, v in pat.items()}\n"
   ]
  },
  {
   "cell_type": "code",
   "execution_count": 15,
   "id": "cfd584c6-7207-4c89-aabd-09461711e526",
   "metadata": {},
   "outputs": [],
   "source": [
    "def weightFunction(x):    \n",
    "    if (x < 10**(-5)):\n",
    "        #return 3*10**(-3)\n",
    "        return 5*10**(-3)\n",
    "    elif (10**(-5) < x and x < 5*(10**(-5))):\n",
    "        #return 5 * 10**(-3)\n",
    "        return 7 * 10**(-3)\n",
    "    elif (5*(10^(-5) < x and x < 10**(-4))):\n",
    "        #return 9*10**(-3)\n",
    "        return 8*10**(-3)\n",
    "    elif (10**(-4) < x and x < 9 * (10**(-4))):\n",
    "        #return 10**(-2)\n",
    "        return 9*10**(-3)\n",
    "    elif (9*(10**(-4)) < x and x < 5 * (10**(-3))): # was added\n",
    "        #return 10**(-2)\n",
    "        return 9.5*10**(-3)\n",
    "    else:\n",
    "        #return 5*10**(-2)\n",
    "        return 10**(-2)\n",
    "    \n",
    "def weightFunctionOld(x):    \n",
    "    if (x < 10**(-5)):\n",
    "        return 3*10**(-3)\n",
    "        #return 5*10**(-3)\n",
    "    elif (10**(-5) < x and x < 5*(10**(-5))):\n",
    "        return 5 * 10**(-3)\n",
    "        #return 7 * 10**(-3)\n",
    "    elif (5*(10^(-5) < x and x < 10**(-4))):\n",
    "        return 9*10**(-3)\n",
    "        #return 8*10**(-3)\n",
    "    elif (10**(-4) < x and x < 5 * (10**(-4))):\n",
    "        return 10**(-2)\n",
    "        #return 9*10**(-3)\n",
    "    else:\n",
    "        return 5*10**(-2)\n",
    "        #return 10**(-2)\n",
    "\n",
    "def wordFreqScore(word):\n",
    "    score = 0\n",
    "    words = [word]\n",
    "    n = len(max(words, key=len))\n",
    "    c = Counter(s[j:i] for s in words for j in range(len(s)+1) for i in range(0, min(n+1, 1+len(s))))\n",
    "\n",
    "    for key in copy.deepcopy(list(c.keys())):\n",
    "        if (len(key) < 2):\n",
    "            del c[key]\n",
    "    \n",
    "    for key, count in dropwhile(lambda key_count: key_count[1] >= 0, c.most_common()):\n",
    "        del c[key]\n",
    "        \n",
    "    for key in c.keys():\n",
    "        if (key in pat):\n",
    "            if (len(key) == 2):\n",
    "                score += 2*pat[key]\n",
    "            elif (len(key) == 3):\n",
    "                score += 2*1.15*(pat[key]*maxVal)/maxVal3\n",
    "            elif (len(key) == 4):\n",
    "                score += 2*1.2*(pat[key]*maxVal)/maxVal4\n",
    "    \n",
    "    #print(score)\n",
    "    score = score  * weightFunction(word_frequency(word, 'en'))\n",
    "    \n",
    "    return score"
   ]
  },
  {
   "cell_type": "code",
   "execution_count": 16,
   "id": "cf24d297-8bce-4403-93bc-4ec364687e10",
   "metadata": {},
   "outputs": [
    {
     "name": "stdout",
     "output_type": "stream",
     "text": [
      "0.0034948802050537163\n",
      "0.005\n",
      "0.04963821111753883\n",
      "0.0095\n"
     ]
    }
   ],
   "source": [
    "print(wordFreqScore(\"mummy\"))\n",
    "print(weightFunction(word_frequency(\"mummy\", 'en')))\n",
    "print(wordFreqScore(\"where\"))\n",
    "print(weightFunction(word_frequency(\"where\", 'en')))"
   ]
  },
  {
   "cell_type": "code",
   "execution_count": 17,
   "id": "28fdda64-77e3-426e-83cc-d455cc0e9b78",
   "metadata": {},
   "outputs": [
    {
     "data": {
      "text/plain": [
       "['manly', '4.34']"
      ]
     },
     "execution_count": 17,
     "metadata": {},
     "output_type": "execute_result"
    }
   ],
   "source": [
    "file = open(\"UsefulData.csv\", \"r\")\n",
    "dataScore = list(csv.reader(file, delimiter=\",\"))\n",
    "file.close()\n",
    "\n",
    "dataScore.pop(0)\n",
    "dataScore[0]"
   ]
  },
  {
   "cell_type": "code",
   "execution_count": 18,
   "id": "a2e32c0c-71c5-42ba-a302-8eec60530aff",
   "metadata": {},
   "outputs": [],
   "source": [
    "scoreData = {}\n",
    "\n",
    "for i in dataScore:\n",
    "    scoreData[i[0]] = i[1]\n"
   ]
  },
  {
   "cell_type": "code",
   "execution_count": 19,
   "id": "5de26a8a-0e81-45e0-9994-75831224b651",
   "metadata": {},
   "outputs": [],
   "source": [
    "def wordFreqScoreData(word):\n",
    "    retList = []\n",
    "    score1 = 0\n",
    "    score2 = 0\n",
    "    score3 = 0\n",
    "    words = [word]\n",
    "    n = len(max(words, key=len))\n",
    "    c = Counter(s[j:i] for s in words for j in range(len(s)+1) for i in range(0, min(n+1, 1+len(s))))\n",
    "\n",
    "    for key in copy.deepcopy(list(c.keys())):\n",
    "        if (len(key) < 2):\n",
    "            del c[key]\n",
    "    \n",
    "    for key, count in dropwhile(lambda key_count: key_count[1] >= 0, c.most_common()):\n",
    "        del c[key]\n",
    "        \n",
    "    for key in c.keys():\n",
    "        if (len(key) == 2):\n",
    "            if (key in pat):\n",
    "                score1 += pat[key]\n",
    "    for key in c.keys():\n",
    "        if (len(key) == 3):\n",
    "            if (key in pat):\n",
    "                score2 += (pat[key]*maxVal)/maxVal3\n",
    "    for key in c.keys():\n",
    "        if (len(key) == 4):\n",
    "            if (key in pat):\n",
    "                score3 += (pat[key]*maxVal)/maxVal4\n",
    "    retList.append([word, score1, score2, score3, weightFunction(word_frequency(word, 'en')), scoreData[word]])\n",
    "    \n",
    "    #print(score)\n",
    "    #score = score  * weightFunction(word_frequency(word, 'en'))\n",
    "    \n",
    "    return retList\n",
    "\n",
    "def wordFreqScoreDataNew(word):\n",
    "    retList = []\n",
    "    score1 = 0\n",
    "    score2 = 0\n",
    "    score3 = 0\n",
    "    words = [word]\n",
    "    n = len(max(words, key=len))\n",
    "    c = Counter(s[j:i] for s in words for j in range(len(s)+1) for i in range(0, min(n+1, 1+len(s))))\n",
    "\n",
    "    for key in copy.deepcopy(list(c.keys())):\n",
    "        if (len(key) < 2):\n",
    "            del c[key]\n",
    "    \n",
    "    for key, count in dropwhile(lambda key_count: key_count[1] >= 0, c.most_common()):\n",
    "        del c[key]\n",
    "        \n",
    "    for key in c.keys():\n",
    "        if (len(key) == 2):\n",
    "            if (key in pat):\n",
    "                score1 += pat[key]\n",
    "    for key in c.keys():\n",
    "        if (len(key) == 3):\n",
    "            if (key in pat):\n",
    "                score2 += (pat[key]*maxVal)/maxVal3\n",
    "    for key in c.keys():\n",
    "        if (len(key) == 4):\n",
    "            if (key in pat):\n",
    "                score3 += (pat[key]*maxVal)/maxVal4\n",
    "    retList.append([word, score1, score2, score3, weightFunction(word_frequency(word, 'en')), 0])\n",
    "    \n",
    "    #print(score)\n",
    "    #score = score  * weightFunction(word_frequency(word, 'en'))\n",
    "    \n",
    "    return retList\n",
    "\n",
    "def wordFreqScoreDataOld(word):\n",
    "    retList = []\n",
    "    score1 = 0\n",
    "    score2 = 0\n",
    "    score3 = 0\n",
    "    words = [word]\n",
    "    n = len(max(words, key=len))\n",
    "    c = Counter(s[j:i] for s in words for j in range(len(s)+1) for i in range(0, min(n+1, 1+len(s))))\n",
    "\n",
    "    for key in copy.deepcopy(list(c.keys())):\n",
    "        if (len(key) < 2):\n",
    "            del c[key]\n",
    "    \n",
    "    for key, count in dropwhile(lambda key_count: key_count[1] >= 0, c.most_common()):\n",
    "        del c[key]\n",
    "        \n",
    "    for key in c.keys():\n",
    "        if (len(key) == 2):\n",
    "            if (key in pat):\n",
    "                score1 += pat[key]\n",
    "    for key in c.keys():\n",
    "        if (len(key) == 3):\n",
    "            if (key in pat):\n",
    "                score2 += (pat[key]*maxVal)/maxVal3\n",
    "    for key in c.keys():\n",
    "        if (len(key) == 4):\n",
    "            if (key in pat):\n",
    "                score3 += (pat[key]*maxVal)/maxVal4\n",
    "    retList.append([word, score1, score2, score3, weightFunctionOld(word_frequency(word, 'en')), scoreData[word]])\n",
    "    \n",
    "    #print(score)\n",
    "    #score = score  * weightFunction(word_frequency(word, 'en'))\n",
    "    \n",
    "    return retList"
   ]
  },
  {
   "cell_type": "code",
   "execution_count": 20,
   "id": "052f4095-4da9-4d99-833b-e25ddea555f7",
   "metadata": {},
   "outputs": [
    {
     "name": "stdout",
     "output_type": "stream",
     "text": [
      "[['spell', 0.9693441345268181, 0.3865523218684427, 0.032943391152346374, 0.007, '4.09']]\n"
     ]
    }
   ],
   "source": [
    "print(wordFreqScoreData(\"spell\"))"
   ]
  },
  {
   "cell_type": "code",
   "execution_count": 21,
   "id": "f528d1ff-6837-4106-92c5-a867bc82ad5c",
   "metadata": {},
   "outputs": [],
   "source": [
    "toCSV = []\n",
    "for key in scoreData.keys():\n",
    "    toCSV.append(wordFreqScoreData(key))\n",
    "\n",
    "\n",
    "for i in range(len(toCSV)):\n",
    "    toCSV[i] = toCSV[i][0]\n",
    "toCSV.insert(0, [\"Word\", \"2L Score\", \"3 L Score\", \"4L Score\", \"f(Freq)\", \"AVG Val (Actual)\"])"
   ]
  },
  {
   "cell_type": "code",
   "execution_count": 22,
   "id": "28095400-07cf-4a7f-974d-21cfa609025e",
   "metadata": {},
   "outputs": [
    {
     "name": "stdout",
     "output_type": "stream",
     "text": [
      "0.0940223424104296\n",
      "1.0\n",
      "0.546586051345032\n",
      "0.09440022673059209\n",
      "[['eerie', 1.7350086204860538, 0.5282364747741994, 0.023262068038187443, 0.005, 0]]\n"
     ]
    }
   ],
   "source": [
    "toCSV3 = wordFreqScoreDataNew('eerie')\n",
    "print(toCSV3)"
   ]
  },
  {
   "cell_type": "code",
   "execution_count": 23,
   "id": "51eb6b69-665a-4e51-94da-c12a0e9c1c0c",
   "metadata": {},
   "outputs": [],
   "source": [
    "with open('projected.csv', 'w', newline='') as csvfile:\n",
    "    writer = csv.writer(csvfile)\n",
    "    writer.writerows(toCSV)\n",
    "  \n"
   ]
  },
  {
   "cell_type": "code",
   "execution_count": 24,
   "id": "3eb3d11f-3ec3-4594-af8c-eac051e00203",
   "metadata": {},
   "outputs": [],
   "source": [
    "toCSV2 = []\n",
    "for key in scoreData.keys():\n",
    "    toCSV2.append(wordFreqScoreDataOld(key))\n",
    "\n",
    "for i in range(len(toCSV2)):\n",
    "    toCSV2[i] = toCSV2[i][0]\n",
    "toCSV2.insert(0, [\"Word\", \"2L Score\", \"3 L Score\", \"4L Score\", \"f(Freq)\", \"AVG Val (Actual)\"])\n",
    "\n",
    "with open('oldProjected.csv', 'w', newline='') as csvfile:\n",
    "    writer = csv.writer(csvfile)\n",
    "    writer.writerows(toCSV2)"
   ]
  },
  {
   "cell_type": "code",
   "execution_count": 25,
   "id": "99e524bd-e2db-4703-a503-870ba2c56919",
   "metadata": {},
   "outputs": [],
   "source": [
    "file = open(\"smoothedVTime.csv\", \"r\")\n",
    "toPlot = list(csv.reader(file, delimiter=\",\"))\n",
    "file.close()"
   ]
  },
  {
   "cell_type": "code",
   "execution_count": 26,
   "id": "06a73b98-2e38-433b-82b6-acf75c85de7f",
   "metadata": {},
   "outputs": [
    {
     "name": "stdout",
     "output_type": "stream",
     "text": [
      "(array([-5.11214525e-01, -1.68472418e+02,  1.99379717e+04]), array([[1.04481867e-02, 6.05994845e-01, 5.75695109e+00],\n",
      "       [6.05994845e-01, 3.75695920e+01, 4.04137985e+02],\n",
      "       [5.75695109e+00, 4.04137985e+02, 5.91123787e+03]]))\n"
     ]
    }
   ],
   "source": [
    "toPlotx =[]\n",
    "toPloty =[]\n",
    "\n",
    "for i in toPlot:\n",
    "    toPlotx.append(i[0])\n",
    "    toPloty.append(i[1])\n",
    "    \n",
    "#toPlotx.reverse()\n",
    "toPloty.reverse()\n",
    "toPlotx = [int(x) - (301+58) for x in toPlotx]\n",
    "\n",
    "#print(toPlotx[300:])\n",
    "#print(toPloty[300:])\n",
    "#print(toPloty[0:len(toPloty)-220])\n",
    "\n",
    "def func(x, a, b, c):\n",
    "    return a*x**2+b*x+c\n",
    "\n",
    "#plt.plot(toPlotx[190:], toPloty[0:len(toPloty)-190])\n",
    "\n",
    "params = scipy.optimize.curve_fit(func, toPlotx[300:], toPloty[300:])\n",
    "\n",
    "print(params)"
   ]
  },
  {
   "cell_type": "code",
   "execution_count": 27,
   "id": "46bb801c-e359-4842-8991-f7f847818ca1",
   "metadata": {},
   "outputs": [],
   "source": [
    "#https://www.desmos.com/calculator/ezt6h1gern"
   ]
  },
  {
   "cell_type": "code",
   "execution_count": 28,
   "id": "28f68d2e-ae0a-484a-a605-c39febd78d59",
   "metadata": {},
   "outputs": [],
   "source": [
    "def linearfunc(time):\n",
    "    return (-109*((time+174)/(1.019)))+39346+15*time**(1.25)+8*time\n",
    "\n",
    "def loyalfunc(time):\n",
    "    num = 15554/(math.log(time,10))\n",
    "    num = num * math.e**(1/time**4)\n",
    "    return num\n",
    "\n",
    "def distanceFunc(p1, p2):\n",
    "    return abs(p1 - p2)\n",
    "\n",
    "def stochModel(time, flips, curPops):\n",
    "    up = 0.4\n",
    "    down = 0.60\n",
    "    recent = [0, 0] # [up, down]\n",
    "    \n",
    "    if (isinstance(curPops, list)):\n",
    "        curPop = curPops[0]\n",
    "    else:\n",
    "        curPop = curPops\n",
    "    \n",
    "    for i in flips[-3:]:\n",
    "        if (i == 0):\n",
    "            recent[1] += 1\n",
    "        elif (i == 1):\n",
    "            recent[0] += 1\n",
    "            \n",
    "    behav = recent.index(max(recent))\n",
    "    \n",
    "    for i in range(max(recent)):\n",
    "        if (behav == 0):\n",
    "            down += 0.05\n",
    "            up -= 0.05\n",
    "        elif (behav == 1):\n",
    "            up += 0.05\n",
    "            down -= 0.05\n",
    "            \n",
    "    dist = distanceFunc(curPop, predModel(time))\n",
    "    \n",
    "    if (dist > 300):\n",
    "        if ((curPop - predModel(time)) > 0):\n",
    "            down += 0.4\n",
    "            up -= 0.4\n",
    "        elif ((curPop - predModel(time)) < 0):\n",
    "            down -= 0.36\n",
    "            up += 0.36\n",
    "    if (down > 1):\n",
    "        down ==1\n",
    "    elif (up > 1):\n",
    "        up == 1\n",
    "    if (down == 1):\n",
    "        down -= 0.02\n",
    "        up += 0.02\n",
    "    elif (up == 1):\n",
    "        down += 0.02\n",
    "        up -= 0.02\n",
    "    \n",
    "    curFlip = random.choices([0,1], [down, up])[0]\n",
    "    \n",
    "    flips.append(curFlip)\n",
    "    \n",
    "    if (curFlip == 0):\n",
    "        #curPop -= 100\n",
    "        curPop -= random.uniform(80, 150)\n",
    "    elif (curFlip == 1):\n",
    "        curPop += random.uniform(80, 150)\n",
    "        \n",
    "    \n",
    "    return [flips, curFlip, curPop]\n",
    "\n",
    "def predModel(time): \n",
    "    # time here is days since data collection stopped,\n",
    "    # 12/31/22\n",
    "    if (time > -100 and time < 700):\n",
    "        return linearfunc(time)\n",
    "    elif (time > 699):\n",
    "        return loyalfunc(time)\n",
    "    \n",
    "\n",
    "def getPop(time):\n",
    "    flips = [[], [], predModel(0)]\n",
    "    \n",
    "    for i in range(time):\n",
    "        flips = stochModel(i, flips[0], flips[2])\n",
    "        \n",
    "    return flips\n",
    "    "
   ]
  },
  {
   "cell_type": "code",
   "execution_count": 29,
   "id": "adbee5c7-1f39-4fb6-a397-82fddcc96193",
   "metadata": {},
   "outputs": [
    {
     "name": "stdout",
     "output_type": "stream",
     "text": [
      "Time = 10\n",
      "20261.78790085956\n",
      "20010.700694626546\n",
      "Time = 30\n",
      "19004.911042970503\n",
      "18817.762770632497\n",
      "Time = 50\n",
      "18109.95296563153\n",
      "17779.61513211001\n",
      "Time = 60\n",
      "17365.336414368343\n",
      "17300.419933006742\n",
      "Time = 70\n",
      "17018.441469958943\n",
      "16843.03485351814\n",
      "Time = 100\n",
      "15900.148759968693\n",
      "15580.28989555188\n",
      "Time = 1000\n",
      "4861.80409660975\n",
      "5184.666666671853\n",
      "Time = 10000\n",
      "3667.2639551700304\n",
      "3888.5\n"
     ]
    }
   ],
   "source": [
    "time = []\n",
    "pop1 = []\n",
    "pop2 = []\n",
    "\n",
    "for i in range(125):\n",
    "    time.append(i)\n",
    "    pop1.append(getPop(i)[2])\n",
    "    pop2.append(predModel(i))\n",
    "\n",
    "\n",
    "print(\"Time = 10\")\n",
    "print(getPop(10)[2])\n",
    "print(predModel(10))\n",
    "\n",
    "print(\"Time = 30\")\n",
    "print(getPop(30)[2])\n",
    "print(predModel(30))\n",
    "\n",
    "print(\"Time = 50\")\n",
    "print(getPop(50)[2])\n",
    "print(predModel(50))\n",
    "\n",
    "print(\"Time = 60\")\n",
    "print(getPop(60)[2])\n",
    "print(predModel(60))\n",
    "\n",
    "print(\"Time = 70\")\n",
    "print(getPop(70)[2])\n",
    "print(predModel(70))\n",
    "\n",
    "print(\"Time = 100\")\n",
    "print(getPop(100)[2])\n",
    "print(predModel(100))\n",
    "\n",
    "print(\"Time = 1000\")\n",
    "print(getPop(1000)[2])\n",
    "print(predModel(1000))\n",
    "\n",
    "print(\"Time = 10000\")\n",
    "print(getPop(10000)[2])\n",
    "print(predModel(10000))"
   ]
  },
  {
   "cell_type": "code",
   "execution_count": 30,
   "id": "ae4d397a-51cb-4d4a-8b73-db06dcd17b18",
   "metadata": {},
   "outputs": [
    {
     "data": {
      "text/plain": [
       "<matplotlib.legend.Legend at 0x7fd8e29b59d0>"
      ]
     },
     "execution_count": 30,
     "metadata": {},
     "output_type": "execute_result"
    },
    {
     "data": {
      "image/png": "[encoded data removed]",
      "text/plain": [
       "<Figure size 640x480 with 1 Axes>"
      ]
     },
     "metadata": {},
     "output_type": "display_data"
    }
   ],
   "source": [
    "plt.plot(time, pop2, label = \"Long-term Model\")\n",
    "plt.plot(time, pop1, label = \"Stochastic Model\")\n",
    "#plt.xscale(\"log\")\n",
    "#plt.yscale(\"log\")\n",
    "plt.xlabel(\"Days since 12/31/22\")\n",
    "plt.ylabel(\"Population\")\n",
    "#plt.plot(ns, 1/(ns**2), label = \"1/n^2 scaling\")\n",
    "plt.legend()"
   ]
  },
  {
   "cell_type": "code",
   "execution_count": 31,
   "id": "62b67f42-52f5-4891-a9d3-e7a17f1edbd6",
   "metadata": {},
   "outputs": [],
   "source": [
    "with open(\"longModel.csv\", \"w\", newline=\"\") as f:\n",
    "    writer = csv.writer(f)\n",
    "    writer.writerows([time, pop2])"
   ]
  },
  {
   "cell_type": "code",
   "execution_count": 32,
   "id": "47b8192e-c4a7-4db9-883d-6188a51799cd",
   "metadata": {},
   "outputs": [],
   "source": [
    "val60 = []\n",
    "\n",
    "for j in range(10000):\n",
    "    time = []\n",
    "    pop1 = []\n",
    "    pop2 = []\n",
    "    for i in range(60):\n",
    "        time.append(i)\n",
    "        pop1.append(getPop(i)[2])\n",
    "        pop2.append(predModel(i))\n",
    "    val60.append(pop1[59])"
   ]
  },
  {
   "cell_type": "code",
   "execution_count": 33,
   "id": "62d8afaa-da42-4d5e-adf9-11b8c382b4db",
   "metadata": {},
   "outputs": [
    {
     "name": "stdout",
     "output_type": "stream",
     "text": [
      "18314.64614322232\n",
      "16898.966396071497\n",
      "17645.397010806926\n"
     ]
    }
   ],
   "source": [
    "print(max(val60))\n",
    "print(min(val60))\n",
    "print(sum(val60)/len(val60))"
   ]
  },
  {
   "cell_type": "code",
   "execution_count": 34,
   "id": "df4df57e-ed95-479c-b1d1-c01aad54aaf9",
   "metadata": {},
   "outputs": [],
   "source": [
    "def labelFunction(x):    \n",
    "    if (x < 10**(-5)):\n",
    "        #return 3*10**(-3)\n",
    "        return 1\n",
    "    elif (10**(-5) < x and x < 5*(10**(-5))):\n",
    "        #return 5 * 10**(-3)\n",
    "        return 2\n",
    "    elif (5*(10^(-5) < x and x < 10**(-4))):\n",
    "        #return 9*10**(-3)\n",
    "        return 3\n",
    "    elif (10**(-4) < x and x < 9 * (10**(-4))):\n",
    "        #return 10**(-2)\n",
    "        return 4\n",
    "    elif (9*(10**(-4)) < x and x < 5 * (10**(-3))): # was added\n",
    "        #return 10**(-2)\n",
    "        return 5\n",
    "    else:\n",
    "        #return 5*10**(-2)\n",
    "        return 6\n",
    "    \n",
    "def wordFreqScoreData2(word):\n",
    "    retList = []\n",
    "    score1 = 0\n",
    "    score2 = 0\n",
    "    score3 = 0\n",
    "    words = [word]\n",
    "    n = len(max(words, key=len))\n",
    "    c = Counter(s[j:i] for s in words for j in range(len(s)+1) for i in range(0, min(n+1, 1+len(s))))\n",
    "\n",
    "    for key in copy.deepcopy(list(c.keys())):\n",
    "        if (len(key) < 2):\n",
    "            del c[key]\n",
    "    \n",
    "    for key, count in dropwhile(lambda key_count: key_count[1] >= 0, c.most_common()):\n",
    "        del c[key]\n",
    "        \n",
    "    for key in c.keys():\n",
    "        if (len(key) == 2):\n",
    "            if (key in pat):\n",
    "                score1 += pat[key]\n",
    "    for key in c.keys():\n",
    "        if (len(key) == 3):\n",
    "            if (key in pat):\n",
    "                score2 += (pat[key]*maxVal)/maxVal3\n",
    "    for key in c.keys():\n",
    "        if (len(key) == 4):\n",
    "            if (key in pat):\n",
    "                score3 += (pat[key]*maxVal)/maxVal4\n",
    "    retList.append([word, score1, score2, score3, labelFunction(word_frequency(word, 'en')), scoreData[word]])\n",
    "    \n",
    "    #print(score)\n",
    "    #score = score  * weightFunction(word_frequency(word, 'en'))\n",
    "    \n",
    "    return retList"
   ]
  },
  {
   "cell_type": "code",
   "execution_count": 35,
   "id": "ae2e0396-b8e1-4e43-acb3-5f177b8646c0",
   "metadata": {},
   "outputs": [],
   "source": [
    "toCSV = []\n",
    "for key in scoreData.keys():\n",
    "    toCSV.append(wordFreqScoreData2(key))\n",
    "\n",
    "for i in range(len(toCSV)):\n",
    "    toCSV[i] = toCSV[i][0]\n",
    "toCSV.insert(0, [\"Word\", \"2L Score\", \"3 L Score\", \"4L Score\", \"f(Freq)\", \"AVG Val (Actual)\"])"
   ]
  },
  {
   "cell_type": "code",
   "execution_count": 36,
   "id": "21e52a0d-9bd2-46d8-85c4-d1cb3781948c",
   "metadata": {},
   "outputs": [],
   "source": [
    "with open('strata.csv', 'w', newline='') as csvfile:\n",
    "    writer = csv.writer(csvfile)\n",
    "    writer.writerows(toCSV)"
   ]
  },
  {
   "cell_type": "code",
   "execution_count": 37,
   "id": "1783343c-ae7a-493b-8be7-70689d7b7dc8",
   "metadata": {},
   "outputs": [],
   "source": [
    "letters = list(string.ascii_lowercase)\n",
    "letterFreq = {}\n",
    "length = len(word_list)\n",
    "\n",
    "for i in letters:\n",
    "    count = 0\n",
    "    for j in word_list:\n",
    "        if(i in j):\n",
    "            count += 1\n",
    "    letterFreq[i] = count/length"
   ]
  },
  {
   "cell_type": "code",
   "execution_count": 38,
   "id": "b566ddd8-f04d-4664-af7b-c6f046b8677d",
   "metadata": {},
   "outputs": [],
   "source": [
    "with open('letterFreq.csv','w') as csvfile:\n",
    "    writer=csv.writer(csvfile)\n",
    "    writer.writerows(letterFreq.items())"
   ]
  },
  {
   "cell_type": "code",
   "execution_count": 39,
   "id": "3f170d32-6e65-41cc-98dc-69e7ec54c714",
   "metadata": {},
   "outputs": [],
   "source": [
    "letterComb = {}\n",
    "\n",
    "for i in data['Word']:\n",
    "    counts = []\n",
    "    for j in range(len(letters)):\n",
    "        if (letters[j] in i):\n",
    "            counts.append(1)\n",
    "        else:\n",
    "            counts.append(0)\n",
    "    letterComb[i] = counts\n",
    "            "
   ]
  },
  {
   "cell_type": "code",
   "execution_count": null,
   "id": "da487172-bd23-42d4-b043-ac8dd5927d89",
   "metadata": {},
   "outputs": [],
   "source": []
  }
 ],
 "metadata": {
  "kernelspec": {
   "display_name": "Python 3 (ipykernel)",
   "language": "python",
   "name": "python3"
  },
  "language_info": {
   "codemirror_mode": {
    "name": "ipython",
    "version": 3
   },
   "file_extension": ".py",
   "mimetype": "text/x-python",
   "name": "python",
   "nbconvert_exporter": "python",
   "pygments_lexer": "ipython3",
   "version": "3.9.13"
  }
 },
 "nbformat": 4,
 "nbformat_minor": 5
}
