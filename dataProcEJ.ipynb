{
 "cells": [
  {
   "cell_type": "code",
   "execution_count": 1,
   "id": "5714227e-020a-4cd5-8161-9298f692e859",
   "metadata": {},
   "outputs": [
    {
     "data": {
      "text/html": [
       "<style>\n",
       ".list-inline {list-style: none; margin:0; padding: 0}\n",
       ".list-inline>li {display: inline-block}\n",
       ".list-inline>li:not(:last-child)::after {content: \"\\00b7\"; padding: 0 .5ex}\n",
       "</style>\n",
       "<ol class=list-inline><li>'MCM_2023'</li><li>'Untitled.ipynb'</li><li>'src'</li><li>'tutorials'</li></ol>\n"
      ],
      "text/latex": [
       "\\begin{enumerate*}\n",
       "\\item 'MCM\\_2023'\n",
       "\\item 'Untitled.ipynb'\n",
       "\\item 'src'\n",
       "\\item 'tutorials'\n",
       "\\end{enumerate*}\n"
      ],
      "text/markdown": [
       "1. 'MCM_2023'\n",
       "2. 'Untitled.ipynb'\n",
       "3. 'src'\n",
       "4. 'tutorials'\n",
       "\n",
       "\n"
      ],
      "text/plain": [
       "[1] \"MCM_2023\"       \"Untitled.ipynb\" \"src\"            \"tutorials\"     "
      ]
     },
     "metadata": {},
     "output_type": "display_data"
    },
    {
     "data": {
      "text/html": [],
      "text/latex": [],
      "text/markdown": [],
      "text/plain": [
       "character(0)"
      ]
     },
     "metadata": {},
     "output_type": "display_data"
    },
    {
     "data": {
      "text/html": [],
      "text/latex": [],
      "text/markdown": [],
      "text/plain": [
       "character(0)"
      ]
     },
     "metadata": {},
     "output_type": "display_data"
    },
    {
     "data": {
      "text/html": [
       "'/home/jupyter'"
      ],
      "text/latex": [
       "'/home/jupyter'"
      ],
      "text/markdown": [
       "'/home/jupyter'"
      ],
      "text/plain": [
       "[1] \"/home/jupyter\""
      ]
     },
     "metadata": {},
     "output_type": "display_data"
    },
    {
     "data": {
      "text/html": [
       "'/home/jupyter/MCM_2023'"
      ],
      "text/latex": [
       "'/home/jupyter/MCM\\_2023'"
      ],
      "text/markdown": [
       "'/home/jupyter/MCM_2023'"
      ],
      "text/plain": [
       "[1] \"/home/jupyter/MCM_2023\""
      ]
     },
     "metadata": {},
     "output_type": "display_data"
    }
   ],
   "source": [
    "system('ls', intern=TRUE)\n",
    "\n",
    "system(\"gsutil cp gs://mcm_2023_data/Problem_C_Data_Wordle.xlsx ~/MCM_2023\", intern=TRUE)\n",
    "system(\"gsutil cp gs://mcm_2023_data/Valid_Words.txt ~/MCM_2023\", intern=TRUE)\n",
    "\n",
    "getwd()\n",
    "setwd('~/MCM_2023')\n",
    "getwd()\n"
   ]
  },
  {
   "cell_type": "code",
   "execution_count": 2,
   "id": "f4e3a99f-0745-47bf-931f-1158e271aef4",
   "metadata": {},
   "outputs": [
    {
     "name": "stderr",
     "output_type": "stream",
     "text": [
      "\u001b[1m\u001b[22mNew names:\n",
      "\u001b[36m•\u001b[39m `` -> `...1`\n",
      "\u001b[36m•\u001b[39m `` -> `...2`\n",
      "\u001b[36m•\u001b[39m `` -> `...3`\n",
      "\u001b[36m•\u001b[39m `` -> `...4`\n",
      "\u001b[36m•\u001b[39m `` -> `...5`\n",
      "\u001b[36m•\u001b[39m `` -> `...7`\n",
      "\u001b[36m•\u001b[39m `` -> `...8`\n",
      "\u001b[36m•\u001b[39m `` -> `...9`\n",
      "\u001b[36m•\u001b[39m `` -> `...10`\n",
      "\u001b[36m•\u001b[39m `` -> `...11`\n",
      "\u001b[36m•\u001b[39m `` -> `...12`\n"
     ]
    },
    {
     "data": {
      "text/html": [
       "<table class=\"dataframe\">\n",
       "<caption>A tibble: 6 × 12</caption>\n",
       "<thead>\n",
       "\t<tr><th scope=col>...1</th><th scope=col>...2</th><th scope=col>...3</th><th scope=col>...4</th><th scope=col>...5</th><th scope=col>Percent in</th><th scope=col>...7</th><th scope=col>...8</th><th scope=col>...9</th><th scope=col>...10</th><th scope=col>...11</th><th scope=col>...12</th></tr>\n",
       "\t<tr><th scope=col>&lt;chr&gt;</th><th scope=col>&lt;chr&gt;</th><th scope=col>&lt;chr&gt;</th><th scope=col>&lt;chr&gt;</th><th scope=col>&lt;chr&gt;</th><th scope=col>&lt;chr&gt;</th><th scope=col>&lt;chr&gt;</th><th scope=col>&lt;chr&gt;</th><th scope=col>&lt;chr&gt;</th><th scope=col>&lt;chr&gt;</th><th scope=col>&lt;chr&gt;</th><th scope=col>&lt;chr&gt;</th></tr>\n",
       "</thead>\n",
       "<tbody>\n",
       "\t<tr><td>Date </td><td>Contest number</td><td>Word </td><td>Number of  reported results</td><td>Number in hard mode</td><td>1 try</td><td>2 tries</td><td>3 tries</td><td>4 tries</td><td>5 tries</td><td>6 tries</td><td>7 or more tries (X)</td></tr>\n",
       "\t<tr><td>44926</td><td>560           </td><td>manly</td><td>20380                      </td><td>1899               </td><td>0    </td><td>2      </td><td>17     </td><td>37     </td><td>29     </td><td>12     </td><td>2                  </td></tr>\n",
       "\t<tr><td>44925</td><td>559           </td><td>molar</td><td>21204                      </td><td>1973               </td><td>0    </td><td>4      </td><td>21     </td><td>38     </td><td>26     </td><td>9      </td><td>1                  </td></tr>\n",
       "\t<tr><td>44924</td><td>558           </td><td>havoc</td><td>20001                      </td><td>1919               </td><td>0    </td><td>2      </td><td>16     </td><td>38     </td><td>30     </td><td>12     </td><td>2                  </td></tr>\n",
       "\t<tr><td>44923</td><td>557           </td><td>impel</td><td>20160                      </td><td>1937               </td><td>0    </td><td>3      </td><td>21     </td><td>40     </td><td>25     </td><td>9      </td><td>1                  </td></tr>\n",
       "\t<tr><td>44922</td><td>556           </td><td>condo</td><td>20879                      </td><td>2012               </td><td>0    </td><td>2      </td><td>17     </td><td>35     </td><td>29     </td><td>14     </td><td>3                  </td></tr>\n",
       "</tbody>\n",
       "</table>\n"
      ],
      "text/latex": [
       "A tibble: 6 × 12\n",
       "\\begin{tabular}{llllllllllll}\n",
       " ...1 & ...2 & ...3 & ...4 & ...5 & Percent in & ...7 & ...8 & ...9 & ...10 & ...11 & ...12\\\\\n",
       " <chr> & <chr> & <chr> & <chr> & <chr> & <chr> & <chr> & <chr> & <chr> & <chr> & <chr> & <chr>\\\\\n",
       "\\hline\n",
       "\t Date  & Contest number & Word  & Number of  reported results & Number in hard mode & 1 try & 2 tries & 3 tries & 4 tries & 5 tries & 6 tries & 7 or more tries (X)\\\\\n",
       "\t 44926 & 560            & manly & 20380                       & 1899                & 0     & 2       & 17      & 37      & 29      & 12      & 2                  \\\\\n",
       "\t 44925 & 559            & molar & 21204                       & 1973                & 0     & 4       & 21      & 38      & 26      & 9       & 1                  \\\\\n",
       "\t 44924 & 558            & havoc & 20001                       & 1919                & 0     & 2       & 16      & 38      & 30      & 12      & 2                  \\\\\n",
       "\t 44923 & 557            & impel & 20160                       & 1937                & 0     & 3       & 21      & 40      & 25      & 9       & 1                  \\\\\n",
       "\t 44922 & 556            & condo & 20879                       & 2012                & 0     & 2       & 17      & 35      & 29      & 14      & 3                  \\\\\n",
       "\\end{tabular}\n"
      ],
      "text/markdown": [
       "\n",
       "A tibble: 6 × 12\n",
       "\n",
       "| ...1 &lt;chr&gt; | ...2 &lt;chr&gt; | ...3 &lt;chr&gt; | ...4 &lt;chr&gt; | ...5 &lt;chr&gt; | Percent in &lt;chr&gt; | ...7 &lt;chr&gt; | ...8 &lt;chr&gt; | ...9 &lt;chr&gt; | ...10 &lt;chr&gt; | ...11 &lt;chr&gt; | ...12 &lt;chr&gt; |\n",
       "|---|---|---|---|---|---|---|---|---|---|---|---|\n",
       "| Date  | Contest number | Word  | Number of  reported results | Number in hard mode | 1 try | 2 tries | 3 tries | 4 tries | 5 tries | 6 tries | 7 or more tries (X) |\n",
       "| 44926 | 560            | manly | 20380                       | 1899                | 0     | 2       | 17      | 37      | 29      | 12      | 2                   |\n",
       "| 44925 | 559            | molar | 21204                       | 1973                | 0     | 4       | 21      | 38      | 26      | 9       | 1                   |\n",
       "| 44924 | 558            | havoc | 20001                       | 1919                | 0     | 2       | 16      | 38      | 30      | 12      | 2                   |\n",
       "| 44923 | 557            | impel | 20160                       | 1937                | 0     | 3       | 21      | 40      | 25      | 9       | 1                   |\n",
       "| 44922 | 556            | condo | 20879                       | 2012                | 0     | 2       | 17      | 35      | 29      | 14      | 3                   |\n",
       "\n"
      ],
      "text/plain": [
       "  ...1  ...2           ...3  ...4                        ...5               \n",
       "1 Date  Contest number Word  Number of  reported results Number in hard mode\n",
       "2 44926 560            manly 20380                       1899               \n",
       "3 44925 559            molar 21204                       1973               \n",
       "4 44924 558            havoc 20001                       1919               \n",
       "5 44923 557            impel 20160                       1937               \n",
       "6 44922 556            condo 20879                       2012               \n",
       "  Percent in ...7    ...8    ...9    ...10   ...11   ...12              \n",
       "1 1 try      2 tries 3 tries 4 tries 5 tries 6 tries 7 or more tries (X)\n",
       "2 0          2       17      37      29      12      2                  \n",
       "3 0          4       21      38      26      9       1                  \n",
       "4 0          2       16      38      30      12      2                  \n",
       "5 0          3       21      40      25      9       1                  \n",
       "6 0          2       17      35      29      14      3                  "
      ]
     },
     "metadata": {},
     "output_type": "display_data"
    },
    {
     "data": {
      "text/html": [
       "<table class=\"dataframe\">\n",
       "<caption>A tibble: 6 × 12</caption>\n",
       "<thead>\n",
       "\t<tr><th scope=col>...1</th><th scope=col>...2</th><th scope=col>...3</th><th scope=col>...4</th><th scope=col>...5</th><th scope=col>Percent in</th><th scope=col>...7</th><th scope=col>...8</th><th scope=col>...9</th><th scope=col>...10</th><th scope=col>...11</th><th scope=col>...12</th></tr>\n",
       "\t<tr><th scope=col>&lt;chr&gt;</th><th scope=col>&lt;chr&gt;</th><th scope=col>&lt;chr&gt;</th><th scope=col>&lt;chr&gt;</th><th scope=col>&lt;chr&gt;</th><th scope=col>&lt;chr&gt;</th><th scope=col>&lt;chr&gt;</th><th scope=col>&lt;chr&gt;</th><th scope=col>&lt;chr&gt;</th><th scope=col>&lt;chr&gt;</th><th scope=col>&lt;chr&gt;</th><th scope=col>&lt;chr&gt;</th></tr>\n",
       "</thead>\n",
       "<tbody>\n",
       "\t<tr><td>44926</td><td>560</td><td>manly</td><td>20380</td><td>1899</td><td>0</td><td>2</td><td>17</td><td>37</td><td>29</td><td>12</td><td>2 </td></tr>\n",
       "\t<tr><td>44925</td><td>559</td><td>molar</td><td>21204</td><td>1973</td><td>0</td><td>4</td><td>21</td><td>38</td><td>26</td><td>9 </td><td>1 </td></tr>\n",
       "\t<tr><td>44924</td><td>558</td><td>havoc</td><td>20001</td><td>1919</td><td>0</td><td>2</td><td>16</td><td>38</td><td>30</td><td>12</td><td>2 </td></tr>\n",
       "\t<tr><td>44923</td><td>557</td><td>impel</td><td>20160</td><td>1937</td><td>0</td><td>3</td><td>21</td><td>40</td><td>25</td><td>9 </td><td>1 </td></tr>\n",
       "\t<tr><td>44922</td><td>556</td><td>condo</td><td>20879</td><td>2012</td><td>0</td><td>2</td><td>17</td><td>35</td><td>29</td><td>14</td><td>3 </td></tr>\n",
       "\t<tr><td>44921</td><td>555</td><td>judge</td><td>20011</td><td>2043</td><td>0</td><td>2</td><td>8 </td><td>16</td><td>26</td><td>33</td><td>14</td></tr>\n",
       "</tbody>\n",
       "</table>\n"
      ],
      "text/latex": [
       "A tibble: 6 × 12\n",
       "\\begin{tabular}{llllllllllll}\n",
       " ...1 & ...2 & ...3 & ...4 & ...5 & Percent in & ...7 & ...8 & ...9 & ...10 & ...11 & ...12\\\\\n",
       " <chr> & <chr> & <chr> & <chr> & <chr> & <chr> & <chr> & <chr> & <chr> & <chr> & <chr> & <chr>\\\\\n",
       "\\hline\n",
       "\t 44926 & 560 & manly & 20380 & 1899 & 0 & 2 & 17 & 37 & 29 & 12 & 2 \\\\\n",
       "\t 44925 & 559 & molar & 21204 & 1973 & 0 & 4 & 21 & 38 & 26 & 9  & 1 \\\\\n",
       "\t 44924 & 558 & havoc & 20001 & 1919 & 0 & 2 & 16 & 38 & 30 & 12 & 2 \\\\\n",
       "\t 44923 & 557 & impel & 20160 & 1937 & 0 & 3 & 21 & 40 & 25 & 9  & 1 \\\\\n",
       "\t 44922 & 556 & condo & 20879 & 2012 & 0 & 2 & 17 & 35 & 29 & 14 & 3 \\\\\n",
       "\t 44921 & 555 & judge & 20011 & 2043 & 0 & 2 & 8  & 16 & 26 & 33 & 14\\\\\n",
       "\\end{tabular}\n"
      ],
      "text/markdown": [
       "\n",
       "A tibble: 6 × 12\n",
       "\n",
       "| ...1 &lt;chr&gt; | ...2 &lt;chr&gt; | ...3 &lt;chr&gt; | ...4 &lt;chr&gt; | ...5 &lt;chr&gt; | Percent in &lt;chr&gt; | ...7 &lt;chr&gt; | ...8 &lt;chr&gt; | ...9 &lt;chr&gt; | ...10 &lt;chr&gt; | ...11 &lt;chr&gt; | ...12 &lt;chr&gt; |\n",
       "|---|---|---|---|---|---|---|---|---|---|---|---|\n",
       "| 44926 | 560 | manly | 20380 | 1899 | 0 | 2 | 17 | 37 | 29 | 12 | 2  |\n",
       "| 44925 | 559 | molar | 21204 | 1973 | 0 | 4 | 21 | 38 | 26 | 9  | 1  |\n",
       "| 44924 | 558 | havoc | 20001 | 1919 | 0 | 2 | 16 | 38 | 30 | 12 | 2  |\n",
       "| 44923 | 557 | impel | 20160 | 1937 | 0 | 3 | 21 | 40 | 25 | 9  | 1  |\n",
       "| 44922 | 556 | condo | 20879 | 2012 | 0 | 2 | 17 | 35 | 29 | 14 | 3  |\n",
       "| 44921 | 555 | judge | 20011 | 2043 | 0 | 2 | 8  | 16 | 26 | 33 | 14 |\n",
       "\n"
      ],
      "text/plain": [
       "  ...1  ...2 ...3  ...4  ...5 Percent in ...7 ...8 ...9 ...10 ...11 ...12\n",
       "1 44926 560  manly 20380 1899 0          2    17   37   29    12    2    \n",
       "2 44925 559  molar 21204 1973 0          4    21   38   26    9     1    \n",
       "3 44924 558  havoc 20001 1919 0          2    16   38   30    12    2    \n",
       "4 44923 557  impel 20160 1937 0          3    21   40   25    9     1    \n",
       "5 44922 556  condo 20879 2012 0          2    17   35   29    14    3    \n",
       "6 44921 555  judge 20011 2043 0          2    8    16   26    33    14   "
      ]
     },
     "metadata": {},
     "output_type": "display_data"
    },
    {
     "data": {
      "text/html": [
       "<table class=\"dataframe\">\n",
       "<caption>A tibble: 6 × 12</caption>\n",
       "<thead>\n",
       "\t<tr><th scope=col>Date</th><th scope=col>Contest number</th><th scope=col>Word</th><th scope=col>Number of  reported results</th><th scope=col>Number in hard mode</th><th scope=col>1 try</th><th scope=col>2 tries</th><th scope=col>3 tries</th><th scope=col>4 tries</th><th scope=col>5 tries</th><th scope=col>6 tries</th><th scope=col>7 or more tries (X)</th></tr>\n",
       "\t<tr><th scope=col>&lt;chr&gt;</th><th scope=col>&lt;chr&gt;</th><th scope=col>&lt;chr&gt;</th><th scope=col>&lt;chr&gt;</th><th scope=col>&lt;chr&gt;</th><th scope=col>&lt;chr&gt;</th><th scope=col>&lt;chr&gt;</th><th scope=col>&lt;chr&gt;</th><th scope=col>&lt;chr&gt;</th><th scope=col>&lt;chr&gt;</th><th scope=col>&lt;chr&gt;</th><th scope=col>&lt;chr&gt;</th></tr>\n",
       "</thead>\n",
       "<tbody>\n",
       "\t<tr><td>44926</td><td>560</td><td>manly</td><td>20380</td><td>1899</td><td>0</td><td>2</td><td>17</td><td>37</td><td>29</td><td>12</td><td>2 </td></tr>\n",
       "\t<tr><td>44925</td><td>559</td><td>molar</td><td>21204</td><td>1973</td><td>0</td><td>4</td><td>21</td><td>38</td><td>26</td><td>9 </td><td>1 </td></tr>\n",
       "\t<tr><td>44924</td><td>558</td><td>havoc</td><td>20001</td><td>1919</td><td>0</td><td>2</td><td>16</td><td>38</td><td>30</td><td>12</td><td>2 </td></tr>\n",
       "\t<tr><td>44923</td><td>557</td><td>impel</td><td>20160</td><td>1937</td><td>0</td><td>3</td><td>21</td><td>40</td><td>25</td><td>9 </td><td>1 </td></tr>\n",
       "\t<tr><td>44922</td><td>556</td><td>condo</td><td>20879</td><td>2012</td><td>0</td><td>2</td><td>17</td><td>35</td><td>29</td><td>14</td><td>3 </td></tr>\n",
       "\t<tr><td>44921</td><td>555</td><td>judge</td><td>20011</td><td>2043</td><td>0</td><td>2</td><td>8 </td><td>16</td><td>26</td><td>33</td><td>14</td></tr>\n",
       "</tbody>\n",
       "</table>\n"
      ],
      "text/latex": [
       "A tibble: 6 × 12\n",
       "\\begin{tabular}{llllllllllll}\n",
       " Date & Contest number & Word & Number of  reported results & Number in hard mode & 1 try & 2 tries & 3 tries & 4 tries & 5 tries & 6 tries & 7 or more tries (X)\\\\\n",
       " <chr> & <chr> & <chr> & <chr> & <chr> & <chr> & <chr> & <chr> & <chr> & <chr> & <chr> & <chr>\\\\\n",
       "\\hline\n",
       "\t 44926 & 560 & manly & 20380 & 1899 & 0 & 2 & 17 & 37 & 29 & 12 & 2 \\\\\n",
       "\t 44925 & 559 & molar & 21204 & 1973 & 0 & 4 & 21 & 38 & 26 & 9  & 1 \\\\\n",
       "\t 44924 & 558 & havoc & 20001 & 1919 & 0 & 2 & 16 & 38 & 30 & 12 & 2 \\\\\n",
       "\t 44923 & 557 & impel & 20160 & 1937 & 0 & 3 & 21 & 40 & 25 & 9  & 1 \\\\\n",
       "\t 44922 & 556 & condo & 20879 & 2012 & 0 & 2 & 17 & 35 & 29 & 14 & 3 \\\\\n",
       "\t 44921 & 555 & judge & 20011 & 2043 & 0 & 2 & 8  & 16 & 26 & 33 & 14\\\\\n",
       "\\end{tabular}\n"
      ],
      "text/markdown": [
       "\n",
       "A tibble: 6 × 12\n",
       "\n",
       "| Date &lt;chr&gt; | Contest number &lt;chr&gt; | Word &lt;chr&gt; | Number of  reported results &lt;chr&gt; | Number in hard mode &lt;chr&gt; | 1 try &lt;chr&gt; | 2 tries &lt;chr&gt; | 3 tries &lt;chr&gt; | 4 tries &lt;chr&gt; | 5 tries &lt;chr&gt; | 6 tries &lt;chr&gt; | 7 or more tries (X) &lt;chr&gt; |\n",
       "|---|---|---|---|---|---|---|---|---|---|---|---|\n",
       "| 44926 | 560 | manly | 20380 | 1899 | 0 | 2 | 17 | 37 | 29 | 12 | 2  |\n",
       "| 44925 | 559 | molar | 21204 | 1973 | 0 | 4 | 21 | 38 | 26 | 9  | 1  |\n",
       "| 44924 | 558 | havoc | 20001 | 1919 | 0 | 2 | 16 | 38 | 30 | 12 | 2  |\n",
       "| 44923 | 557 | impel | 20160 | 1937 | 0 | 3 | 21 | 40 | 25 | 9  | 1  |\n",
       "| 44922 | 556 | condo | 20879 | 2012 | 0 | 2 | 17 | 35 | 29 | 14 | 3  |\n",
       "| 44921 | 555 | judge | 20011 | 2043 | 0 | 2 | 8  | 16 | 26 | 33 | 14 |\n",
       "\n"
      ],
      "text/plain": [
       "  Date  Contest number Word  Number of  reported results Number in hard mode\n",
       "1 44926 560            manly 20380                       1899               \n",
       "2 44925 559            molar 21204                       1973               \n",
       "3 44924 558            havoc 20001                       1919               \n",
       "4 44923 557            impel 20160                       1937               \n",
       "5 44922 556            condo 20879                       2012               \n",
       "6 44921 555            judge 20011                       2043               \n",
       "  1 try 2 tries 3 tries 4 tries 5 tries 6 tries 7 or more tries (X)\n",
       "1 0     2       17      37      29      12      2                  \n",
       "2 0     4       21      38      26      9       1                  \n",
       "3 0     2       16      38      30      12      2                  \n",
       "4 0     3       21      40      25      9       1                  \n",
       "5 0     2       17      35      29      14      3                  \n",
       "6 0     2       8       16      26      33      14                 "
      ]
     },
     "metadata": {},
     "output_type": "display_data"
    }
   ],
   "source": [
    "library(\"readxl\")\n",
    "initialSet = read_xlsx(\"./Problem_C_Data_Wordle.xlsx\", range = cell_cols(\"B3:M361\"))\n",
    "\n",
    "header.true <- function(initialSet) {\n",
    "  names(initialSet) <- as.character(unlist(itinialSet[1,]))\n",
    "  df[-1,]\n",
    "}\n",
    "head(initialSet)\n",
    "\n",
    "colTemp <- initialSet[1,]\n",
    "\n",
    "initialSet <- initialSet[-1,]\n",
    "\n",
    "head(initialSet)\n",
    "\n",
    "colnames(initialSet) = colTemp\n",
    "\n",
    "head(initialSet)"
   ]
  },
  {
   "cell_type": "code",
   "execution_count": 3,
   "id": "3678fa02-fc82-448e-bb59-759eea0b77aa",
   "metadata": {},
   "outputs": [
    {
     "name": "stderr",
     "output_type": "stream",
     "text": [
      "Installing package into ‘/home/jupyter/.R/library’\n",
      "(as ‘lib’ is unspecified)\n",
      "\n",
      "\n",
      "Attaching package: ‘dplyr’\n",
      "\n",
      "\n",
      "The following objects are masked from ‘package:stats’:\n",
      "\n",
      "    filter, lag\n",
      "\n",
      "\n",
      "The following objects are masked from ‘package:base’:\n",
      "\n",
      "    intersect, setdiff, setequal, union\n",
      "\n",
      "\n",
      "Installing package into ‘/home/jupyter/.R/library’\n",
      "(as ‘lib’ is unspecified)\n",
      "\n",
      "Installing package into ‘/home/jupyter/.R/library’\n",
      "(as ‘lib’ is unspecified)\n",
      "\n",
      "Installing package into ‘/home/jupyter/.R/library’\n",
      "(as ‘lib’ is unspecified)\n",
      "\n",
      "Installing package into ‘/home/jupyter/.R/library’\n",
      "(as ‘lib’ is unspecified)\n",
      "\n",
      "Welcome! Want to learn more? See two factoextra-related books at https://goo.gl/ve3WBa\n",
      "\n"
     ]
    }
   ],
   "source": [
    "install.packages(\"dplyr\")\n",
    "library(dplyr)\n",
    "install.packages(\"corrr\")\n",
    "library('corrr')\n",
    "library('ggplot2')\n",
    "install.packages(\"ggcorrplot\")\n",
    "library(ggcorrplot)\n",
    "install.packages(\"FactoMineR\")\n",
    "library(\"FactoMineR\")\n",
    "install.packages(\"factoextra\")\n",
    "library(factoextra)\n"
   ]
  },
  {
   "cell_type": "code",
   "execution_count": 4,
   "id": "1f4dab43-2d59-48af-bae5-8213bf0ec7fc",
   "metadata": {},
   "outputs": [
    {
     "data": {
      "text/html": [
       "<style>\n",
       ".list-inline {list-style: none; margin:0; padding: 0}\n",
       ".list-inline>li {display: inline-block}\n",
       ".list-inline>li:not(:last-child)::after {content: \"\\00b7\"; padding: 0 .5ex}\n",
       "</style>\n",
       "<ol class=list-inline><li>'aback'</li><li>'abase'</li><li>'abate'</li><li>'abbey'</li><li>'abbot'</li><li>'abhor'</li></ol>\n"
      ],
      "text/latex": [
       "\\begin{enumerate*}\n",
       "\\item 'aback'\n",
       "\\item 'abase'\n",
       "\\item 'abate'\n",
       "\\item 'abbey'\n",
       "\\item 'abbot'\n",
       "\\item 'abhor'\n",
       "\\end{enumerate*}\n"
      ],
      "text/markdown": [
       "1. 'aback'\n",
       "2. 'abase'\n",
       "3. 'abate'\n",
       "4. 'abbey'\n",
       "5. 'abbot'\n",
       "6. 'abhor'\n",
       "\n",
       "\n"
      ],
      "text/plain": [
       "[1] \"aback\" \"abase\" \"abate\" \"abbey\" \"abbot\" \"abhor\""
      ]
     },
     "metadata": {},
     "output_type": "display_data"
    }
   ],
   "source": [
    "vWords = read.table('./Valid_Words.txt',sep='\\n')\n",
    "\n",
    "vWords <- vWords[[1]]\n",
    "\n",
    "head(vWords)\n",
    "\n",
    "temp = initialSet[['Word']]\n",
    "\n",
    "for (item in temp){\n",
    "    if (!(item %in% vWords)){\n",
    "        print(item)    \n",
    "    }\n",
    "}\n",
    "\n",
    "\n"
   ]
  },
  {
   "cell_type": "code",
   "execution_count": 5,
   "id": "81a3771c-c248-4896-96fe-7c0eeaaf1c42",
   "metadata": {},
   "outputs": [
    {
     "data": {
      "text/html": [
       "<style>\n",
       ".list-inline {list-style: none; margin:0; padding: 0}\n",
       ".list-inline>li {display: inline-block}\n",
       ".list-inline>li:not(:last-child)::after {content: \"\\00b7\"; padding: 0 .5ex}\n",
       "</style>\n",
       "<ol class=list-inline><li>0</li><li>2</li><li>17</li><li>37</li><li>29</li><li>12</li></ol>\n"
      ],
      "text/latex": [
       "\\begin{enumerate*}\n",
       "\\item 0\n",
       "\\item 2\n",
       "\\item 17\n",
       "\\item 37\n",
       "\\item 29\n",
       "\\item 12\n",
       "\\end{enumerate*}\n"
      ],
      "text/markdown": [
       "1. 0\n",
       "2. 2\n",
       "3. 17\n",
       "4. 37\n",
       "5. 29\n",
       "6. 12\n",
       "\n",
       "\n"
      ],
      "text/plain": [
       "[1]  0  2 17 37 29 12"
      ]
     },
     "metadata": {},
     "output_type": "display_data"
    },
    {
     "data": {
      "text/html": [
       "<table class=\"dataframe\">\n",
       "<caption>A tibble: 6 × 7</caption>\n",
       "<thead>\n",
       "\t<tr><th scope=col>1 try</th><th scope=col>2 tries</th><th scope=col>3 tries</th><th scope=col>4 tries</th><th scope=col>5 tries</th><th scope=col>6 tries</th><th scope=col>7 or more tries (X)</th></tr>\n",
       "\t<tr><th scope=col>&lt;dbl&gt;</th><th scope=col>&lt;dbl&gt;</th><th scope=col>&lt;dbl&gt;</th><th scope=col>&lt;dbl&gt;</th><th scope=col>&lt;dbl&gt;</th><th scope=col>&lt;dbl&gt;</th><th scope=col>&lt;dbl&gt;</th></tr>\n",
       "</thead>\n",
       "<tbody>\n",
       "\t<tr><td>0</td><td>2</td><td>17</td><td>37</td><td>29</td><td>12</td><td> 2</td></tr>\n",
       "\t<tr><td>0</td><td>4</td><td>21</td><td>38</td><td>26</td><td> 9</td><td> 1</td></tr>\n",
       "\t<tr><td>0</td><td>2</td><td>16</td><td>38</td><td>30</td><td>12</td><td> 2</td></tr>\n",
       "\t<tr><td>0</td><td>3</td><td>21</td><td>40</td><td>25</td><td> 9</td><td> 1</td></tr>\n",
       "\t<tr><td>0</td><td>2</td><td>17</td><td>35</td><td>29</td><td>14</td><td> 3</td></tr>\n",
       "\t<tr><td>0</td><td>2</td><td> 8</td><td>16</td><td>26</td><td>33</td><td>14</td></tr>\n",
       "</tbody>\n",
       "</table>\n"
      ],
      "text/latex": [
       "A tibble: 6 × 7\n",
       "\\begin{tabular}{lllllll}\n",
       " 1 try & 2 tries & 3 tries & 4 tries & 5 tries & 6 tries & 7 or more tries (X)\\\\\n",
       " <dbl> & <dbl> & <dbl> & <dbl> & <dbl> & <dbl> & <dbl>\\\\\n",
       "\\hline\n",
       "\t 0 & 2 & 17 & 37 & 29 & 12 &  2\\\\\n",
       "\t 0 & 4 & 21 & 38 & 26 &  9 &  1\\\\\n",
       "\t 0 & 2 & 16 & 38 & 30 & 12 &  2\\\\\n",
       "\t 0 & 3 & 21 & 40 & 25 &  9 &  1\\\\\n",
       "\t 0 & 2 & 17 & 35 & 29 & 14 &  3\\\\\n",
       "\t 0 & 2 &  8 & 16 & 26 & 33 & 14\\\\\n",
       "\\end{tabular}\n"
      ],
      "text/markdown": [
       "\n",
       "A tibble: 6 × 7\n",
       "\n",
       "| 1 try &lt;dbl&gt; | 2 tries &lt;dbl&gt; | 3 tries &lt;dbl&gt; | 4 tries &lt;dbl&gt; | 5 tries &lt;dbl&gt; | 6 tries &lt;dbl&gt; | 7 or more tries (X) &lt;dbl&gt; |\n",
       "|---|---|---|---|---|---|---|\n",
       "| 0 | 2 | 17 | 37 | 29 | 12 |  2 |\n",
       "| 0 | 4 | 21 | 38 | 26 |  9 |  1 |\n",
       "| 0 | 2 | 16 | 38 | 30 | 12 |  2 |\n",
       "| 0 | 3 | 21 | 40 | 25 |  9 |  1 |\n",
       "| 0 | 2 | 17 | 35 | 29 | 14 |  3 |\n",
       "| 0 | 2 |  8 | 16 | 26 | 33 | 14 |\n",
       "\n"
      ],
      "text/plain": [
       "  1 try 2 tries 3 tries 4 tries 5 tries 6 tries 7 or more tries (X)\n",
       "1 0     2       17      37      29      12       2                 \n",
       "2 0     4       21      38      26       9       1                 \n",
       "3 0     2       16      38      30      12       2                 \n",
       "4 0     3       21      40      25       9       1                 \n",
       "5 0     2       17      35      29      14       3                 \n",
       "6 0     2        8      16      26      33      14                 "
      ]
     },
     "metadata": {},
     "output_type": "display_data"
    },
    {
     "data": {
      "text/html": [
       "<table class=\"dataframe\">\n",
       "<caption>A tibble: 6 × 7</caption>\n",
       "<thead>\n",
       "\t<tr><th scope=col>1 try</th><th scope=col>2 tries</th><th scope=col>3 tries</th><th scope=col>4 tries</th><th scope=col>5 tries</th><th scope=col>6 tries</th><th scope=col>7 or more tries (X)</th></tr>\n",
       "\t<tr><th scope=col>&lt;dbl&gt;</th><th scope=col>&lt;dbl&gt;</th><th scope=col>&lt;dbl&gt;</th><th scope=col>&lt;dbl&gt;</th><th scope=col>&lt;dbl&gt;</th><th scope=col>&lt;dbl&gt;</th><th scope=col>&lt;dbl&gt;</th></tr>\n",
       "</thead>\n",
       "<tbody>\n",
       "\t<tr><td>0</td><td>0.04</td><td>0.51</td><td>1.48</td><td>1.45</td><td>0.72</td><td>0.14</td></tr>\n",
       "\t<tr><td>0</td><td>0.08</td><td>0.63</td><td>1.52</td><td>1.30</td><td>0.54</td><td>0.07</td></tr>\n",
       "\t<tr><td>0</td><td>0.04</td><td>0.48</td><td>1.52</td><td>1.50</td><td>0.72</td><td>0.14</td></tr>\n",
       "\t<tr><td>0</td><td>0.06</td><td>0.63</td><td>1.60</td><td>1.25</td><td>0.54</td><td>0.07</td></tr>\n",
       "\t<tr><td>0</td><td>0.04</td><td>0.51</td><td>1.40</td><td>1.45</td><td>0.84</td><td>0.21</td></tr>\n",
       "\t<tr><td>0</td><td>0.04</td><td>0.24</td><td>0.64</td><td>1.30</td><td>1.98</td><td>0.98</td></tr>\n",
       "</tbody>\n",
       "</table>\n"
      ],
      "text/latex": [
       "A tibble: 6 × 7\n",
       "\\begin{tabular}{lllllll}\n",
       " 1 try & 2 tries & 3 tries & 4 tries & 5 tries & 6 tries & 7 or more tries (X)\\\\\n",
       " <dbl> & <dbl> & <dbl> & <dbl> & <dbl> & <dbl> & <dbl>\\\\\n",
       "\\hline\n",
       "\t 0 & 0.04 & 0.51 & 1.48 & 1.45 & 0.72 & 0.14\\\\\n",
       "\t 0 & 0.08 & 0.63 & 1.52 & 1.30 & 0.54 & 0.07\\\\\n",
       "\t 0 & 0.04 & 0.48 & 1.52 & 1.50 & 0.72 & 0.14\\\\\n",
       "\t 0 & 0.06 & 0.63 & 1.60 & 1.25 & 0.54 & 0.07\\\\\n",
       "\t 0 & 0.04 & 0.51 & 1.40 & 1.45 & 0.84 & 0.21\\\\\n",
       "\t 0 & 0.04 & 0.24 & 0.64 & 1.30 & 1.98 & 0.98\\\\\n",
       "\\end{tabular}\n"
      ],
      "text/markdown": [
       "\n",
       "A tibble: 6 × 7\n",
       "\n",
       "| 1 try &lt;dbl&gt; | 2 tries &lt;dbl&gt; | 3 tries &lt;dbl&gt; | 4 tries &lt;dbl&gt; | 5 tries &lt;dbl&gt; | 6 tries &lt;dbl&gt; | 7 or more tries (X) &lt;dbl&gt; |\n",
       "|---|---|---|---|---|---|---|\n",
       "| 0 | 0.04 | 0.51 | 1.48 | 1.45 | 0.72 | 0.14 |\n",
       "| 0 | 0.08 | 0.63 | 1.52 | 1.30 | 0.54 | 0.07 |\n",
       "| 0 | 0.04 | 0.48 | 1.52 | 1.50 | 0.72 | 0.14 |\n",
       "| 0 | 0.06 | 0.63 | 1.60 | 1.25 | 0.54 | 0.07 |\n",
       "| 0 | 0.04 | 0.51 | 1.40 | 1.45 | 0.84 | 0.21 |\n",
       "| 0 | 0.04 | 0.24 | 0.64 | 1.30 | 1.98 | 0.98 |\n",
       "\n"
      ],
      "text/plain": [
       "  1 try 2 tries 3 tries 4 tries 5 tries 6 tries 7 or more tries (X)\n",
       "1 0     0.04    0.51    1.48    1.45    0.72    0.14               \n",
       "2 0     0.08    0.63    1.52    1.30    0.54    0.07               \n",
       "3 0     0.04    0.48    1.52    1.50    0.72    0.14               \n",
       "4 0     0.06    0.63    1.60    1.25    0.54    0.07               \n",
       "5 0     0.04    0.51    1.40    1.45    0.84    0.21               \n",
       "6 0     0.04    0.24    0.64    1.30    1.98    0.98               "
      ]
     },
     "metadata": {},
     "output_type": "display_data"
    },
    {
     "data": {
      "text/html": [
       "<table class=\"dataframe\">\n",
       "<caption>A tibble: 6 × 7</caption>\n",
       "<thead>\n",
       "\t<tr><th scope=col>1 try</th><th scope=col>2 tries</th><th scope=col>3 tries</th><th scope=col>4 tries</th><th scope=col>5 tries</th><th scope=col>6 tries</th><th scope=col>7 or more tries (X)</th></tr>\n",
       "\t<tr><th scope=col>&lt;dbl&gt;</th><th scope=col>&lt;dbl&gt;</th><th scope=col>&lt;dbl&gt;</th><th scope=col>&lt;dbl&gt;</th><th scope=col>&lt;dbl&gt;</th><th scope=col>&lt;dbl&gt;</th><th scope=col>&lt;dbl&gt;</th></tr>\n",
       "</thead>\n",
       "<tbody>\n",
       "\t<tr><td>0</td><td>0.04</td><td>0.51</td><td>1.48</td><td>1.45</td><td>0.72</td><td>0.14</td></tr>\n",
       "\t<tr><td>0</td><td>0.08</td><td>0.63</td><td>1.52</td><td>1.30</td><td>0.54</td><td>0.07</td></tr>\n",
       "\t<tr><td>0</td><td>0.04</td><td>0.48</td><td>1.52</td><td>1.50</td><td>0.72</td><td>0.14</td></tr>\n",
       "\t<tr><td>0</td><td>0.06</td><td>0.63</td><td>1.60</td><td>1.25</td><td>0.54</td><td>0.07</td></tr>\n",
       "\t<tr><td>0</td><td>0.04</td><td>0.51</td><td>1.40</td><td>1.45</td><td>0.84</td><td>0.21</td></tr>\n",
       "\t<tr><td>0</td><td>0.04</td><td>0.24</td><td>0.64</td><td>1.30</td><td>1.98</td><td>0.98</td></tr>\n",
       "</tbody>\n",
       "</table>\n"
      ],
      "text/latex": [
       "A tibble: 6 × 7\n",
       "\\begin{tabular}{lllllll}\n",
       " 1 try & 2 tries & 3 tries & 4 tries & 5 tries & 6 tries & 7 or more tries (X)\\\\\n",
       " <dbl> & <dbl> & <dbl> & <dbl> & <dbl> & <dbl> & <dbl>\\\\\n",
       "\\hline\n",
       "\t 0 & 0.04 & 0.51 & 1.48 & 1.45 & 0.72 & 0.14\\\\\n",
       "\t 0 & 0.08 & 0.63 & 1.52 & 1.30 & 0.54 & 0.07\\\\\n",
       "\t 0 & 0.04 & 0.48 & 1.52 & 1.50 & 0.72 & 0.14\\\\\n",
       "\t 0 & 0.06 & 0.63 & 1.60 & 1.25 & 0.54 & 0.07\\\\\n",
       "\t 0 & 0.04 & 0.51 & 1.40 & 1.45 & 0.84 & 0.21\\\\\n",
       "\t 0 & 0.04 & 0.24 & 0.64 & 1.30 & 1.98 & 0.98\\\\\n",
       "\\end{tabular}\n"
      ],
      "text/markdown": [
       "\n",
       "A tibble: 6 × 7\n",
       "\n",
       "| 1 try &lt;dbl&gt; | 2 tries &lt;dbl&gt; | 3 tries &lt;dbl&gt; | 4 tries &lt;dbl&gt; | 5 tries &lt;dbl&gt; | 6 tries &lt;dbl&gt; | 7 or more tries (X) &lt;dbl&gt; |\n",
       "|---|---|---|---|---|---|---|\n",
       "| 0 | 0.04 | 0.51 | 1.48 | 1.45 | 0.72 | 0.14 |\n",
       "| 0 | 0.08 | 0.63 | 1.52 | 1.30 | 0.54 | 0.07 |\n",
       "| 0 | 0.04 | 0.48 | 1.52 | 1.50 | 0.72 | 0.14 |\n",
       "| 0 | 0.06 | 0.63 | 1.60 | 1.25 | 0.54 | 0.07 |\n",
       "| 0 | 0.04 | 0.51 | 1.40 | 1.45 | 0.84 | 0.21 |\n",
       "| 0 | 0.04 | 0.24 | 0.64 | 1.30 | 1.98 | 0.98 |\n",
       "\n"
      ],
      "text/plain": [
       "  1 try 2 tries 3 tries 4 tries 5 tries 6 tries 7 or more tries (X)\n",
       "1 0     0.04    0.51    1.48    1.45    0.72    0.14               \n",
       "2 0     0.08    0.63    1.52    1.30    0.54    0.07               \n",
       "3 0     0.04    0.48    1.52    1.50    0.72    0.14               \n",
       "4 0     0.06    0.63    1.60    1.25    0.54    0.07               \n",
       "5 0     0.04    0.51    1.40    1.45    0.84    0.21               \n",
       "6 0     0.04    0.24    0.64    1.30    1.98    0.98               "
      ]
     },
     "metadata": {},
     "output_type": "display_data"
    },
    {
     "data": {
      "text/html": [
       "<table class=\"dataframe\">\n",
       "<caption>A tibble: 6 × 14</caption>\n",
       "<thead>\n",
       "\t<tr><th scope=col>Date</th><th scope=col>Contest number</th><th scope=col>Word</th><th scope=col>Number of  reported results</th><th scope=col>Number in hard mode</th><th scope=col>1 try</th><th scope=col>2 tries</th><th scope=col>3 tries</th><th scope=col>4 tries</th><th scope=col>5 tries</th><th scope=col>6 tries</th><th scope=col>7 or more tries (X)</th><th scope=col>avg</th><th scope=col>stDev</th></tr>\n",
       "\t<tr><th scope=col>&lt;chr&gt;</th><th scope=col>&lt;chr&gt;</th><th scope=col>&lt;chr&gt;</th><th scope=col>&lt;chr&gt;</th><th scope=col>&lt;chr&gt;</th><th scope=col>&lt;chr&gt;</th><th scope=col>&lt;chr&gt;</th><th scope=col>&lt;chr&gt;</th><th scope=col>&lt;chr&gt;</th><th scope=col>&lt;chr&gt;</th><th scope=col>&lt;chr&gt;</th><th scope=col>&lt;chr&gt;</th><th scope=col>&lt;dbl&gt;</th><th scope=col>&lt;dbl&gt;</th></tr>\n",
       "</thead>\n",
       "<tbody>\n",
       "\t<tr><td>44926</td><td>560</td><td>manly</td><td>20380</td><td>1899</td><td>0</td><td>2</td><td>17</td><td>37</td><td>29</td><td>12</td><td>2 </td><td>4.34</td><td>0.6326927</td></tr>\n",
       "\t<tr><td>44925</td><td>559</td><td>molar</td><td>21204</td><td>1973</td><td>0</td><td>4</td><td>21</td><td>38</td><td>26</td><td>9 </td><td>1 </td><td>4.14</td><td>0.6126018</td></tr>\n",
       "\t<tr><td>44924</td><td>558</td><td>havoc</td><td>20001</td><td>1919</td><td>0</td><td>2</td><td>16</td><td>38</td><td>30</td><td>12</td><td>2 </td><td>4.40</td><td>0.6537948</td></tr>\n",
       "\t<tr><td>44923</td><td>557</td><td>impel</td><td>20160</td><td>1937</td><td>0</td><td>3</td><td>21</td><td>40</td><td>25</td><td>9 </td><td>1 </td><td>4.15</td><td>0.6270490</td></tr>\n",
       "\t<tr><td>44922</td><td>556</td><td>condo</td><td>20879</td><td>2012</td><td>0</td><td>2</td><td>17</td><td>35</td><td>29</td><td>14</td><td>3 </td><td>4.45</td><td>0.6116878</td></tr>\n",
       "\t<tr><td>44921</td><td>555</td><td>judge</td><td>20011</td><td>2043</td><td>0</td><td>2</td><td>8 </td><td>16</td><td>26</td><td>33</td><td>14</td><td>5.18</td><td>0.7310267</td></tr>\n",
       "</tbody>\n",
       "</table>\n"
      ],
      "text/latex": [
       "A tibble: 6 × 14\n",
       "\\begin{tabular}{llllllllllllll}\n",
       " Date & Contest number & Word & Number of  reported results & Number in hard mode & 1 try & 2 tries & 3 tries & 4 tries & 5 tries & 6 tries & 7 or more tries (X) & avg & stDev\\\\\n",
       " <chr> & <chr> & <chr> & <chr> & <chr> & <chr> & <chr> & <chr> & <chr> & <chr> & <chr> & <chr> & <dbl> & <dbl>\\\\\n",
       "\\hline\n",
       "\t 44926 & 560 & manly & 20380 & 1899 & 0 & 2 & 17 & 37 & 29 & 12 & 2  & 4.34 & 0.6326927\\\\\n",
       "\t 44925 & 559 & molar & 21204 & 1973 & 0 & 4 & 21 & 38 & 26 & 9  & 1  & 4.14 & 0.6126018\\\\\n",
       "\t 44924 & 558 & havoc & 20001 & 1919 & 0 & 2 & 16 & 38 & 30 & 12 & 2  & 4.40 & 0.6537948\\\\\n",
       "\t 44923 & 557 & impel & 20160 & 1937 & 0 & 3 & 21 & 40 & 25 & 9  & 1  & 4.15 & 0.6270490\\\\\n",
       "\t 44922 & 556 & condo & 20879 & 2012 & 0 & 2 & 17 & 35 & 29 & 14 & 3  & 4.45 & 0.6116878\\\\\n",
       "\t 44921 & 555 & judge & 20011 & 2043 & 0 & 2 & 8  & 16 & 26 & 33 & 14 & 5.18 & 0.7310267\\\\\n",
       "\\end{tabular}\n"
      ],
      "text/markdown": [
       "\n",
       "A tibble: 6 × 14\n",
       "\n",
       "| Date &lt;chr&gt; | Contest number &lt;chr&gt; | Word &lt;chr&gt; | Number of  reported results &lt;chr&gt; | Number in hard mode &lt;chr&gt; | 1 try &lt;chr&gt; | 2 tries &lt;chr&gt; | 3 tries &lt;chr&gt; | 4 tries &lt;chr&gt; | 5 tries &lt;chr&gt; | 6 tries &lt;chr&gt; | 7 or more tries (X) &lt;chr&gt; | avg &lt;dbl&gt; | stDev &lt;dbl&gt; |\n",
       "|---|---|---|---|---|---|---|---|---|---|---|---|---|---|\n",
       "| 44926 | 560 | manly | 20380 | 1899 | 0 | 2 | 17 | 37 | 29 | 12 | 2  | 4.34 | 0.6326927 |\n",
       "| 44925 | 559 | molar | 21204 | 1973 | 0 | 4 | 21 | 38 | 26 | 9  | 1  | 4.14 | 0.6126018 |\n",
       "| 44924 | 558 | havoc | 20001 | 1919 | 0 | 2 | 16 | 38 | 30 | 12 | 2  | 4.40 | 0.6537948 |\n",
       "| 44923 | 557 | impel | 20160 | 1937 | 0 | 3 | 21 | 40 | 25 | 9  | 1  | 4.15 | 0.6270490 |\n",
       "| 44922 | 556 | condo | 20879 | 2012 | 0 | 2 | 17 | 35 | 29 | 14 | 3  | 4.45 | 0.6116878 |\n",
       "| 44921 | 555 | judge | 20011 | 2043 | 0 | 2 | 8  | 16 | 26 | 33 | 14 | 5.18 | 0.7310267 |\n",
       "\n"
      ],
      "text/plain": [
       "  Date  Contest number Word  Number of  reported results Number in hard mode\n",
       "1 44926 560            manly 20380                       1899               \n",
       "2 44925 559            molar 21204                       1973               \n",
       "3 44924 558            havoc 20001                       1919               \n",
       "4 44923 557            impel 20160                       1937               \n",
       "5 44922 556            condo 20879                       2012               \n",
       "6 44921 555            judge 20011                       2043               \n",
       "  1 try 2 tries 3 tries 4 tries 5 tries 6 tries 7 or more tries (X) avg \n",
       "1 0     2       17      37      29      12      2                   4.34\n",
       "2 0     4       21      38      26      9       1                   4.14\n",
       "3 0     2       16      38      30      12      2                   4.40\n",
       "4 0     3       21      40      25      9       1                   4.15\n",
       "5 0     2       17      35      29      14      3                   4.45\n",
       "6 0     2       8       16      26      33      14                  5.18\n",
       "  stDev    \n",
       "1 0.6326927\n",
       "2 0.6126018\n",
       "3 0.6537948\n",
       "4 0.6270490\n",
       "5 0.6116878\n",
       "6 0.7310267"
      ]
     },
     "metadata": {},
     "output_type": "display_data"
    }
   ],
   "source": [
    "#head(initialSet[,6:12])\n",
    "\n",
    "\n",
    "successSet <- initialSet[,6:12]\n",
    "head(as.numeric(successSet[1,]))\n",
    "\n",
    "successSet <- mutate_all(successSet, function(x) as.numeric(as.character(x)))\n",
    "\n",
    "head(successSet)\n",
    "                         \n",
    "successSet$'1 try'<-.01*(successSet$'1 try')\n",
    "successSet$'2 tries'<-.02*(successSet$'2 tries')\n",
    "successSet$'3 tries'<-.03*(successSet$'3 tries')\n",
    "successSet$'4 tries'<-.04*(successSet$'4 tries')\n",
    "successSet$'5 tries'<-.05*(successSet$'5 tries')\n",
    "successSet$'6 tries'<-.06*(successSet$'6 tries')\n",
    "successSet$'7 or more tries (X)'<-.07*(successSet$'7 or more tries (X)')\n",
    "\n",
    "head(successSet)\n",
    "\n",
    "successSet <- mutate_all(successSet, function(x) as.numeric(as.character(x)))\n",
    "                         \n",
    "head(successSet)\n",
    "                         \n",
    "initialSet$avg <- apply(successSet, 1, sum, na.rm=TRUE)\n",
    "initialSet$stDev <- apply(successSet, 1, sd, na.rm=TRUE)\n",
    "                             \n",
    "head(initialSet)"
   ]
  },
  {
   "cell_type": "code",
   "execution_count": 6,
   "id": "a546a9a5-8646-46b2-aee2-3eb011e6cd03",
   "metadata": {},
   "outputs": [
    {
     "data": {
      "text/html": [
       "<table class=\"dataframe\">\n",
       "<caption>A tibble: 1 × 14</caption>\n",
       "<thead>\n",
       "\t<tr><th scope=col>Date</th><th scope=col>Contest number</th><th scope=col>Word</th><th scope=col>Number of  reported results</th><th scope=col>Number in hard mode</th><th scope=col>1 try</th><th scope=col>2 tries</th><th scope=col>3 tries</th><th scope=col>4 tries</th><th scope=col>5 tries</th><th scope=col>6 tries</th><th scope=col>7 or more tries (X)</th><th scope=col>avg</th><th scope=col>stDev</th></tr>\n",
       "\t<tr><th scope=col>&lt;chr&gt;</th><th scope=col>&lt;chr&gt;</th><th scope=col>&lt;chr&gt;</th><th scope=col>&lt;chr&gt;</th><th scope=col>&lt;chr&gt;</th><th scope=col>&lt;chr&gt;</th><th scope=col>&lt;chr&gt;</th><th scope=col>&lt;chr&gt;</th><th scope=col>&lt;chr&gt;</th><th scope=col>&lt;chr&gt;</th><th scope=col>&lt;chr&gt;</th><th scope=col>&lt;chr&gt;</th><th scope=col>&lt;dbl&gt;</th><th scope=col>&lt;dbl&gt;</th></tr>\n",
       "</thead>\n",
       "<tbody>\n",
       "\t<tr><td>44820</td><td>454</td><td>parer</td><td>37309</td><td>4130</td><td>0</td><td>0</td><td>4</td><td>11</td><td>15</td><td>22</td><td>48</td><td>5.99</td><td>1.202551</td></tr>\n",
       "</tbody>\n",
       "</table>\n"
      ],
      "text/latex": [
       "A tibble: 1 × 14\n",
       "\\begin{tabular}{llllllllllllll}\n",
       " Date & Contest number & Word & Number of  reported results & Number in hard mode & 1 try & 2 tries & 3 tries & 4 tries & 5 tries & 6 tries & 7 or more tries (X) & avg & stDev\\\\\n",
       " <chr> & <chr> & <chr> & <chr> & <chr> & <chr> & <chr> & <chr> & <chr> & <chr> & <chr> & <chr> & <dbl> & <dbl>\\\\\n",
       "\\hline\n",
       "\t 44820 & 454 & parer & 37309 & 4130 & 0 & 0 & 4 & 11 & 15 & 22 & 48 & 5.99 & 1.202551\\\\\n",
       "\\end{tabular}\n"
      ],
      "text/markdown": [
       "\n",
       "A tibble: 1 × 14\n",
       "\n",
       "| Date &lt;chr&gt; | Contest number &lt;chr&gt; | Word &lt;chr&gt; | Number of  reported results &lt;chr&gt; | Number in hard mode &lt;chr&gt; | 1 try &lt;chr&gt; | 2 tries &lt;chr&gt; | 3 tries &lt;chr&gt; | 4 tries &lt;chr&gt; | 5 tries &lt;chr&gt; | 6 tries &lt;chr&gt; | 7 or more tries (X) &lt;chr&gt; | avg &lt;dbl&gt; | stDev &lt;dbl&gt; |\n",
       "|---|---|---|---|---|---|---|---|---|---|---|---|---|---|\n",
       "| 44820 | 454 | parer | 37309 | 4130 | 0 | 0 | 4 | 11 | 15 | 22 | 48 | 5.99 | 1.202551 |\n",
       "\n"
      ],
      "text/plain": [
       "  Date  Contest number Word  Number of  reported results Number in hard mode\n",
       "1 44820 454            parer 37309                       4130               \n",
       "  1 try 2 tries 3 tries 4 tries 5 tries 6 tries 7 or more tries (X) avg \n",
       "1 0     0       4       11      15      22      48                  5.99\n",
       "  stDev   \n",
       "1 1.202551"
      ]
     },
     "metadata": {},
     "output_type": "display_data"
    },
    {
     "data": {
      "text/html": [
       "<table class=\"dataframe\">\n",
       "<caption>A tibble: 15 × 14</caption>\n",
       "<thead>\n",
       "\t<tr><th scope=col>Date</th><th scope=col>Contest number</th><th scope=col>Word</th><th scope=col>Number of  reported results</th><th scope=col>Number in hard mode</th><th scope=col>1 try</th><th scope=col>2 tries</th><th scope=col>3 tries</th><th scope=col>4 tries</th><th scope=col>5 tries</th><th scope=col>6 tries</th><th scope=col>7 or more tries (X)</th><th scope=col>avg</th><th scope=col>stDev</th></tr>\n",
       "\t<tr><th scope=col>&lt;chr&gt;</th><th scope=col>&lt;chr&gt;</th><th scope=col>&lt;chr&gt;</th><th scope=col>&lt;chr&gt;</th><th scope=col>&lt;chr&gt;</th><th scope=col>&lt;chr&gt;</th><th scope=col>&lt;chr&gt;</th><th scope=col>&lt;chr&gt;</th><th scope=col>&lt;chr&gt;</th><th scope=col>&lt;chr&gt;</th><th scope=col>&lt;chr&gt;</th><th scope=col>&lt;chr&gt;</th><th scope=col>&lt;dbl&gt;</th><th scope=col>&lt;dbl&gt;</th></tr>\n",
       "</thead>\n",
       "<tbody>\n",
       "\t<tr><td>44820</td><td>454</td><td>parer</td><td>37309 </td><td>4130 </td><td>0</td><td>0</td><td>4 </td><td>11</td><td>15</td><td>22</td><td>48</td><td>5.99</td><td>1.2025509</td></tr>\n",
       "\t<tr><td>44647</td><td>281</td><td>nymph</td><td>165468</td><td>9935 </td><td>1</td><td>2</td><td>18</td><td>44</td><td>26</td><td>26</td><td>9 </td><td>5.84</td><td>0.7117082</td></tr>\n",
       "\t<tr><td>44857</td><td>491</td><td>mummy</td><td>29279 </td><td>3021 </td><td>0</td><td>1</td><td>4 </td><td>14</td><td>27</td><td>37</td><td>18</td><td>5.53</td><td>0.8463845</td></tr>\n",
       "\t<tr><td>44775</td><td>409</td><td>coyly</td><td>34909 </td><td>3380 </td><td>0</td><td>0</td><td>4 </td><td>17</td><td>28</td><td>35</td><td>15</td><td>5.35</td><td>0.8021192</td></tr>\n",
       "\t<tr><td>44670</td><td>304</td><td>foyer</td><td>108899</td><td>8198 </td><td>0</td><td>2</td><td>10</td><td>19</td><td>19</td><td>23</td><td>26</td><td>5.25</td><td>0.6893233</td></tr>\n",
       "\t<tr><td>44921</td><td>555</td><td>judge</td><td>20011 </td><td>2043 </td><td>0</td><td>2</td><td>8 </td><td>16</td><td>26</td><td>33</td><td>14</td><td>5.18</td><td>0.7310267</td></tr>\n",
       "\t<tr><td>44741</td><td>375</td><td>gawky</td><td>45645 </td><td>3957 </td><td>0</td><td>1</td><td>5 </td><td>22</td><td>33</td><td>28</td><td>10</td><td>5.08</td><td>0.7240593</td></tr>\n",
       "\t<tr><td>44611</td><td>245</td><td>swill</td><td>282327</td><td>11241</td><td>1</td><td>1</td><td>8 </td><td>19</td><td>31</td><td>30</td><td>10</td><td>5.08</td><td>0.7166556</td></tr>\n",
       "\t<tr><td>44748</td><td>382</td><td>fluff</td><td>47344 </td><td>4049 </td><td>0</td><td>0</td><td>4 </td><td>25</td><td>44</td><td>23</td><td>4 </td><td>4.98</td><td>0.8459990</td></tr>\n",
       "\t<tr><td>44768</td><td>402</td><td>cinch</td><td>39171 </td><td>3507 </td><td>0</td><td>2</td><td>15</td><td>24</td><td>22</td><td>25</td><td>13</td><td>4.96</td><td>0.5626256</td></tr>\n",
       "\t<tr><td>44631</td><td>265</td><td>watch</td><td>226349</td><td>12400</td><td>1</td><td>6</td><td>14</td><td>18</td><td>17</td><td>24</td><td>20</td><td>4.96</td><td>0.5702172</td></tr>\n",
       "\t<tr><td>44841</td><td>475</td><td>dandy</td><td>29026 </td><td>2840 </td><td>0</td><td>2</td><td>11</td><td>23</td><td>29</td><td>24</td><td>11</td><td>4.95</td><td>0.6090351</td></tr>\n",
       "\t<tr><td>44651</td><td>285</td><td>lowly</td><td>135219</td><td>8469 </td><td>0</td><td>2</td><td>9 </td><td>26</td><td>32</td><td>24</td><td>8 </td><td>4.95</td><td>0.6586530</td></tr>\n",
       "\t<tr><td>44801</td><td>435</td><td>gauze</td><td>30214 </td><td>2866 </td><td>0</td><td>2</td><td>11</td><td>24</td><td>31</td><td>25</td><td>8 </td><td>4.94</td><td>0.6470409</td></tr>\n",
       "\t<tr><td>44807</td><td>441</td><td>gully</td><td>31191 </td><td>2877 </td><td>0</td><td>1</td><td>9 </td><td>27</td><td>31</td><td>25</td><td>7 </td><td>4.91</td><td>0.6693636</td></tr>\n",
       "</tbody>\n",
       "</table>\n"
      ],
      "text/latex": [
       "A tibble: 15 × 14\n",
       "\\begin{tabular}{llllllllllllll}\n",
       " Date & Contest number & Word & Number of  reported results & Number in hard mode & 1 try & 2 tries & 3 tries & 4 tries & 5 tries & 6 tries & 7 or more tries (X) & avg & stDev\\\\\n",
       " <chr> & <chr> & <chr> & <chr> & <chr> & <chr> & <chr> & <chr> & <chr> & <chr> & <chr> & <chr> & <dbl> & <dbl>\\\\\n",
       "\\hline\n",
       "\t 44820 & 454 & parer & 37309  & 4130  & 0 & 0 & 4  & 11 & 15 & 22 & 48 & 5.99 & 1.2025509\\\\\n",
       "\t 44647 & 281 & nymph & 165468 & 9935  & 1 & 2 & 18 & 44 & 26 & 26 & 9  & 5.84 & 0.7117082\\\\\n",
       "\t 44857 & 491 & mummy & 29279  & 3021  & 0 & 1 & 4  & 14 & 27 & 37 & 18 & 5.53 & 0.8463845\\\\\n",
       "\t 44775 & 409 & coyly & 34909  & 3380  & 0 & 0 & 4  & 17 & 28 & 35 & 15 & 5.35 & 0.8021192\\\\\n",
       "\t 44670 & 304 & foyer & 108899 & 8198  & 0 & 2 & 10 & 19 & 19 & 23 & 26 & 5.25 & 0.6893233\\\\\n",
       "\t 44921 & 555 & judge & 20011  & 2043  & 0 & 2 & 8  & 16 & 26 & 33 & 14 & 5.18 & 0.7310267\\\\\n",
       "\t 44741 & 375 & gawky & 45645  & 3957  & 0 & 1 & 5  & 22 & 33 & 28 & 10 & 5.08 & 0.7240593\\\\\n",
       "\t 44611 & 245 & swill & 282327 & 11241 & 1 & 1 & 8  & 19 & 31 & 30 & 10 & 5.08 & 0.7166556\\\\\n",
       "\t 44748 & 382 & fluff & 47344  & 4049  & 0 & 0 & 4  & 25 & 44 & 23 & 4  & 4.98 & 0.8459990\\\\\n",
       "\t 44768 & 402 & cinch & 39171  & 3507  & 0 & 2 & 15 & 24 & 22 & 25 & 13 & 4.96 & 0.5626256\\\\\n",
       "\t 44631 & 265 & watch & 226349 & 12400 & 1 & 6 & 14 & 18 & 17 & 24 & 20 & 4.96 & 0.5702172\\\\\n",
       "\t 44841 & 475 & dandy & 29026  & 2840  & 0 & 2 & 11 & 23 & 29 & 24 & 11 & 4.95 & 0.6090351\\\\\n",
       "\t 44651 & 285 & lowly & 135219 & 8469  & 0 & 2 & 9  & 26 & 32 & 24 & 8  & 4.95 & 0.6586530\\\\\n",
       "\t 44801 & 435 & gauze & 30214  & 2866  & 0 & 2 & 11 & 24 & 31 & 25 & 8  & 4.94 & 0.6470409\\\\\n",
       "\t 44807 & 441 & gully & 31191  & 2877  & 0 & 1 & 9  & 27 & 31 & 25 & 7  & 4.91 & 0.6693636\\\\\n",
       "\\end{tabular}\n"
      ],
      "text/markdown": [
       "\n",
       "A tibble: 15 × 14\n",
       "\n",
       "| Date &lt;chr&gt; | Contest number &lt;chr&gt; | Word &lt;chr&gt; | Number of  reported results &lt;chr&gt; | Number in hard mode &lt;chr&gt; | 1 try &lt;chr&gt; | 2 tries &lt;chr&gt; | 3 tries &lt;chr&gt; | 4 tries &lt;chr&gt; | 5 tries &lt;chr&gt; | 6 tries &lt;chr&gt; | 7 or more tries (X) &lt;chr&gt; | avg &lt;dbl&gt; | stDev &lt;dbl&gt; |\n",
       "|---|---|---|---|---|---|---|---|---|---|---|---|---|---|\n",
       "| 44820 | 454 | parer | 37309  | 4130  | 0 | 0 | 4  | 11 | 15 | 22 | 48 | 5.99 | 1.2025509 |\n",
       "| 44647 | 281 | nymph | 165468 | 9935  | 1 | 2 | 18 | 44 | 26 | 26 | 9  | 5.84 | 0.7117082 |\n",
       "| 44857 | 491 | mummy | 29279  | 3021  | 0 | 1 | 4  | 14 | 27 | 37 | 18 | 5.53 | 0.8463845 |\n",
       "| 44775 | 409 | coyly | 34909  | 3380  | 0 | 0 | 4  | 17 | 28 | 35 | 15 | 5.35 | 0.8021192 |\n",
       "| 44670 | 304 | foyer | 108899 | 8198  | 0 | 2 | 10 | 19 | 19 | 23 | 26 | 5.25 | 0.6893233 |\n",
       "| 44921 | 555 | judge | 20011  | 2043  | 0 | 2 | 8  | 16 | 26 | 33 | 14 | 5.18 | 0.7310267 |\n",
       "| 44741 | 375 | gawky | 45645  | 3957  | 0 | 1 | 5  | 22 | 33 | 28 | 10 | 5.08 | 0.7240593 |\n",
       "| 44611 | 245 | swill | 282327 | 11241 | 1 | 1 | 8  | 19 | 31 | 30 | 10 | 5.08 | 0.7166556 |\n",
       "| 44748 | 382 | fluff | 47344  | 4049  | 0 | 0 | 4  | 25 | 44 | 23 | 4  | 4.98 | 0.8459990 |\n",
       "| 44768 | 402 | cinch | 39171  | 3507  | 0 | 2 | 15 | 24 | 22 | 25 | 13 | 4.96 | 0.5626256 |\n",
       "| 44631 | 265 | watch | 226349 | 12400 | 1 | 6 | 14 | 18 | 17 | 24 | 20 | 4.96 | 0.5702172 |\n",
       "| 44841 | 475 | dandy | 29026  | 2840  | 0 | 2 | 11 | 23 | 29 | 24 | 11 | 4.95 | 0.6090351 |\n",
       "| 44651 | 285 | lowly | 135219 | 8469  | 0 | 2 | 9  | 26 | 32 | 24 | 8  | 4.95 | 0.6586530 |\n",
       "| 44801 | 435 | gauze | 30214  | 2866  | 0 | 2 | 11 | 24 | 31 | 25 | 8  | 4.94 | 0.6470409 |\n",
       "| 44807 | 441 | gully | 31191  | 2877  | 0 | 1 | 9  | 27 | 31 | 25 | 7  | 4.91 | 0.6693636 |\n",
       "\n"
      ],
      "text/plain": [
       "   Date  Contest number Word  Number of  reported results Number in hard mode\n",
       "1  44820 454            parer 37309                       4130               \n",
       "2  44647 281            nymph 165468                      9935               \n",
       "3  44857 491            mummy 29279                       3021               \n",
       "4  44775 409            coyly 34909                       3380               \n",
       "5  44670 304            foyer 108899                      8198               \n",
       "6  44921 555            judge 20011                       2043               \n",
       "7  44741 375            gawky 45645                       3957               \n",
       "8  44611 245            swill 282327                      11241              \n",
       "9  44748 382            fluff 47344                       4049               \n",
       "10 44768 402            cinch 39171                       3507               \n",
       "11 44631 265            watch 226349                      12400              \n",
       "12 44841 475            dandy 29026                       2840               \n",
       "13 44651 285            lowly 135219                      8469               \n",
       "14 44801 435            gauze 30214                       2866               \n",
       "15 44807 441            gully 31191                       2877               \n",
       "   1 try 2 tries 3 tries 4 tries 5 tries 6 tries 7 or more tries (X) avg \n",
       "1  0     0       4       11      15      22      48                  5.99\n",
       "2  1     2       18      44      26      26      9                   5.84\n",
       "3  0     1       4       14      27      37      18                  5.53\n",
       "4  0     0       4       17      28      35      15                  5.35\n",
       "5  0     2       10      19      19      23      26                  5.25\n",
       "6  0     2       8       16      26      33      14                  5.18\n",
       "7  0     1       5       22      33      28      10                  5.08\n",
       "8  1     1       8       19      31      30      10                  5.08\n",
       "9  0     0       4       25      44      23      4                   4.98\n",
       "10 0     2       15      24      22      25      13                  4.96\n",
       "11 1     6       14      18      17      24      20                  4.96\n",
       "12 0     2       11      23      29      24      11                  4.95\n",
       "13 0     2       9       26      32      24      8                   4.95\n",
       "14 0     2       11      24      31      25      8                   4.94\n",
       "15 0     1       9       27      31      25      7                   4.91\n",
       "   stDev    \n",
       "1  1.2025509\n",
       "2  0.7117082\n",
       "3  0.8463845\n",
       "4  0.8021192\n",
       "5  0.6893233\n",
       "6  0.7310267\n",
       "7  0.7240593\n",
       "8  0.7166556\n",
       "9  0.8459990\n",
       "10 0.5626256\n",
       "11 0.5702172\n",
       "12 0.6090351\n",
       "13 0.6586530\n",
       "14 0.6470409\n",
       "15 0.6693636"
      ]
     },
     "metadata": {},
     "output_type": "display_data"
    }
   ],
   "source": [
    "initialSet[which.max(initialSet$'avg'),]\n",
    "\n",
    "sortedInitial <- initialSet[order(initialSet$'avg', decreasing = TRUE),]\n",
    "head(sortedInitial, 15)"
   ]
  },
  {
   "cell_type": "code",
   "execution_count": 7,
   "id": "23f9e650-6a5a-45de-9f77-5915e7c4ca39",
   "metadata": {},
   "outputs": [
    {
     "data": {
      "text/html": [],
      "text/latex": [],
      "text/markdown": [],
      "text/plain": [
       "character(0)"
      ]
     },
     "metadata": {},
     "output_type": "display_data"
    },
    {
     "data": {
      "text/html": [
       "<table class=\"dataframe\">\n",
       "<caption>A data.frame: 6 × 15</caption>\n",
       "<thead>\n",
       "\t<tr><th></th><th scope=col>Date</th><th scope=col>Contest.number</th><th scope=col>Word</th><th scope=col>Number.of..reported.results</th><th scope=col>Number.in.hard.mode</th><th scope=col>X1.try</th><th scope=col>X2.tries</th><th scope=col>X3.tries</th><th scope=col>X4.tries</th><th scope=col>X5.tries</th><th scope=col>X6.tries</th><th scope=col>X7.or.more.tries..X.</th><th scope=col>percentHardmode</th><th scope=col>wordFreq</th><th scope=col>wordFreqNorm</th></tr>\n",
       "\t<tr><th></th><th scope=col>&lt;chr&gt;</th><th scope=col>&lt;int&gt;</th><th scope=col>&lt;chr&gt;</th><th scope=col>&lt;int&gt;</th><th scope=col>&lt;int&gt;</th><th scope=col>&lt;int&gt;</th><th scope=col>&lt;int&gt;</th><th scope=col>&lt;int&gt;</th><th scope=col>&lt;int&gt;</th><th scope=col>&lt;int&gt;</th><th scope=col>&lt;int&gt;</th><th scope=col>&lt;int&gt;</th><th scope=col>&lt;dbl&gt;</th><th scope=col>&lt;dbl&gt;</th><th scope=col>&lt;dbl&gt;</th></tr>\n",
       "</thead>\n",
       "<tbody>\n",
       "\t<tr><th scope=row>1</th><td>2022-12-31 00:00:00</td><td>560</td><td>manly</td><td>20380</td><td>1899</td><td>0</td><td>2</td><td>17</td><td>37</td><td>29</td><td>12</td><td> 2</td><td>0.09317959</td><td>4.57e-06</td><td>0.0021355140</td></tr>\n",
       "\t<tr><th scope=row>2</th><td>2022-12-30 00:00:00</td><td>559</td><td>molar</td><td>21204</td><td>1973</td><td>0</td><td>4</td><td>21</td><td>38</td><td>26</td><td> 9</td><td> 1</td><td>0.09304848</td><td>9.77e-07</td><td>0.0004565421</td></tr>\n",
       "\t<tr><th scope=row>3</th><td>2022-12-29 00:00:00</td><td>558</td><td>havoc</td><td>20001</td><td>1919</td><td>0</td><td>2</td><td>16</td><td>38</td><td>30</td><td>12</td><td> 2</td><td>0.09594520</td><td>3.16e-06</td><td>0.0014766355</td></tr>\n",
       "\t<tr><th scope=row>4</th><td>2022-12-28 00:00:00</td><td>557</td><td>impel</td><td>20160</td><td>1937</td><td>0</td><td>3</td><td>21</td><td>40</td><td>25</td><td> 9</td><td> 1</td><td>0.09608135</td><td>2.29e-07</td><td>0.0001070093</td></tr>\n",
       "\t<tr><th scope=row>5</th><td>2022-12-27 00:00:00</td><td>556</td><td>condo</td><td>20879</td><td>2012</td><td>0</td><td>2</td><td>17</td><td>35</td><td>29</td><td>14</td><td> 3</td><td>0.09636477</td><td>4.27e-06</td><td>0.0019953271</td></tr>\n",
       "\t<tr><th scope=row>6</th><td>2022-12-26 00:00:00</td><td>555</td><td>judge</td><td>20011</td><td>2043</td><td>0</td><td>2</td><td> 8</td><td>16</td><td>26</td><td>33</td><td>14</td><td>0.10209385</td><td>8.91e-05</td><td>0.0416355140</td></tr>\n",
       "</tbody>\n",
       "</table>\n"
      ],
      "text/latex": [
       "A data.frame: 6 × 15\n",
       "\\begin{tabular}{r|lllllllllllllll}\n",
       "  & Date & Contest.number & Word & Number.of..reported.results & Number.in.hard.mode & X1.try & X2.tries & X3.tries & X4.tries & X5.tries & X6.tries & X7.or.more.tries..X. & percentHardmode & wordFreq & wordFreqNorm\\\\\n",
       "  & <chr> & <int> & <chr> & <int> & <int> & <int> & <int> & <int> & <int> & <int> & <int> & <int> & <dbl> & <dbl> & <dbl>\\\\\n",
       "\\hline\n",
       "\t1 & 2022-12-31 00:00:00 & 560 & manly & 20380 & 1899 & 0 & 2 & 17 & 37 & 29 & 12 &  2 & 0.09317959 & 4.57e-06 & 0.0021355140\\\\\n",
       "\t2 & 2022-12-30 00:00:00 & 559 & molar & 21204 & 1973 & 0 & 4 & 21 & 38 & 26 &  9 &  1 & 0.09304848 & 9.77e-07 & 0.0004565421\\\\\n",
       "\t3 & 2022-12-29 00:00:00 & 558 & havoc & 20001 & 1919 & 0 & 2 & 16 & 38 & 30 & 12 &  2 & 0.09594520 & 3.16e-06 & 0.0014766355\\\\\n",
       "\t4 & 2022-12-28 00:00:00 & 557 & impel & 20160 & 1937 & 0 & 3 & 21 & 40 & 25 &  9 &  1 & 0.09608135 & 2.29e-07 & 0.0001070093\\\\\n",
       "\t5 & 2022-12-27 00:00:00 & 556 & condo & 20879 & 2012 & 0 & 2 & 17 & 35 & 29 & 14 &  3 & 0.09636477 & 4.27e-06 & 0.0019953271\\\\\n",
       "\t6 & 2022-12-26 00:00:00 & 555 & judge & 20011 & 2043 & 0 & 2 &  8 & 16 & 26 & 33 & 14 & 0.10209385 & 8.91e-05 & 0.0416355140\\\\\n",
       "\\end{tabular}\n"
      ],
      "text/markdown": [
       "\n",
       "A data.frame: 6 × 15\n",
       "\n",
       "| <!--/--> | Date &lt;chr&gt; | Contest.number &lt;int&gt; | Word &lt;chr&gt; | Number.of..reported.results &lt;int&gt; | Number.in.hard.mode &lt;int&gt; | X1.try &lt;int&gt; | X2.tries &lt;int&gt; | X3.tries &lt;int&gt; | X4.tries &lt;int&gt; | X5.tries &lt;int&gt; | X6.tries &lt;int&gt; | X7.or.more.tries..X. &lt;int&gt; | percentHardmode &lt;dbl&gt; | wordFreq &lt;dbl&gt; | wordFreqNorm &lt;dbl&gt; |\n",
       "|---|---|---|---|---|---|---|---|---|---|---|---|---|---|---|---|\n",
       "| 1 | 2022-12-31 00:00:00 | 560 | manly | 20380 | 1899 | 0 | 2 | 17 | 37 | 29 | 12 |  2 | 0.09317959 | 4.57e-06 | 0.0021355140 |\n",
       "| 2 | 2022-12-30 00:00:00 | 559 | molar | 21204 | 1973 | 0 | 4 | 21 | 38 | 26 |  9 |  1 | 0.09304848 | 9.77e-07 | 0.0004565421 |\n",
       "| 3 | 2022-12-29 00:00:00 | 558 | havoc | 20001 | 1919 | 0 | 2 | 16 | 38 | 30 | 12 |  2 | 0.09594520 | 3.16e-06 | 0.0014766355 |\n",
       "| 4 | 2022-12-28 00:00:00 | 557 | impel | 20160 | 1937 | 0 | 3 | 21 | 40 | 25 |  9 |  1 | 0.09608135 | 2.29e-07 | 0.0001070093 |\n",
       "| 5 | 2022-12-27 00:00:00 | 556 | condo | 20879 | 2012 | 0 | 2 | 17 | 35 | 29 | 14 |  3 | 0.09636477 | 4.27e-06 | 0.0019953271 |\n",
       "| 6 | 2022-12-26 00:00:00 | 555 | judge | 20011 | 2043 | 0 | 2 |  8 | 16 | 26 | 33 | 14 | 0.10209385 | 8.91e-05 | 0.0416355140 |\n",
       "\n"
      ],
      "text/plain": [
       "  Date                Contest.number Word  Number.of..reported.results\n",
       "1 2022-12-31 00:00:00 560            manly 20380                      \n",
       "2 2022-12-30 00:00:00 559            molar 21204                      \n",
       "3 2022-12-29 00:00:00 558            havoc 20001                      \n",
       "4 2022-12-28 00:00:00 557            impel 20160                      \n",
       "5 2022-12-27 00:00:00 556            condo 20879                      \n",
       "6 2022-12-26 00:00:00 555            judge 20011                      \n",
       "  Number.in.hard.mode X1.try X2.tries X3.tries X4.tries X5.tries X6.tries\n",
       "1 1899                0      2        17       37       29       12      \n",
       "2 1973                0      4        21       38       26        9      \n",
       "3 1919                0      2        16       38       30       12      \n",
       "4 1937                0      3        21       40       25        9      \n",
       "5 2012                0      2        17       35       29       14      \n",
       "6 2043                0      2         8       16       26       33      \n",
       "  X7.or.more.tries..X. percentHardmode wordFreq wordFreqNorm\n",
       "1  2                   0.09317959      4.57e-06 0.0021355140\n",
       "2  1                   0.09304848      9.77e-07 0.0004565421\n",
       "3  2                   0.09594520      3.16e-06 0.0014766355\n",
       "4  1                   0.09608135      2.29e-07 0.0001070093\n",
       "5  3                   0.09636477      4.27e-06 0.0019953271\n",
       "6 14                   0.10209385      8.91e-05 0.0416355140"
      ]
     },
     "metadata": {},
     "output_type": "display_data"
    }
   ],
   "source": [
    "system(\"gsutil cp gs://mcm_2023_data/dataSum.csv ~/MCM_2023\", intern=TRUE)\n",
    "dataSum = read.table('./dataSum.csv',sep=',', header=TRUE)\n",
    "head(dataSum)"
   ]
  },
  {
   "cell_type": "code",
   "execution_count": 8,
   "id": "deebe936-16fd-4329-8207-6e066da92eba",
   "metadata": {},
   "outputs": [
    {
     "data": {
      "text/html": [
       "<table class=\"dataframe\">\n",
       "<caption>A tibble: 6 × 16</caption>\n",
       "<thead>\n",
       "\t<tr><th scope=col>Date</th><th scope=col>Contest number</th><th scope=col>Word</th><th scope=col>Number of  reported results</th><th scope=col>Number in hard mode</th><th scope=col>1 try</th><th scope=col>2 tries</th><th scope=col>3 tries</th><th scope=col>4 tries</th><th scope=col>5 tries</th><th scope=col>6 tries</th><th scope=col>7 or more tries (X)</th><th scope=col>avg</th><th scope=col>stDev</th><th scope=col>percentHardMode</th><th scope=col>wordFreq</th></tr>\n",
       "\t<tr><th scope=col>&lt;chr&gt;</th><th scope=col>&lt;chr&gt;</th><th scope=col>&lt;chr&gt;</th><th scope=col>&lt;chr&gt;</th><th scope=col>&lt;chr&gt;</th><th scope=col>&lt;chr&gt;</th><th scope=col>&lt;chr&gt;</th><th scope=col>&lt;chr&gt;</th><th scope=col>&lt;chr&gt;</th><th scope=col>&lt;chr&gt;</th><th scope=col>&lt;chr&gt;</th><th scope=col>&lt;chr&gt;</th><th scope=col>&lt;dbl&gt;</th><th scope=col>&lt;dbl&gt;</th><th scope=col>&lt;dbl&gt;</th><th scope=col>&lt;dbl&gt;</th></tr>\n",
       "</thead>\n",
       "<tbody>\n",
       "\t<tr><td>44926</td><td>560</td><td>manly</td><td>20380</td><td>1899</td><td>0</td><td>2</td><td>17</td><td>37</td><td>29</td><td>12</td><td>2 </td><td>4.34</td><td>0.6326927</td><td>0.09317959</td><td>4.57e-06</td></tr>\n",
       "\t<tr><td>44925</td><td>559</td><td>molar</td><td>21204</td><td>1973</td><td>0</td><td>4</td><td>21</td><td>38</td><td>26</td><td>9 </td><td>1 </td><td>4.14</td><td>0.6126018</td><td>0.09304848</td><td>9.77e-07</td></tr>\n",
       "\t<tr><td>44924</td><td>558</td><td>havoc</td><td>20001</td><td>1919</td><td>0</td><td>2</td><td>16</td><td>38</td><td>30</td><td>12</td><td>2 </td><td>4.40</td><td>0.6537948</td><td>0.09594520</td><td>3.16e-06</td></tr>\n",
       "\t<tr><td>44923</td><td>557</td><td>impel</td><td>20160</td><td>1937</td><td>0</td><td>3</td><td>21</td><td>40</td><td>25</td><td>9 </td><td>1 </td><td>4.15</td><td>0.6270490</td><td>0.09608135</td><td>2.29e-07</td></tr>\n",
       "\t<tr><td>44922</td><td>556</td><td>condo</td><td>20879</td><td>2012</td><td>0</td><td>2</td><td>17</td><td>35</td><td>29</td><td>14</td><td>3 </td><td>4.45</td><td>0.6116878</td><td>0.09636477</td><td>4.27e-06</td></tr>\n",
       "\t<tr><td>44921</td><td>555</td><td>judge</td><td>20011</td><td>2043</td><td>0</td><td>2</td><td>8 </td><td>16</td><td>26</td><td>33</td><td>14</td><td>5.18</td><td>0.7310267</td><td>0.10209385</td><td>8.91e-05</td></tr>\n",
       "</tbody>\n",
       "</table>\n"
      ],
      "text/latex": [
       "A tibble: 6 × 16\n",
       "\\begin{tabular}{llllllllllllllll}\n",
       " Date & Contest number & Word & Number of  reported results & Number in hard mode & 1 try & 2 tries & 3 tries & 4 tries & 5 tries & 6 tries & 7 or more tries (X) & avg & stDev & percentHardMode & wordFreq\\\\\n",
       " <chr> & <chr> & <chr> & <chr> & <chr> & <chr> & <chr> & <chr> & <chr> & <chr> & <chr> & <chr> & <dbl> & <dbl> & <dbl> & <dbl>\\\\\n",
       "\\hline\n",
       "\t 44926 & 560 & manly & 20380 & 1899 & 0 & 2 & 17 & 37 & 29 & 12 & 2  & 4.34 & 0.6326927 & 0.09317959 & 4.57e-06\\\\\n",
       "\t 44925 & 559 & molar & 21204 & 1973 & 0 & 4 & 21 & 38 & 26 & 9  & 1  & 4.14 & 0.6126018 & 0.09304848 & 9.77e-07\\\\\n",
       "\t 44924 & 558 & havoc & 20001 & 1919 & 0 & 2 & 16 & 38 & 30 & 12 & 2  & 4.40 & 0.6537948 & 0.09594520 & 3.16e-06\\\\\n",
       "\t 44923 & 557 & impel & 20160 & 1937 & 0 & 3 & 21 & 40 & 25 & 9  & 1  & 4.15 & 0.6270490 & 0.09608135 & 2.29e-07\\\\\n",
       "\t 44922 & 556 & condo & 20879 & 2012 & 0 & 2 & 17 & 35 & 29 & 14 & 3  & 4.45 & 0.6116878 & 0.09636477 & 4.27e-06\\\\\n",
       "\t 44921 & 555 & judge & 20011 & 2043 & 0 & 2 & 8  & 16 & 26 & 33 & 14 & 5.18 & 0.7310267 & 0.10209385 & 8.91e-05\\\\\n",
       "\\end{tabular}\n"
      ],
      "text/markdown": [
       "\n",
       "A tibble: 6 × 16\n",
       "\n",
       "| Date &lt;chr&gt; | Contest number &lt;chr&gt; | Word &lt;chr&gt; | Number of  reported results &lt;chr&gt; | Number in hard mode &lt;chr&gt; | 1 try &lt;chr&gt; | 2 tries &lt;chr&gt; | 3 tries &lt;chr&gt; | 4 tries &lt;chr&gt; | 5 tries &lt;chr&gt; | 6 tries &lt;chr&gt; | 7 or more tries (X) &lt;chr&gt; | avg &lt;dbl&gt; | stDev &lt;dbl&gt; | percentHardMode &lt;dbl&gt; | wordFreq &lt;dbl&gt; |\n",
       "|---|---|---|---|---|---|---|---|---|---|---|---|---|---|---|---|\n",
       "| 44926 | 560 | manly | 20380 | 1899 | 0 | 2 | 17 | 37 | 29 | 12 | 2  | 4.34 | 0.6326927 | 0.09317959 | 4.57e-06 |\n",
       "| 44925 | 559 | molar | 21204 | 1973 | 0 | 4 | 21 | 38 | 26 | 9  | 1  | 4.14 | 0.6126018 | 0.09304848 | 9.77e-07 |\n",
       "| 44924 | 558 | havoc | 20001 | 1919 | 0 | 2 | 16 | 38 | 30 | 12 | 2  | 4.40 | 0.6537948 | 0.09594520 | 3.16e-06 |\n",
       "| 44923 | 557 | impel | 20160 | 1937 | 0 | 3 | 21 | 40 | 25 | 9  | 1  | 4.15 | 0.6270490 | 0.09608135 | 2.29e-07 |\n",
       "| 44922 | 556 | condo | 20879 | 2012 | 0 | 2 | 17 | 35 | 29 | 14 | 3  | 4.45 | 0.6116878 | 0.09636477 | 4.27e-06 |\n",
       "| 44921 | 555 | judge | 20011 | 2043 | 0 | 2 | 8  | 16 | 26 | 33 | 14 | 5.18 | 0.7310267 | 0.10209385 | 8.91e-05 |\n",
       "\n"
      ],
      "text/plain": [
       "  Date  Contest number Word  Number of  reported results Number in hard mode\n",
       "1 44926 560            manly 20380                       1899               \n",
       "2 44925 559            molar 21204                       1973               \n",
       "3 44924 558            havoc 20001                       1919               \n",
       "4 44923 557            impel 20160                       1937               \n",
       "5 44922 556            condo 20879                       2012               \n",
       "6 44921 555            judge 20011                       2043               \n",
       "  1 try 2 tries 3 tries 4 tries 5 tries 6 tries 7 or more tries (X) avg \n",
       "1 0     2       17      37      29      12      2                   4.34\n",
       "2 0     4       21      38      26      9       1                   4.14\n",
       "3 0     2       16      38      30      12      2                   4.40\n",
       "4 0     3       21      40      25      9       1                   4.15\n",
       "5 0     2       17      35      29      14      3                   4.45\n",
       "6 0     2       8       16      26      33      14                  5.18\n",
       "  stDev     percentHardMode wordFreq\n",
       "1 0.6326927 0.09317959      4.57e-06\n",
       "2 0.6126018 0.09304848      9.77e-07\n",
       "3 0.6537948 0.09594520      3.16e-06\n",
       "4 0.6270490 0.09608135      2.29e-07\n",
       "5 0.6116878 0.09636477      4.27e-06\n",
       "6 0.7310267 0.10209385      8.91e-05"
      ]
     },
     "metadata": {},
     "output_type": "display_data"
    }
   ],
   "source": [
    "combinedSet <- initialSet\n",
    "combinedSet$percentHardMode <- dataSum[,'percentHardmode']\n",
    "combinedSet$wordFreq <- dataSum[,'wordFreq']\n",
    "\n",
    "head(combinedSet)"
   ]
  },
  {
   "cell_type": "code",
   "execution_count": 9,
   "id": "a8c9db36-bafe-43ec-8698-df750b150e2a",
   "metadata": {},
   "outputs": [
    {
     "name": "stdout",
     "output_type": "stream",
     "text": [
      "[1] 0.00214\n",
      "[1] 3.55e-08\n"
     ]
    },
    {
     "data": {
      "text/html": [
       "<table class=\"dataframe\">\n",
       "<caption>A tibble: 6 × 16</caption>\n",
       "<thead>\n",
       "\t<tr><th scope=col>Date</th><th scope=col>Contest number</th><th scope=col>Word</th><th scope=col>Number of  reported results</th><th scope=col>Number in hard mode</th><th scope=col>1 try</th><th scope=col>2 tries</th><th scope=col>3 tries</th><th scope=col>4 tries</th><th scope=col>5 tries</th><th scope=col>6 tries</th><th scope=col>7 or more tries (X)</th><th scope=col>avg</th><th scope=col>stDev</th><th scope=col>percentHardMode</th><th scope=col>adjFreq</th></tr>\n",
       "\t<tr><th scope=col>&lt;chr&gt;</th><th scope=col>&lt;chr&gt;</th><th scope=col>&lt;chr&gt;</th><th scope=col>&lt;chr&gt;</th><th scope=col>&lt;chr&gt;</th><th scope=col>&lt;chr&gt;</th><th scope=col>&lt;chr&gt;</th><th scope=col>&lt;chr&gt;</th><th scope=col>&lt;chr&gt;</th><th scope=col>&lt;chr&gt;</th><th scope=col>&lt;chr&gt;</th><th scope=col>&lt;chr&gt;</th><th scope=col>&lt;dbl&gt;</th><th scope=col>&lt;dbl&gt;</th><th scope=col>&lt;dbl&gt;</th><th scope=col>&lt;dbl&gt;</th></tr>\n",
       "</thead>\n",
       "<tbody>\n",
       "\t<tr><td>44926</td><td>560</td><td>manly</td><td>20380</td><td>1899</td><td>0</td><td>2</td><td>17</td><td>37</td><td>29</td><td>12</td><td>2 </td><td>4.34</td><td>0.6326927</td><td>0.09317959</td><td>0.0021355140</td></tr>\n",
       "\t<tr><td>44925</td><td>559</td><td>molar</td><td>21204</td><td>1973</td><td>0</td><td>4</td><td>21</td><td>38</td><td>26</td><td>9 </td><td>1 </td><td>4.14</td><td>0.6126018</td><td>0.09304848</td><td>0.0004565421</td></tr>\n",
       "\t<tr><td>44924</td><td>558</td><td>havoc</td><td>20001</td><td>1919</td><td>0</td><td>2</td><td>16</td><td>38</td><td>30</td><td>12</td><td>2 </td><td>4.40</td><td>0.6537948</td><td>0.09594520</td><td>0.0014766355</td></tr>\n",
       "\t<tr><td>44923</td><td>557</td><td>impel</td><td>20160</td><td>1937</td><td>0</td><td>3</td><td>21</td><td>40</td><td>25</td><td>9 </td><td>1 </td><td>4.15</td><td>0.6270490</td><td>0.09608135</td><td>0.0001070093</td></tr>\n",
       "\t<tr><td>44922</td><td>556</td><td>condo</td><td>20879</td><td>2012</td><td>0</td><td>2</td><td>17</td><td>35</td><td>29</td><td>14</td><td>3 </td><td>4.45</td><td>0.6116878</td><td>0.09636477</td><td>0.0019953271</td></tr>\n",
       "\t<tr><td>44921</td><td>555</td><td>judge</td><td>20011</td><td>2043</td><td>0</td><td>2</td><td>8 </td><td>16</td><td>26</td><td>33</td><td>14</td><td>5.18</td><td>0.7310267</td><td>0.10209385</td><td>0.0416355140</td></tr>\n",
       "</tbody>\n",
       "</table>\n"
      ],
      "text/latex": [
       "A tibble: 6 × 16\n",
       "\\begin{tabular}{llllllllllllllll}\n",
       " Date & Contest number & Word & Number of  reported results & Number in hard mode & 1 try & 2 tries & 3 tries & 4 tries & 5 tries & 6 tries & 7 or more tries (X) & avg & stDev & percentHardMode & adjFreq\\\\\n",
       " <chr> & <chr> & <chr> & <chr> & <chr> & <chr> & <chr> & <chr> & <chr> & <chr> & <chr> & <chr> & <dbl> & <dbl> & <dbl> & <dbl>\\\\\n",
       "\\hline\n",
       "\t 44926 & 560 & manly & 20380 & 1899 & 0 & 2 & 17 & 37 & 29 & 12 & 2  & 4.34 & 0.6326927 & 0.09317959 & 0.0021355140\\\\\n",
       "\t 44925 & 559 & molar & 21204 & 1973 & 0 & 4 & 21 & 38 & 26 & 9  & 1  & 4.14 & 0.6126018 & 0.09304848 & 0.0004565421\\\\\n",
       "\t 44924 & 558 & havoc & 20001 & 1919 & 0 & 2 & 16 & 38 & 30 & 12 & 2  & 4.40 & 0.6537948 & 0.09594520 & 0.0014766355\\\\\n",
       "\t 44923 & 557 & impel & 20160 & 1937 & 0 & 3 & 21 & 40 & 25 & 9  & 1  & 4.15 & 0.6270490 & 0.09608135 & 0.0001070093\\\\\n",
       "\t 44922 & 556 & condo & 20879 & 2012 & 0 & 2 & 17 & 35 & 29 & 14 & 3  & 4.45 & 0.6116878 & 0.09636477 & 0.0019953271\\\\\n",
       "\t 44921 & 555 & judge & 20011 & 2043 & 0 & 2 & 8  & 16 & 26 & 33 & 14 & 5.18 & 0.7310267 & 0.10209385 & 0.0416355140\\\\\n",
       "\\end{tabular}\n"
      ],
      "text/markdown": [
       "\n",
       "A tibble: 6 × 16\n",
       "\n",
       "| Date &lt;chr&gt; | Contest number &lt;chr&gt; | Word &lt;chr&gt; | Number of  reported results &lt;chr&gt; | Number in hard mode &lt;chr&gt; | 1 try &lt;chr&gt; | 2 tries &lt;chr&gt; | 3 tries &lt;chr&gt; | 4 tries &lt;chr&gt; | 5 tries &lt;chr&gt; | 6 tries &lt;chr&gt; | 7 or more tries (X) &lt;chr&gt; | avg &lt;dbl&gt; | stDev &lt;dbl&gt; | percentHardMode &lt;dbl&gt; | adjFreq &lt;dbl&gt; |\n",
       "|---|---|---|---|---|---|---|---|---|---|---|---|---|---|---|---|\n",
       "| 44926 | 560 | manly | 20380 | 1899 | 0 | 2 | 17 | 37 | 29 | 12 | 2  | 4.34 | 0.6326927 | 0.09317959 | 0.0021355140 |\n",
       "| 44925 | 559 | molar | 21204 | 1973 | 0 | 4 | 21 | 38 | 26 | 9  | 1  | 4.14 | 0.6126018 | 0.09304848 | 0.0004565421 |\n",
       "| 44924 | 558 | havoc | 20001 | 1919 | 0 | 2 | 16 | 38 | 30 | 12 | 2  | 4.40 | 0.6537948 | 0.09594520 | 0.0014766355 |\n",
       "| 44923 | 557 | impel | 20160 | 1937 | 0 | 3 | 21 | 40 | 25 | 9  | 1  | 4.15 | 0.6270490 | 0.09608135 | 0.0001070093 |\n",
       "| 44922 | 556 | condo | 20879 | 2012 | 0 | 2 | 17 | 35 | 29 | 14 | 3  | 4.45 | 0.6116878 | 0.09636477 | 0.0019953271 |\n",
       "| 44921 | 555 | judge | 20011 | 2043 | 0 | 2 | 8  | 16 | 26 | 33 | 14 | 5.18 | 0.7310267 | 0.10209385 | 0.0416355140 |\n",
       "\n"
      ],
      "text/plain": [
       "  Date  Contest number Word  Number of  reported results Number in hard mode\n",
       "1 44926 560            manly 20380                       1899               \n",
       "2 44925 559            molar 21204                       1973               \n",
       "3 44924 558            havoc 20001                       1919               \n",
       "4 44923 557            impel 20160                       1937               \n",
       "5 44922 556            condo 20879                       2012               \n",
       "6 44921 555            judge 20011                       2043               \n",
       "  1 try 2 tries 3 tries 4 tries 5 tries 6 tries 7 or more tries (X) avg \n",
       "1 0     2       17      37      29      12      2                   4.34\n",
       "2 0     4       21      38      26      9       1                   4.14\n",
       "3 0     2       16      38      30      12      2                   4.40\n",
       "4 0     3       21      40      25      9       1                   4.15\n",
       "5 0     2       17      35      29      14      3                   4.45\n",
       "6 0     2       8       16      26      33      14                  5.18\n",
       "  stDev     percentHardMode adjFreq     \n",
       "1 0.6326927 0.09317959      0.0021355140\n",
       "2 0.6126018 0.09304848      0.0004565421\n",
       "3 0.6537948 0.09594520      0.0014766355\n",
       "4 0.6270490 0.09608135      0.0001070093\n",
       "5 0.6116878 0.09636477      0.0019953271\n",
       "6 0.7310267 0.10209385      0.0416355140"
      ]
     },
     "metadata": {},
     "output_type": "display_data"
    },
    {
     "name": "stdout",
     "output_type": "stream",
     "text": [
      "[1] 1\n",
      "[1] 1.658879e-05\n"
     ]
    }
   ],
   "source": [
    "highestFreq <- max(combinedSet$wordFreq)\n",
    "lowestFreq <- min(combinedSet$wordFreq)\n",
    "print(highestFreq)\n",
    "print(lowestFreq)\n",
    "\n",
    "\n",
    "combinedSet$adjFreq <- combinedSet$wordFreq / highestFreq\n",
    "\n",
    "combinedSet <- subset(combinedSet, select = -c(wordFreq))\n",
    "\n",
    "head(combinedSet)\n",
    "highestFreq <- max(combinedSet$adjFreq)\n",
    "lowestFreq <- min(combinedSet$adjFreq)\n",
    "print(highestFreq)\n",
    "print(lowestFreq)\n"
   ]
  },
  {
   "cell_type": "code",
   "execution_count": 10,
   "id": "349afb43-429b-403b-84ff-9b125d132dbc",
   "metadata": {},
   "outputs": [
    {
     "data": {
      "text/html": [
       "<table class=\"dataframe\">\n",
       "<caption>A tibble: 6 × 17</caption>\n",
       "<thead>\n",
       "\t<tr><th scope=col>Date</th><th scope=col>Contest number</th><th scope=col>Word</th><th scope=col>Number of  reported results</th><th scope=col>Number in hard mode</th><th scope=col>1 try</th><th scope=col>2 tries</th><th scope=col>3 tries</th><th scope=col>4 tries</th><th scope=col>5 tries</th><th scope=col>6 tries</th><th scope=col>7 or more tries (X)</th><th scope=col>avg</th><th scope=col>stDev</th><th scope=col>percentHardMode</th><th scope=col>adjFreq</th><th scope=col>counts</th></tr>\n",
       "\t<tr><th scope=col>&lt;chr&gt;</th><th scope=col>&lt;chr&gt;</th><th scope=col>&lt;chr&gt;</th><th scope=col>&lt;chr&gt;</th><th scope=col>&lt;chr&gt;</th><th scope=col>&lt;chr&gt;</th><th scope=col>&lt;chr&gt;</th><th scope=col>&lt;chr&gt;</th><th scope=col>&lt;chr&gt;</th><th scope=col>&lt;chr&gt;</th><th scope=col>&lt;chr&gt;</th><th scope=col>&lt;chr&gt;</th><th scope=col>&lt;dbl&gt;</th><th scope=col>&lt;dbl&gt;</th><th scope=col>&lt;dbl&gt;</th><th scope=col>&lt;dbl&gt;</th><th scope=col>&lt;list&gt;</th></tr>\n",
       "</thead>\n",
       "<tbody>\n",
       "\t<tr><td>44926</td><td>560</td><td>manly</td><td>20380</td><td>1899</td><td>0</td><td>2</td><td>17</td><td>37</td><td>29</td><td>12</td><td>2 </td><td>4.34</td><td>0.6326927</td><td>0.09317959</td><td>0.0021355140</td><td>1, 0, 0, 0, 0, 0, 0, 0, 0, 0, 0, 1, 1, 1, 0, 0, 0, 0, 0, 0, 0, 0, 0, 0, 1, 0</td></tr>\n",
       "\t<tr><td>44925</td><td>559</td><td>molar</td><td>21204</td><td>1973</td><td>0</td><td>4</td><td>21</td><td>38</td><td>26</td><td>9 </td><td>1 </td><td>4.14</td><td>0.6126018</td><td>0.09304848</td><td>0.0004565421</td><td>1, 0, 0, 0, 0, 0, 0, 0, 0, 0, 0, 1, 1, 0, 1, 0, 0, 1, 0, 0, 0, 0, 0, 0, 0, 0</td></tr>\n",
       "\t<tr><td>44924</td><td>558</td><td>havoc</td><td>20001</td><td>1919</td><td>0</td><td>2</td><td>16</td><td>38</td><td>30</td><td>12</td><td>2 </td><td>4.40</td><td>0.6537948</td><td>0.09594520</td><td>0.0014766355</td><td>1, 0, 1, 0, 0, 0, 0, 1, 0, 0, 0, 0, 0, 0, 1, 0, 0, 0, 0, 0, 0, 1, 0, 0, 0, 0</td></tr>\n",
       "\t<tr><td>44923</td><td>557</td><td>impel</td><td>20160</td><td>1937</td><td>0</td><td>3</td><td>21</td><td>40</td><td>25</td><td>9 </td><td>1 </td><td>4.15</td><td>0.6270490</td><td>0.09608135</td><td>0.0001070093</td><td>0, 0, 0, 0, 1, 0, 0, 0, 1, 0, 0, 1, 1, 0, 0, 1, 0, 0, 0, 0, 0, 0, 0, 0, 0, 0</td></tr>\n",
       "\t<tr><td>44922</td><td>556</td><td>condo</td><td>20879</td><td>2012</td><td>0</td><td>2</td><td>17</td><td>35</td><td>29</td><td>14</td><td>3 </td><td>4.45</td><td>0.6116878</td><td>0.09636477</td><td>0.0019953271</td><td>0, 0, 1, 1, 0, 0, 0, 0, 0, 0, 0, 0, 0, 1, 2, 0, 0, 0, 0, 0, 0, 0, 0, 0, 0, 0</td></tr>\n",
       "\t<tr><td>44921</td><td>555</td><td>judge</td><td>20011</td><td>2043</td><td>0</td><td>2</td><td>8 </td><td>16</td><td>26</td><td>33</td><td>14</td><td>5.18</td><td>0.7310267</td><td>0.10209385</td><td>0.0416355140</td><td>0, 0, 0, 1, 1, 0, 1, 0, 0, 1, 0, 0, 0, 0, 0, 0, 0, 0, 0, 0, 1, 0, 0, 0, 0, 0</td></tr>\n",
       "</tbody>\n",
       "</table>\n"
      ],
      "text/latex": [
       "A tibble: 6 × 17\n",
       "\\begin{tabular}{lllllllllllllllll}\n",
       " Date & Contest number & Word & Number of  reported results & Number in hard mode & 1 try & 2 tries & 3 tries & 4 tries & 5 tries & 6 tries & 7 or more tries (X) & avg & stDev & percentHardMode & adjFreq & counts\\\\\n",
       " <chr> & <chr> & <chr> & <chr> & <chr> & <chr> & <chr> & <chr> & <chr> & <chr> & <chr> & <chr> & <dbl> & <dbl> & <dbl> & <dbl> & <list>\\\\\n",
       "\\hline\n",
       "\t 44926 & 560 & manly & 20380 & 1899 & 0 & 2 & 17 & 37 & 29 & 12 & 2  & 4.34 & 0.6326927 & 0.09317959 & 0.0021355140 & 1, 0, 0, 0, 0, 0, 0, 0, 0, 0, 0, 1, 1, 1, 0, 0, 0, 0, 0, 0, 0, 0, 0, 0, 1, 0\\\\\n",
       "\t 44925 & 559 & molar & 21204 & 1973 & 0 & 4 & 21 & 38 & 26 & 9  & 1  & 4.14 & 0.6126018 & 0.09304848 & 0.0004565421 & 1, 0, 0, 0, 0, 0, 0, 0, 0, 0, 0, 1, 1, 0, 1, 0, 0, 1, 0, 0, 0, 0, 0, 0, 0, 0\\\\\n",
       "\t 44924 & 558 & havoc & 20001 & 1919 & 0 & 2 & 16 & 38 & 30 & 12 & 2  & 4.40 & 0.6537948 & 0.09594520 & 0.0014766355 & 1, 0, 1, 0, 0, 0, 0, 1, 0, 0, 0, 0, 0, 0, 1, 0, 0, 0, 0, 0, 0, 1, 0, 0, 0, 0\\\\\n",
       "\t 44923 & 557 & impel & 20160 & 1937 & 0 & 3 & 21 & 40 & 25 & 9  & 1  & 4.15 & 0.6270490 & 0.09608135 & 0.0001070093 & 0, 0, 0, 0, 1, 0, 0, 0, 1, 0, 0, 1, 1, 0, 0, 1, 0, 0, 0, 0, 0, 0, 0, 0, 0, 0\\\\\n",
       "\t 44922 & 556 & condo & 20879 & 2012 & 0 & 2 & 17 & 35 & 29 & 14 & 3  & 4.45 & 0.6116878 & 0.09636477 & 0.0019953271 & 0, 0, 1, 1, 0, 0, 0, 0, 0, 0, 0, 0, 0, 1, 2, 0, 0, 0, 0, 0, 0, 0, 0, 0, 0, 0\\\\\n",
       "\t 44921 & 555 & judge & 20011 & 2043 & 0 & 2 & 8  & 16 & 26 & 33 & 14 & 5.18 & 0.7310267 & 0.10209385 & 0.0416355140 & 0, 0, 0, 1, 1, 0, 1, 0, 0, 1, 0, 0, 0, 0, 0, 0, 0, 0, 0, 0, 1, 0, 0, 0, 0, 0\\\\\n",
       "\\end{tabular}\n"
      ],
      "text/markdown": [
       "\n",
       "A tibble: 6 × 17\n",
       "\n",
       "| Date &lt;chr&gt; | Contest number &lt;chr&gt; | Word &lt;chr&gt; | Number of  reported results &lt;chr&gt; | Number in hard mode &lt;chr&gt; | 1 try &lt;chr&gt; | 2 tries &lt;chr&gt; | 3 tries &lt;chr&gt; | 4 tries &lt;chr&gt; | 5 tries &lt;chr&gt; | 6 tries &lt;chr&gt; | 7 or more tries (X) &lt;chr&gt; | avg &lt;dbl&gt; | stDev &lt;dbl&gt; | percentHardMode &lt;dbl&gt; | adjFreq &lt;dbl&gt; | counts &lt;list&gt; |\n",
       "|---|---|---|---|---|---|---|---|---|---|---|---|---|---|---|---|---|\n",
       "| 44926 | 560 | manly | 20380 | 1899 | 0 | 2 | 17 | 37 | 29 | 12 | 2  | 4.34 | 0.6326927 | 0.09317959 | 0.0021355140 | 1, 0, 0, 0, 0, 0, 0, 0, 0, 0, 0, 1, 1, 1, 0, 0, 0, 0, 0, 0, 0, 0, 0, 0, 1, 0 |\n",
       "| 44925 | 559 | molar | 21204 | 1973 | 0 | 4 | 21 | 38 | 26 | 9  | 1  | 4.14 | 0.6126018 | 0.09304848 | 0.0004565421 | 1, 0, 0, 0, 0, 0, 0, 0, 0, 0, 0, 1, 1, 0, 1, 0, 0, 1, 0, 0, 0, 0, 0, 0, 0, 0 |\n",
       "| 44924 | 558 | havoc | 20001 | 1919 | 0 | 2 | 16 | 38 | 30 | 12 | 2  | 4.40 | 0.6537948 | 0.09594520 | 0.0014766355 | 1, 0, 1, 0, 0, 0, 0, 1, 0, 0, 0, 0, 0, 0, 1, 0, 0, 0, 0, 0, 0, 1, 0, 0, 0, 0 |\n",
       "| 44923 | 557 | impel | 20160 | 1937 | 0 | 3 | 21 | 40 | 25 | 9  | 1  | 4.15 | 0.6270490 | 0.09608135 | 0.0001070093 | 0, 0, 0, 0, 1, 0, 0, 0, 1, 0, 0, 1, 1, 0, 0, 1, 0, 0, 0, 0, 0, 0, 0, 0, 0, 0 |\n",
       "| 44922 | 556 | condo | 20879 | 2012 | 0 | 2 | 17 | 35 | 29 | 14 | 3  | 4.45 | 0.6116878 | 0.09636477 | 0.0019953271 | 0, 0, 1, 1, 0, 0, 0, 0, 0, 0, 0, 0, 0, 1, 2, 0, 0, 0, 0, 0, 0, 0, 0, 0, 0, 0 |\n",
       "| 44921 | 555 | judge | 20011 | 2043 | 0 | 2 | 8  | 16 | 26 | 33 | 14 | 5.18 | 0.7310267 | 0.10209385 | 0.0416355140 | 0, 0, 0, 1, 1, 0, 1, 0, 0, 1, 0, 0, 0, 0, 0, 0, 0, 0, 0, 0, 1, 0, 0, 0, 0, 0 |\n",
       "\n"
      ],
      "text/plain": [
       "  Date  Contest number Word  Number of  reported results Number in hard mode\n",
       "1 44926 560            manly 20380                       1899               \n",
       "2 44925 559            molar 21204                       1973               \n",
       "3 44924 558            havoc 20001                       1919               \n",
       "4 44923 557            impel 20160                       1937               \n",
       "5 44922 556            condo 20879                       2012               \n",
       "6 44921 555            judge 20011                       2043               \n",
       "  1 try 2 tries 3 tries 4 tries 5 tries 6 tries 7 or more tries (X) avg \n",
       "1 0     2       17      37      29      12      2                   4.34\n",
       "2 0     4       21      38      26      9       1                   4.14\n",
       "3 0     2       16      38      30      12      2                   4.40\n",
       "4 0     3       21      40      25      9       1                   4.15\n",
       "5 0     2       17      35      29      14      3                   4.45\n",
       "6 0     2       8       16      26      33      14                  5.18\n",
       "  stDev     percentHardMode adjFreq     \n",
       "1 0.6326927 0.09317959      0.0021355140\n",
       "2 0.6126018 0.09304848      0.0004565421\n",
       "3 0.6537948 0.09594520      0.0014766355\n",
       "4 0.6270490 0.09608135      0.0001070093\n",
       "5 0.6116878 0.09636477      0.0019953271\n",
       "6 0.7310267 0.10209385      0.0416355140\n",
       "  counts                                                                      \n",
       "1 1, 0, 0, 0, 0, 0, 0, 0, 0, 0, 0, 1, 1, 1, 0, 0, 0, 0, 0, 0, 0, 0, 0, 0, 1, 0\n",
       "2 1, 0, 0, 0, 0, 0, 0, 0, 0, 0, 0, 1, 1, 0, 1, 0, 0, 1, 0, 0, 0, 0, 0, 0, 0, 0\n",
       "3 1, 0, 1, 0, 0, 0, 0, 1, 0, 0, 0, 0, 0, 0, 1, 0, 0, 0, 0, 0, 0, 1, 0, 0, 0, 0\n",
       "4 0, 0, 0, 0, 1, 0, 0, 0, 1, 0, 0, 1, 1, 0, 0, 1, 0, 0, 0, 0, 0, 0, 0, 0, 0, 0\n",
       "5 0, 0, 1, 1, 0, 0, 0, 0, 0, 0, 0, 0, 0, 1, 2, 0, 0, 0, 0, 0, 0, 0, 0, 0, 0, 0\n",
       "6 0, 0, 0, 1, 1, 0, 1, 0, 0, 1, 0, 0, 0, 0, 0, 0, 0, 0, 0, 0, 1, 0, 0, 0, 0, 0"
      ]
     },
     "metadata": {},
     "output_type": "display_data"
    },
    {
     "data": {
      "text/html": [
       "<table class=\"dataframe\">\n",
       "<caption>A tibble: 6 × 42</caption>\n",
       "<thead>\n",
       "\t<tr><th scope=col>Date</th><th scope=col>Contest number</th><th scope=col>Word</th><th scope=col>Number of  reported results</th><th scope=col>Number in hard mode</th><th scope=col>1 try</th><th scope=col>2 tries</th><th scope=col>3 tries</th><th scope=col>4 tries</th><th scope=col>5 tries</th><th scope=col>⋯</th><th scope=col>q</th><th scope=col>r</th><th scope=col>s</th><th scope=col>t</th><th scope=col>u</th><th scope=col>v</th><th scope=col>w</th><th scope=col>x</th><th scope=col>y</th><th scope=col>z</th></tr>\n",
       "\t<tr><th scope=col>&lt;chr&gt;</th><th scope=col>&lt;chr&gt;</th><th scope=col>&lt;chr&gt;</th><th scope=col>&lt;chr&gt;</th><th scope=col>&lt;chr&gt;</th><th scope=col>&lt;chr&gt;</th><th scope=col>&lt;chr&gt;</th><th scope=col>&lt;chr&gt;</th><th scope=col>&lt;chr&gt;</th><th scope=col>&lt;chr&gt;</th><th scope=col>⋯</th><th scope=col>&lt;chr&gt;</th><th scope=col>&lt;chr&gt;</th><th scope=col>&lt;chr&gt;</th><th scope=col>&lt;chr&gt;</th><th scope=col>&lt;chr&gt;</th><th scope=col>&lt;chr&gt;</th><th scope=col>&lt;chr&gt;</th><th scope=col>&lt;chr&gt;</th><th scope=col>&lt;chr&gt;</th><th scope=col>&lt;chr&gt;</th></tr>\n",
       "</thead>\n",
       "<tbody>\n",
       "\t<tr><td>44926</td><td>560</td><td>manly</td><td>20380</td><td>1899</td><td>0</td><td>2</td><td>17</td><td>37</td><td>29</td><td>⋯</td><td>0</td><td>0</td><td>0</td><td>0</td><td>0</td><td>0</td><td>0</td><td>0</td><td>1</td><td>0</td></tr>\n",
       "\t<tr><td>44925</td><td>559</td><td>molar</td><td>21204</td><td>1973</td><td>0</td><td>4</td><td>21</td><td>38</td><td>26</td><td>⋯</td><td>0</td><td>1</td><td>0</td><td>0</td><td>0</td><td>0</td><td>0</td><td>0</td><td>0</td><td>0</td></tr>\n",
       "\t<tr><td>44924</td><td>558</td><td>havoc</td><td>20001</td><td>1919</td><td>0</td><td>2</td><td>16</td><td>38</td><td>30</td><td>⋯</td><td>0</td><td>0</td><td>0</td><td>0</td><td>0</td><td>1</td><td>0</td><td>0</td><td>0</td><td>0</td></tr>\n",
       "\t<tr><td>44923</td><td>557</td><td>impel</td><td>20160</td><td>1937</td><td>0</td><td>3</td><td>21</td><td>40</td><td>25</td><td>⋯</td><td>0</td><td>0</td><td>0</td><td>0</td><td>0</td><td>0</td><td>0</td><td>0</td><td>0</td><td>0</td></tr>\n",
       "\t<tr><td>44922</td><td>556</td><td>condo</td><td>20879</td><td>2012</td><td>0</td><td>2</td><td>17</td><td>35</td><td>29</td><td>⋯</td><td>0</td><td>0</td><td>0</td><td>0</td><td>0</td><td>0</td><td>0</td><td>0</td><td>0</td><td>0</td></tr>\n",
       "\t<tr><td>44921</td><td>555</td><td>judge</td><td>20011</td><td>2043</td><td>0</td><td>2</td><td>8 </td><td>16</td><td>26</td><td>⋯</td><td>0</td><td>0</td><td>0</td><td>0</td><td>1</td><td>0</td><td>0</td><td>0</td><td>0</td><td>0</td></tr>\n",
       "</tbody>\n",
       "</table>\n"
      ],
      "text/latex": [
       "A tibble: 6 × 42\n",
       "\\begin{tabular}{lllllllllllllllllllll}\n",
       " Date & Contest number & Word & Number of  reported results & Number in hard mode & 1 try & 2 tries & 3 tries & 4 tries & 5 tries & ⋯ & q & r & s & t & u & v & w & x & y & z\\\\\n",
       " <chr> & <chr> & <chr> & <chr> & <chr> & <chr> & <chr> & <chr> & <chr> & <chr> & ⋯ & <chr> & <chr> & <chr> & <chr> & <chr> & <chr> & <chr> & <chr> & <chr> & <chr>\\\\\n",
       "\\hline\n",
       "\t 44926 & 560 & manly & 20380 & 1899 & 0 & 2 & 17 & 37 & 29 & ⋯ & 0 & 0 & 0 & 0 & 0 & 0 & 0 & 0 & 1 & 0\\\\\n",
       "\t 44925 & 559 & molar & 21204 & 1973 & 0 & 4 & 21 & 38 & 26 & ⋯ & 0 & 1 & 0 & 0 & 0 & 0 & 0 & 0 & 0 & 0\\\\\n",
       "\t 44924 & 558 & havoc & 20001 & 1919 & 0 & 2 & 16 & 38 & 30 & ⋯ & 0 & 0 & 0 & 0 & 0 & 1 & 0 & 0 & 0 & 0\\\\\n",
       "\t 44923 & 557 & impel & 20160 & 1937 & 0 & 3 & 21 & 40 & 25 & ⋯ & 0 & 0 & 0 & 0 & 0 & 0 & 0 & 0 & 0 & 0\\\\\n",
       "\t 44922 & 556 & condo & 20879 & 2012 & 0 & 2 & 17 & 35 & 29 & ⋯ & 0 & 0 & 0 & 0 & 0 & 0 & 0 & 0 & 0 & 0\\\\\n",
       "\t 44921 & 555 & judge & 20011 & 2043 & 0 & 2 & 8  & 16 & 26 & ⋯ & 0 & 0 & 0 & 0 & 1 & 0 & 0 & 0 & 0 & 0\\\\\n",
       "\\end{tabular}\n"
      ],
      "text/markdown": [
       "\n",
       "A tibble: 6 × 42\n",
       "\n",
       "| Date &lt;chr&gt; | Contest number &lt;chr&gt; | Word &lt;chr&gt; | Number of  reported results &lt;chr&gt; | Number in hard mode &lt;chr&gt; | 1 try &lt;chr&gt; | 2 tries &lt;chr&gt; | 3 tries &lt;chr&gt; | 4 tries &lt;chr&gt; | 5 tries &lt;chr&gt; | ⋯ ⋯ | q &lt;chr&gt; | r &lt;chr&gt; | s &lt;chr&gt; | t &lt;chr&gt; | u &lt;chr&gt; | v &lt;chr&gt; | w &lt;chr&gt; | x &lt;chr&gt; | y &lt;chr&gt; | z &lt;chr&gt; |\n",
       "|---|---|---|---|---|---|---|---|---|---|---|---|---|---|---|---|---|---|---|---|---|\n",
       "| 44926 | 560 | manly | 20380 | 1899 | 0 | 2 | 17 | 37 | 29 | ⋯ | 0 | 0 | 0 | 0 | 0 | 0 | 0 | 0 | 1 | 0 |\n",
       "| 44925 | 559 | molar | 21204 | 1973 | 0 | 4 | 21 | 38 | 26 | ⋯ | 0 | 1 | 0 | 0 | 0 | 0 | 0 | 0 | 0 | 0 |\n",
       "| 44924 | 558 | havoc | 20001 | 1919 | 0 | 2 | 16 | 38 | 30 | ⋯ | 0 | 0 | 0 | 0 | 0 | 1 | 0 | 0 | 0 | 0 |\n",
       "| 44923 | 557 | impel | 20160 | 1937 | 0 | 3 | 21 | 40 | 25 | ⋯ | 0 | 0 | 0 | 0 | 0 | 0 | 0 | 0 | 0 | 0 |\n",
       "| 44922 | 556 | condo | 20879 | 2012 | 0 | 2 | 17 | 35 | 29 | ⋯ | 0 | 0 | 0 | 0 | 0 | 0 | 0 | 0 | 0 | 0 |\n",
       "| 44921 | 555 | judge | 20011 | 2043 | 0 | 2 | 8  | 16 | 26 | ⋯ | 0 | 0 | 0 | 0 | 1 | 0 | 0 | 0 | 0 | 0 |\n",
       "\n"
      ],
      "text/plain": [
       "  Date  Contest number Word  Number of  reported results Number in hard mode\n",
       "1 44926 560            manly 20380                       1899               \n",
       "2 44925 559            molar 21204                       1973               \n",
       "3 44924 558            havoc 20001                       1919               \n",
       "4 44923 557            impel 20160                       1937               \n",
       "5 44922 556            condo 20879                       2012               \n",
       "6 44921 555            judge 20011                       2043               \n",
       "  1 try 2 tries 3 tries 4 tries 5 tries ⋯ q r s t u v w x y z\n",
       "1 0     2       17      37      29      ⋯ 0 0 0 0 0 0 0 0 1 0\n",
       "2 0     4       21      38      26      ⋯ 0 1 0 0 0 0 0 0 0 0\n",
       "3 0     2       16      38      30      ⋯ 0 0 0 0 0 1 0 0 0 0\n",
       "4 0     3       21      40      25      ⋯ 0 0 0 0 0 0 0 0 0 0\n",
       "5 0     2       17      35      29      ⋯ 0 0 0 0 0 0 0 0 0 0\n",
       "6 0     2       8       16      26      ⋯ 0 0 0 0 1 0 0 0 0 0"
      ]
     },
     "metadata": {},
     "output_type": "display_data"
    },
    {
     "data": {
      "text/html": [],
      "text/latex": [],
      "text/markdown": [],
      "text/plain": [
       "character(0)"
      ]
     },
     "metadata": {},
     "output_type": "display_data"
    }
   ],
   "source": [
    "words <- combinedSet$Word\n",
    "\n",
    "countLetter <- function(word){\n",
    "    counts <- c()\n",
    "    for (letter in letters){\n",
    "        counts <- append(counts, lengths(regmatches(word, gregexpr(letter, word))))\n",
    "    }\n",
    "return(counts)\n",
    "}\n",
    "\n",
    "combinedSet$counts <- lapply(words, countLetter)\n",
    "head(combinedSet)\n",
    "\n",
    "library(dplyr)\n",
    "library(tidyr)\n",
    "\n",
    "combinedSet <- combinedSet %>% separate(counts, letters, remove = TRUE, sep = ', ', fill=\"right\")\n",
    "\n",
    "combinedSet$a<-gsub('\\\\(',\"\",as.character(combinedSet$a))\n",
    "combinedSet$a<-gsub('c',\"\",as.character(combinedSet$a))\n",
    "combinedSet$z<-gsub('\\\\)',\"\",as.character(combinedSet$z))\n",
    "\n",
    "head(combinedSet)\n",
    "\n",
    "write.csv(combinedSet, \"./combinedData.csv\")\n",
    "system(\"gsutil cp  ./combinedData.csv gs://mcm_2023_data/\", intern=TRUE)"
   ]
  },
  {
   "cell_type": "code",
   "execution_count": 11,
   "id": "d8e431b4-5e6a-4700-87ce-67add2f5358a",
   "metadata": {},
   "outputs": [
    {
     "data": {
      "text/html": [
       "<table class=\"dataframe\">\n",
       "<caption>A tibble: 6 × 3</caption>\n",
       "<thead>\n",
       "\t<tr><th scope=col>Number of  reported results</th><th scope=col>Number in hard mode</th><th scope=col>date</th></tr>\n",
       "\t<tr><th scope=col>&lt;chr&gt;</th><th scope=col>&lt;chr&gt;</th><th scope=col>&lt;int&gt;</th></tr>\n",
       "</thead>\n",
       "<tbody>\n",
       "\t<tr><td>20380</td><td>1899</td><td>1</td></tr>\n",
       "\t<tr><td>21204</td><td>1973</td><td>2</td></tr>\n",
       "\t<tr><td>20001</td><td>1919</td><td>3</td></tr>\n",
       "\t<tr><td>20160</td><td>1937</td><td>4</td></tr>\n",
       "\t<tr><td>20879</td><td>2012</td><td>5</td></tr>\n",
       "\t<tr><td>20011</td><td>2043</td><td>6</td></tr>\n",
       "</tbody>\n",
       "</table>\n"
      ],
      "text/latex": [
       "A tibble: 6 × 3\n",
       "\\begin{tabular}{lll}\n",
       " Number of  reported results & Number in hard mode & date\\\\\n",
       " <chr> & <chr> & <int>\\\\\n",
       "\\hline\n",
       "\t 20380 & 1899 & 1\\\\\n",
       "\t 21204 & 1973 & 2\\\\\n",
       "\t 20001 & 1919 & 3\\\\\n",
       "\t 20160 & 1937 & 4\\\\\n",
       "\t 20879 & 2012 & 5\\\\\n",
       "\t 20011 & 2043 & 6\\\\\n",
       "\\end{tabular}\n"
      ],
      "text/markdown": [
       "\n",
       "A tibble: 6 × 3\n",
       "\n",
       "| Number of  reported results &lt;chr&gt; | Number in hard mode &lt;chr&gt; | date &lt;int&gt; |\n",
       "|---|---|---|\n",
       "| 20380 | 1899 | 1 |\n",
       "| 21204 | 1973 | 2 |\n",
       "| 20001 | 1919 | 3 |\n",
       "| 20160 | 1937 | 4 |\n",
       "| 20879 | 2012 | 5 |\n",
       "| 20011 | 2043 | 6 |\n",
       "\n"
      ],
      "text/plain": [
       "  Number of  reported results Number in hard mode date\n",
       "1 20380                       1899                1   \n",
       "2 21204                       1973                2   \n",
       "3 20001                       1919                3   \n",
       "4 20160                       1937                4   \n",
       "5 20879                       2012                5   \n",
       "6 20011                       2043                6   "
      ]
     },
     "metadata": {},
     "output_type": "display_data"
    }
   ],
   "source": [
    "reportedResults <- combinedSet[,c(4,5)]\n",
    "#transform(reportedResults, \"Number of reported results\" = as.numeric(\"Number of reported results\"), \"Number in hard mode\" = as.numeric(\"Number in hard mode\"))\n",
    "reportedResults$date <- 1:nrow(reportedResults)\n",
    "head(reportedResults)"
   ]
  },
  {
   "cell_type": "code",
   "execution_count": 12,
   "id": "fe6d1237-763e-4e82-9bd1-c22476527300",
   "metadata": {},
   "outputs": [
    {
     "name": "stderr",
     "output_type": "stream",
     "text": [
      "Installing package into ‘/home/jupyter/.R/library’\n",
      "(as ‘lib’ is unspecified)\n",
      "\n",
      "Loading required package: TTR\n",
      "\n"
     ]
    },
    {
     "data": {
      "text/html": [
       "<table class=\"dataframe\">\n",
       "<caption>A tibble: 6 × 3</caption>\n",
       "<thead>\n",
       "\t<tr><th scope=col>Users</th><th scope=col>Hard</th><th scope=col>Time</th></tr>\n",
       "\t<tr><th scope=col>&lt;dbl&gt;</th><th scope=col>&lt;dbl&gt;</th><th scope=col>&lt;int&gt;</th></tr>\n",
       "</thead>\n",
       "<tbody>\n",
       "\t<tr><td>20380</td><td>1899</td><td>1</td></tr>\n",
       "\t<tr><td>21204</td><td>1973</td><td>2</td></tr>\n",
       "\t<tr><td>20001</td><td>1919</td><td>3</td></tr>\n",
       "\t<tr><td>20160</td><td>1937</td><td>4</td></tr>\n",
       "\t<tr><td>20879</td><td>2012</td><td>5</td></tr>\n",
       "\t<tr><td>20011</td><td>2043</td><td>6</td></tr>\n",
       "</tbody>\n",
       "</table>\n"
      ],
      "text/latex": [
       "A tibble: 6 × 3\n",
       "\\begin{tabular}{lll}\n",
       " Users & Hard & Time\\\\\n",
       " <dbl> & <dbl> & <int>\\\\\n",
       "\\hline\n",
       "\t 20380 & 1899 & 1\\\\\n",
       "\t 21204 & 1973 & 2\\\\\n",
       "\t 20001 & 1919 & 3\\\\\n",
       "\t 20160 & 1937 & 4\\\\\n",
       "\t 20879 & 2012 & 5\\\\\n",
       "\t 20011 & 2043 & 6\\\\\n",
       "\\end{tabular}\n"
      ],
      "text/markdown": [
       "\n",
       "A tibble: 6 × 3\n",
       "\n",
       "| Users &lt;dbl&gt; | Hard &lt;dbl&gt; | Time &lt;int&gt; |\n",
       "|---|---|---|\n",
       "| 20380 | 1899 | 1 |\n",
       "| 21204 | 1973 | 2 |\n",
       "| 20001 | 1919 | 3 |\n",
       "| 20160 | 1937 | 4 |\n",
       "| 20879 | 2012 | 5 |\n",
       "| 20011 | 2043 | 6 |\n",
       "\n"
      ],
      "text/plain": [
       "  Users Hard Time\n",
       "1 20380 1899 1   \n",
       "2 21204 1973 2   \n",
       "3 20001 1919 3   \n",
       "4 20160 1937 4   \n",
       "5 20879 2012 5   \n",
       "6 20011 2043 6   "
      ]
     },
     "metadata": {},
     "output_type": "display_data"
    },
    {
     "data": {
      "text/html": [
       "<table class=\"dataframe\">\n",
       "<caption>A tibble: 6 × 5</caption>\n",
       "<thead>\n",
       "\t<tr><th scope=col>Users</th><th scope=col>Hard</th><th scope=col>Time</th><th scope=col>smoothed</th><th scope=col>diff</th></tr>\n",
       "\t<tr><th scope=col>&lt;dbl&gt;</th><th scope=col>&lt;dbl&gt;</th><th scope=col>&lt;int&gt;</th><th scope=col>&lt;dbl&gt;</th><th scope=col>&lt;dbl&gt;</th></tr>\n",
       "</thead>\n",
       "<tbody>\n",
       "\t<tr><td>20380</td><td>1899</td><td>1</td><td>20266.62</td><td> 113.3788</td></tr>\n",
       "\t<tr><td>21204</td><td>1973</td><td>2</td><td>20268.56</td><td> 935.4360</td></tr>\n",
       "\t<tr><td>20001</td><td>1919</td><td>3</td><td>20292.81</td><td>-291.8071</td></tr>\n",
       "\t<tr><td>20160</td><td>1937</td><td>4</td><td>20346.94</td><td>-186.9372</td></tr>\n",
       "\t<tr><td>20879</td><td>2012</td><td>5</td><td>20438.08</td><td> 440.9184</td></tr>\n",
       "\t<tr><td>20011</td><td>2043</td><td>6</td><td>20571.41</td><td>-560.4073</td></tr>\n",
       "</tbody>\n",
       "</table>\n"
      ],
      "text/latex": [
       "A tibble: 6 × 5\n",
       "\\begin{tabular}{lllll}\n",
       " Users & Hard & Time & smoothed & diff\\\\\n",
       " <dbl> & <dbl> & <int> & <dbl> & <dbl>\\\\\n",
       "\\hline\n",
       "\t 20380 & 1899 & 1 & 20266.62 &  113.3788\\\\\n",
       "\t 21204 & 1973 & 2 & 20268.56 &  935.4360\\\\\n",
       "\t 20001 & 1919 & 3 & 20292.81 & -291.8071\\\\\n",
       "\t 20160 & 1937 & 4 & 20346.94 & -186.9372\\\\\n",
       "\t 20879 & 2012 & 5 & 20438.08 &  440.9184\\\\\n",
       "\t 20011 & 2043 & 6 & 20571.41 & -560.4073\\\\\n",
       "\\end{tabular}\n"
      ],
      "text/markdown": [
       "\n",
       "A tibble: 6 × 5\n",
       "\n",
       "| Users &lt;dbl&gt; | Hard &lt;dbl&gt; | Time &lt;int&gt; | smoothed &lt;dbl&gt; | diff &lt;dbl&gt; |\n",
       "|---|---|---|---|---|\n",
       "| 20380 | 1899 | 1 | 20266.62 |  113.3788 |\n",
       "| 21204 | 1973 | 2 | 20268.56 |  935.4360 |\n",
       "| 20001 | 1919 | 3 | 20292.81 | -291.8071 |\n",
       "| 20160 | 1937 | 4 | 20346.94 | -186.9372 |\n",
       "| 20879 | 2012 | 5 | 20438.08 |  440.9184 |\n",
       "| 20011 | 2043 | 6 | 20571.41 | -560.4073 |\n",
       "\n"
      ],
      "text/plain": [
       "  Users Hard Time smoothed diff     \n",
       "1 20380 1899 1    20266.62  113.3788\n",
       "2 21204 1973 2    20268.56  935.4360\n",
       "3 20001 1919 3    20292.81 -291.8071\n",
       "4 20160 1937 4    20346.94 -186.9372\n",
       "5 20879 2012 5    20438.08  440.9184\n",
       "6 20011 2043 6    20571.41 -560.4073"
      ]
     },
     "metadata": {},
     "output_type": "display_data"
    },
    {
     "name": "stderr",
     "output_type": "stream",
     "text": [
      "\u001b[1m\u001b[22mSaving 6.67 x 6.67 in image\n"
     ]
    },
    {
     "data": {
      "image/png": "[encoded data removed]",
      "text/plain": [
       "plot without title"
      ]
     },
     "metadata": {
      "image/png": {
       "height": 420,
       "width": 420
      }
     },
     "output_type": "display_data"
    },
    {
     "name": "stderr",
     "output_type": "stream",
     "text": [
      "\u001b[1m\u001b[22mSaving 6.67 x 6.67 in image\n"
     ]
    },
    {
     "data": {
      "image/png": "[encoded data removed]",
      "text/plain": [
       "plot without title"
      ]
     },
     "metadata": {
      "image/png": {
       "height": 420,
       "width": 420
      }
     },
     "output_type": "display_data"
    },
    {
     "data": {
      "image/png": "[encoded data removed]",
      "text/plain": [
       "plot without title"
      ]
     },
     "metadata": {
      "image/png": {
       "height": 420,
       "width": 420
      }
     },
     "output_type": "display_data"
    },
    {
     "data": {
      "text/html": [
       "<table class=\"dataframe\">\n",
       "<caption>A matrix: 6 × 2 of type dbl</caption>\n",
       "<thead>\n",
       "\t<tr><th scope=col>smoothPoints</th><th scope=col></th></tr>\n",
       "</thead>\n",
       "<tbody>\n",
       "\t<tr><td>1</td><td>20266.62</td></tr>\n",
       "\t<tr><td>2</td><td>20268.56</td></tr>\n",
       "\t<tr><td>3</td><td>20292.81</td></tr>\n",
       "\t<tr><td>4</td><td>20346.94</td></tr>\n",
       "\t<tr><td>5</td><td>20438.08</td></tr>\n",
       "\t<tr><td>6</td><td>20571.41</td></tr>\n",
       "</tbody>\n",
       "</table>\n"
      ],
      "text/latex": [
       "A matrix: 6 × 2 of type dbl\n",
       "\\begin{tabular}{ll}\n",
       " smoothPoints & \\\\\n",
       "\\hline\n",
       "\t 1 & 20266.62\\\\\n",
       "\t 2 & 20268.56\\\\\n",
       "\t 3 & 20292.81\\\\\n",
       "\t 4 & 20346.94\\\\\n",
       "\t 5 & 20438.08\\\\\n",
       "\t 6 & 20571.41\\\\\n",
       "\\end{tabular}\n"
      ],
      "text/markdown": [
       "\n",
       "A matrix: 6 × 2 of type dbl\n",
       "\n",
       "| smoothPoints | <!----> |\n",
       "|---|---|\n",
       "| 1 | 20266.62 |\n",
       "| 2 | 20268.56 |\n",
       "| 3 | 20292.81 |\n",
       "| 4 | 20346.94 |\n",
       "| 5 | 20438.08 |\n",
       "| 6 | 20571.41 |\n",
       "\n"
      ],
      "text/plain": [
       "     smoothPoints         \n",
       "[1,] 1            20266.62\n",
       "[2,] 2            20268.56\n",
       "[3,] 3            20292.81\n",
       "[4,] 4            20346.94\n",
       "[5,] 5            20438.08\n",
       "[6,] 6            20571.41"
      ]
     },
     "metadata": {},
     "output_type": "display_data"
    },
    {
     "data": {
      "text/html": [],
      "text/latex": [],
      "text/markdown": [],
      "text/plain": [
       "character(0)"
      ]
     },
     "metadata": {},
     "output_type": "display_data"
    },
    {
     "data": {
      "image/png": "[encoded data removed]",
      "text/plain": [
       "plot without title"
      ]
     },
     "metadata": {
      "image/png": {
       "height": 420,
       "width": 420
      }
     },
     "output_type": "display_data"
    }
   ],
   "source": [
    "library(ggplot2)\n",
    "install.packages(\"smoother\")\n",
    "library(smoother)\n",
    "\n",
    "myFrame <- reportedResults\n",
    "\n",
    "colnames(myFrame)[1] = \"Users\"\n",
    "colnames(myFrame)[2] = \"Hard\"\n",
    "colnames(myFrame)[3] = \"Time\"\n",
    "\n",
    "myFrame$Users = as.numeric(as.character(myFrame$Users))\n",
    "myFrame$Hard = as.numeric(as.character(myFrame$Hard))\n",
    "\n",
    "head(myFrame)\n",
    "\n",
    "myFrame$smoothed <- smth.gaussian(x = myFrame$Users, window = 45, tails = TRUE, alpha = 5)\n",
    "\n",
    "myFrame$diff <- myFrame$Users-myFrame$smoothed\n",
    "\n",
    "head(myFrame)\n",
    "\n",
    "#xAxis <- myFrame[,\"Time\"]\n",
    "\n",
    "#colors <- c(\"Average\"=\"purple\")\n",
    "\n",
    "options(scipen=999)\n",
    "\n",
    "p <- ggplot(myFrame, aes(x=Time, y = Users))  + geom_line()\n",
    "print(p)\n",
    "ggsave(file=\"rawCurve.png\")\n",
    "#system(\"gsutil cp  ./rawCurve.png gs://mcm_2023_data/\", intern=TRUE)\n",
    "\n",
    "p <- ggplot(myFrame, aes(x=Time, y = smoothed))  + geom_line()\n",
    "print(p)\n",
    "ggsave(file=\"smoothCurve.png\")\n",
    "#system(\"gsutil cp  ./smoothCurve.png gs://mcm_2023_data/\", intern=TRUE)\n",
    "\n",
    "p <- ggplot(myFrame, aes(x=Time, y = diff))  + geom_line()\n",
    "myFrame$diffNorm <- myFrame$diff / myFrame$smoothed\n",
    "print(p)\n",
    "\n",
    "p <- ggplot(myFrame, aes(x=Time, y = diffNorm))  + geom_line()\n",
    "print(p)\n",
    "\n",
    "combinedSet$normUsers <- myFrame$diff\n",
    "\n",
    "combinedSet$normAdjUsers <- myFrame$diffNorm\n",
    "\n",
    "#write.csv(combinedSet, \"./adjNorm.csv\")\n",
    "#system(\"gsutil cp  ./adjNorm.csv gs://mcm_2023_data/\", intern=TRUE)\n",
    "\n",
    "smoothPoints <-  myFrame$Time\n",
    "\n",
    "smoothPoints <- cbind(smoothPoints,myFrame$smoothed)\n",
    "head(smoothPoints)\n",
    "\n",
    "write.csv(smoothPoints, \"./smoothedVTime.csv\")\n",
    "system(\"gsutil cp  ./smoothedVTime.csv gs://mcm_2023_data/\", intern=TRUE)\n",
    "\n"
   ]
  },
  {
   "cell_type": "code",
   "execution_count": 13,
   "id": "ebd57444-c3f5-4278-9687-584d74d315d1",
   "metadata": {},
   "outputs": [
    {
     "data": {
      "text/html": [
       "<table class=\"dataframe\">\n",
       "<caption>A tibble: 6 × 32</caption>\n",
       "<thead>\n",
       "\t<tr><th scope=col>a</th><th scope=col>b</th><th scope=col>c</th><th scope=col>d</th><th scope=col>e</th><th scope=col>f</th><th scope=col>g</th><th scope=col>h</th><th scope=col>i</th><th scope=col>j</th><th scope=col>⋯</th><th scope=col>w</th><th scope=col>x</th><th scope=col>y</th><th scope=col>z</th><th scope=col>peopleAdj</th><th scope=col>hard</th><th scope=col>score</th><th scope=col>vowel</th><th scope=col>cons</th><th scope=col>uniqueLetters</th></tr>\n",
       "\t<tr><th scope=col>&lt;dbl&gt;</th><th scope=col>&lt;dbl&gt;</th><th scope=col>&lt;dbl&gt;</th><th scope=col>&lt;dbl&gt;</th><th scope=col>&lt;dbl&gt;</th><th scope=col>&lt;dbl&gt;</th><th scope=col>&lt;dbl&gt;</th><th scope=col>&lt;dbl&gt;</th><th scope=col>&lt;dbl&gt;</th><th scope=col>&lt;dbl&gt;</th><th scope=col>⋯</th><th scope=col>&lt;dbl&gt;</th><th scope=col>&lt;dbl&gt;</th><th scope=col>&lt;dbl&gt;</th><th scope=col>&lt;dbl&gt;</th><th scope=col>&lt;dbl&gt;</th><th scope=col>&lt;dbl&gt;</th><th scope=col>&lt;dbl&gt;</th><th scope=col>&lt;dbl&gt;</th><th scope=col>&lt;dbl&gt;</th><th scope=col>&lt;dbl&gt;</th></tr>\n",
       "</thead>\n",
       "<tbody>\n",
       "\t<tr><td>1</td><td>0</td><td>0</td><td>0</td><td>0</td><td>0</td><td>0</td><td>0</td><td>0</td><td>0</td><td>⋯</td><td>0</td><td>0</td><td>1</td><td>0</td><td> 0.005594360</td><td>0.09317959</td><td>4.34</td><td>1</td><td>4</td><td>5</td></tr>\n",
       "\t<tr><td>1</td><td>0</td><td>0</td><td>0</td><td>0</td><td>0</td><td>0</td><td>0</td><td>0</td><td>0</td><td>⋯</td><td>0</td><td>0</td><td>0</td><td>0</td><td> 0.046152063</td><td>0.09304848</td><td>4.14</td><td>2</td><td>3</td><td>5</td></tr>\n",
       "\t<tr><td>1</td><td>0</td><td>1</td><td>0</td><td>0</td><td>0</td><td>0</td><td>1</td><td>0</td><td>0</td><td>⋯</td><td>0</td><td>0</td><td>0</td><td>0</td><td>-0.014379829</td><td>0.09594520</td><td>4.40</td><td>2</td><td>3</td><td>5</td></tr>\n",
       "\t<tr><td>0</td><td>0</td><td>0</td><td>0</td><td>1</td><td>0</td><td>0</td><td>0</td><td>1</td><td>0</td><td>⋯</td><td>0</td><td>0</td><td>0</td><td>0</td><td>-0.009187484</td><td>0.09608135</td><td>4.15</td><td>2</td><td>3</td><td>5</td></tr>\n",
       "\t<tr><td>0</td><td>0</td><td>1</td><td>1</td><td>0</td><td>0</td><td>0</td><td>0</td><td>0</td><td>0</td><td>⋯</td><td>0</td><td>0</td><td>0</td><td>0</td><td> 0.021573373</td><td>0.09636477</td><td>4.45</td><td>2</td><td>3</td><td>4</td></tr>\n",
       "\t<tr><td>0</td><td>0</td><td>0</td><td>1</td><td>1</td><td>0</td><td>1</td><td>0</td><td>0</td><td>1</td><td>⋯</td><td>0</td><td>0</td><td>0</td><td>0</td><td>-0.027242050</td><td>0.10209385</td><td>5.18</td><td>2</td><td>3</td><td>5</td></tr>\n",
       "</tbody>\n",
       "</table>\n"
      ],
      "text/latex": [
       "A tibble: 6 × 32\n",
       "\\begin{tabular}{lllllllllllllllllllll}\n",
       " a & b & c & d & e & f & g & h & i & j & ⋯ & w & x & y & z & peopleAdj & hard & score & vowel & cons & uniqueLetters\\\\\n",
       " <dbl> & <dbl> & <dbl> & <dbl> & <dbl> & <dbl> & <dbl> & <dbl> & <dbl> & <dbl> & ⋯ & <dbl> & <dbl> & <dbl> & <dbl> & <dbl> & <dbl> & <dbl> & <dbl> & <dbl> & <dbl>\\\\\n",
       "\\hline\n",
       "\t 1 & 0 & 0 & 0 & 0 & 0 & 0 & 0 & 0 & 0 & ⋯ & 0 & 0 & 1 & 0 &  0.005594360 & 0.09317959 & 4.34 & 1 & 4 & 5\\\\\n",
       "\t 1 & 0 & 0 & 0 & 0 & 0 & 0 & 0 & 0 & 0 & ⋯ & 0 & 0 & 0 & 0 &  0.046152063 & 0.09304848 & 4.14 & 2 & 3 & 5\\\\\n",
       "\t 1 & 0 & 1 & 0 & 0 & 0 & 0 & 1 & 0 & 0 & ⋯ & 0 & 0 & 0 & 0 & -0.014379829 & 0.09594520 & 4.40 & 2 & 3 & 5\\\\\n",
       "\t 0 & 0 & 0 & 0 & 1 & 0 & 0 & 0 & 1 & 0 & ⋯ & 0 & 0 & 0 & 0 & -0.009187484 & 0.09608135 & 4.15 & 2 & 3 & 5\\\\\n",
       "\t 0 & 0 & 1 & 1 & 0 & 0 & 0 & 0 & 0 & 0 & ⋯ & 0 & 0 & 0 & 0 &  0.021573373 & 0.09636477 & 4.45 & 2 & 3 & 4\\\\\n",
       "\t 0 & 0 & 0 & 1 & 1 & 0 & 1 & 0 & 0 & 1 & ⋯ & 0 & 0 & 0 & 0 & -0.027242050 & 0.10209385 & 5.18 & 2 & 3 & 5\\\\\n",
       "\\end{tabular}\n"
      ],
      "text/markdown": [
       "\n",
       "A tibble: 6 × 32\n",
       "\n",
       "| a &lt;dbl&gt; | b &lt;dbl&gt; | c &lt;dbl&gt; | d &lt;dbl&gt; | e &lt;dbl&gt; | f &lt;dbl&gt; | g &lt;dbl&gt; | h &lt;dbl&gt; | i &lt;dbl&gt; | j &lt;dbl&gt; | ⋯ ⋯ | w &lt;dbl&gt; | x &lt;dbl&gt; | y &lt;dbl&gt; | z &lt;dbl&gt; | peopleAdj &lt;dbl&gt; | hard &lt;dbl&gt; | score &lt;dbl&gt; | vowel &lt;dbl&gt; | cons &lt;dbl&gt; | uniqueLetters &lt;dbl&gt; |\n",
       "|---|---|---|---|---|---|---|---|---|---|---|---|---|---|---|---|---|---|---|---|---|\n",
       "| 1 | 0 | 0 | 0 | 0 | 0 | 0 | 0 | 0 | 0 | ⋯ | 0 | 0 | 1 | 0 |  0.005594360 | 0.09317959 | 4.34 | 1 | 4 | 5 |\n",
       "| 1 | 0 | 0 | 0 | 0 | 0 | 0 | 0 | 0 | 0 | ⋯ | 0 | 0 | 0 | 0 |  0.046152063 | 0.09304848 | 4.14 | 2 | 3 | 5 |\n",
       "| 1 | 0 | 1 | 0 | 0 | 0 | 0 | 1 | 0 | 0 | ⋯ | 0 | 0 | 0 | 0 | -0.014379829 | 0.09594520 | 4.40 | 2 | 3 | 5 |\n",
       "| 0 | 0 | 0 | 0 | 1 | 0 | 0 | 0 | 1 | 0 | ⋯ | 0 | 0 | 0 | 0 | -0.009187484 | 0.09608135 | 4.15 | 2 | 3 | 5 |\n",
       "| 0 | 0 | 1 | 1 | 0 | 0 | 0 | 0 | 0 | 0 | ⋯ | 0 | 0 | 0 | 0 |  0.021573373 | 0.09636477 | 4.45 | 2 | 3 | 4 |\n",
       "| 0 | 0 | 0 | 1 | 1 | 0 | 1 | 0 | 0 | 1 | ⋯ | 0 | 0 | 0 | 0 | -0.027242050 | 0.10209385 | 5.18 | 2 | 3 | 5 |\n",
       "\n"
      ],
      "text/plain": [
       "  a b c d e f g h i j ⋯ w x y z peopleAdj    hard       score vowel cons\n",
       "1 1 0 0 0 0 0 0 0 0 0 ⋯ 0 0 1 0  0.005594360 0.09317959 4.34  1     4   \n",
       "2 1 0 0 0 0 0 0 0 0 0 ⋯ 0 0 0 0  0.046152063 0.09304848 4.14  2     3   \n",
       "3 1 0 1 0 0 0 0 1 0 0 ⋯ 0 0 0 0 -0.014379829 0.09594520 4.40  2     3   \n",
       "4 0 0 0 0 1 0 0 0 1 0 ⋯ 0 0 0 0 -0.009187484 0.09608135 4.15  2     3   \n",
       "5 0 0 1 1 0 0 0 0 0 0 ⋯ 0 0 0 0  0.021573373 0.09636477 4.45  2     3   \n",
       "6 0 0 0 1 1 0 1 0 0 1 ⋯ 0 0 0 0 -0.027242050 0.10209385 5.18  2     3   \n",
       "  uniqueLetters\n",
       "1 5            \n",
       "2 5            \n",
       "3 5            \n",
       "4 5            \n",
       "5 4            \n",
       "6 5            "
      ]
     },
     "metadata": {},
     "output_type": "display_data"
    },
    {
     "data": {
      "image/png": "[encoded data removed]",
      "text/plain": [
       "plot without title"
      ]
     },
     "metadata": {
      "image/png": {
       "height": 420,
       "width": 420
      }
     },
     "output_type": "display_data"
    },
    {
     "data": {
      "image/png": "[encoded data removed]",
      "text/plain": [
       "plot without title"
      ]
     },
     "metadata": {
      "image/png": {
       "height": 420,
       "width": 420
      }
     },
     "output_type": "display_data"
    }
   ],
   "source": [
    "letterResults <- combinedSet[,letters]\n",
    "\n",
    "#letterResults <- lapply(letterResults,as.numeric)\n",
    "\n",
    "library(dplyr)\n",
    "letterResults <- letterResults %>% mutate_if(is.character, as.numeric)\n",
    "\n",
    "letterResults$peopleAdj <- combinedSet$normAdjUsers\n",
    "letterResults$hard <- combinedSet$percentHardMode\n",
    "letterResults$score <- combinedSet$avg\n",
    "\n",
    "#head(letterResults)\n",
    "letterResults$vowel <- letterResults$a + letterResults$e + letterResults$i + letterResults$o + letterResults$u \n",
    "letterResults$cons <- letterResults$b + letterResults$c + letterResults$d + letterResults$f + letterResults$g + letterResults$h + letterResults$j + letterResults$k + letterResults$l + letterResults$m + letterResults$n + letterResults$p + letterResults$q + letterResults$r + letterResults$s + letterResults$t + letterResults$v + letterResults$w + letterResults$x + letterResults$y + letterResults$z \n",
    "\n",
    "#letterResults$maxDup<-pmax(letterResults[,letters])\n",
    "letterResults$uniqueLetters <- 26-rowSums(letterResults[,letters]==0)\n",
    "\n",
    "\n",
    "\n",
    "head(letterResults)\n",
    "\n",
    "letterResults$vowel <- as.factor(letterResults$vowel)\n",
    "\n",
    "p <- ggplot(letterResults, aes(x=vowel, y=score))  + geom_boxplot()\n",
    "print(p)\n",
    "#ggsave(file=\"vowelVScore.png\")\n",
    "#system(\"gsutil cp ./vowelVScore.png gs://mcm_2023_data/\", intern=TRUE)\n",
    "\n",
    "letterResults$uniqueLetters <- as.factor(letterResults$uniqueLetters)\n",
    "\n",
    "p <- ggplot(letterResults, aes(x=uniqueLetters, y=score))  + geom_boxplot()\n",
    "print(p)\n",
    "\n",
    "\n",
    "\n",
    "#filter(letterResults, )\n",
    "\n",
    "#write.csv(combinedSet, \"./letterData.csv\")\n",
    "#system(\"gsutil cp  ./letterData.csv gs://mcm_2023_data/\", intern=TRUE)\n"
   ]
  },
  {
   "cell_type": "code",
   "execution_count": 14,
   "id": "8f7d6ad7-aa18-46cf-af3a-525bb681595c",
   "metadata": {},
   "outputs": [
    {
     "name": "stdout",
     "output_type": "stream",
     "text": [
      "[1] 4.653333\n",
      "[1] 4.225333\n",
      "[1] 4.169769\n",
      "[1] 4.193143\n",
      "[1] 0.08430792\n",
      "[1] 0.001710151\n",
      "[1] -0.003162901\n",
      "[1] -0.02841905\n",
      "[1] 0.08144408\n",
      "[1] 0.07314737\n",
      "[1] 0.07547008\n",
      "[1] 0.08108202\n"
     ]
    },
    {
     "data": {
      "text/html": [
       "<table class=\"dataframe\">\n",
       "<caption>A data.frame: 6 × 4</caption>\n",
       "<thead>\n",
       "\t<tr><th></th><th scope=col>letters</th><th scope=col>with</th><th scope=col>wout</th><th scope=col>diff</th></tr>\n",
       "\t<tr><th></th><th scope=col>&lt;chr&gt;</th><th scope=col>&lt;lgl&gt;</th><th scope=col>&lt;lgl&gt;</th><th scope=col>&lt;lgl&gt;</th></tr>\n",
       "</thead>\n",
       "<tbody>\n",
       "\t<tr><th scope=row>1</th><td>a</td><td>NA</td><td>NA</td><td>NA</td></tr>\n",
       "\t<tr><th scope=row>2</th><td>b</td><td>NA</td><td>NA</td><td>NA</td></tr>\n",
       "\t<tr><th scope=row>3</th><td>c</td><td>NA</td><td>NA</td><td>NA</td></tr>\n",
       "\t<tr><th scope=row>4</th><td>d</td><td>NA</td><td>NA</td><td>NA</td></tr>\n",
       "\t<tr><th scope=row>5</th><td>e</td><td>NA</td><td>NA</td><td>NA</td></tr>\n",
       "\t<tr><th scope=row>6</th><td>f</td><td>NA</td><td>NA</td><td>NA</td></tr>\n",
       "</tbody>\n",
       "</table>\n"
      ],
      "text/latex": [
       "A data.frame: 6 × 4\n",
       "\\begin{tabular}{r|llll}\n",
       "  & letters & with & wout & diff\\\\\n",
       "  & <chr> & <lgl> & <lgl> & <lgl>\\\\\n",
       "\\hline\n",
       "\t1 & a & NA & NA & NA\\\\\n",
       "\t2 & b & NA & NA & NA\\\\\n",
       "\t3 & c & NA & NA & NA\\\\\n",
       "\t4 & d & NA & NA & NA\\\\\n",
       "\t5 & e & NA & NA & NA\\\\\n",
       "\t6 & f & NA & NA & NA\\\\\n",
       "\\end{tabular}\n"
      ],
      "text/markdown": [
       "\n",
       "A data.frame: 6 × 4\n",
       "\n",
       "| <!--/--> | letters &lt;chr&gt; | with &lt;lgl&gt; | wout &lt;lgl&gt; | diff &lt;lgl&gt; |\n",
       "|---|---|---|---|---|\n",
       "| 1 | a | NA | NA | NA |\n",
       "| 2 | b | NA | NA | NA |\n",
       "| 3 | c | NA | NA | NA |\n",
       "| 4 | d | NA | NA | NA |\n",
       "| 5 | e | NA | NA | NA |\n",
       "| 6 | f | NA | NA | NA |\n",
       "\n"
      ],
      "text/plain": [
       "  letters with wout diff\n",
       "1 a       NA   NA   NA  \n",
       "2 b       NA   NA   NA  \n",
       "3 c       NA   NA   NA  \n",
       "4 d       NA   NA   NA  \n",
       "5 e       NA   NA   NA  \n",
       "6 f       NA   NA   NA  "
      ]
     },
     "metadata": {},
     "output_type": "display_data"
    },
    {
     "name": "stdout",
     "output_type": "stream",
     "text": [
      "[1] \"1 4.22852380952381 4.14134228187919 0.0871815276446153\"\n",
      "[1] \"2 4.19085106382979 4.20866666666667 -0.0178156028368797\"\n",
      "[1] \"3 4.1936301369863 4.18671641791045 0.00691371907585303\"\n",
      "[1] \"4 4.19628664495114 4.16903846153846 0.027248183412679\"\n",
      "[1] \"5 4.19567010309278 4.18842424242424 0.00724586066854105\"\n",
      "[1] \"6 4.18440729483283 4.27933333333333 -0.0949260385005068\"\n",
      "[1] \"7 4.16666666666667 4.36276595744681 -0.196099290780142\"\n",
      "[1] \"8 4.21179310344828 4.11057971014493 0.101213393303349\"\n",
      "[1] \"9 4.23892307692308 4.07 0.168923076923076\"\n",
      "[1] \"10 4.18777464788732 4.5975 -0.409725352112676\"\n",
      "[1] \"11 4.18515337423313 4.26333333333333 -0.078179959100205\"\n",
      "[1] \"12 4.19340996168582 4.18948979591837 0.00392016576745569\"\n",
      "[1] \"13 4.19431818181818 4.18039215686275 0.0139260249554365\"\n",
      "[1] \"14 4.21454212454212 4.12186046511628 0.0926816594258462\"\n",
      "[1] \"15 4.18208333333333 4.21302521008403 -0.0309418767507008\"\n",
      "[1] \"16 4.20861952861953 4.11435483870968 0.0942646899098509\"\n",
      "[1] \"17 4.19093220338983 4.292 -0.101067796610169\"\n",
      "[1] \"18 4.22227074235808 4.13961538461538 0.0826553577426941\"\n",
      "[1] \"19 4.22970909090909 4.07 0.15970909090909\"\n",
      "[1] \"20 4.28396624472574 4.01434426229508 0.269621982430657\"\n",
      "[1] \"21 4.17885906040268 4.25819672131148 -0.0793376609087906\"\n",
      "[1] \"22 4.17940298507463 4.37291666666667 -0.19351368159204\"\n",
      "[1] \"23 4.16963525835866 4.44133333333333 -0.271698074974671\"\n",
      "[1] \"24 4.18678977272727 4.47142857142857 -0.284638798701299\"\n",
      "[1] \"25 4.15408026755853 4.383 -0.228919732441471\"\n",
      "[1] \"26 4.18375706214689 4.8 -0.616242937853107\"\n"
     ]
    },
    {
     "data": {
      "text/html": [
       "<table class=\"dataframe\">\n",
       "<caption>A data.frame: 6 × 4</caption>\n",
       "<thead>\n",
       "\t<tr><th></th><th scope=col>letters</th><th scope=col>with</th><th scope=col>wout</th><th scope=col>diff</th></tr>\n",
       "\t<tr><th></th><th scope=col>&lt;chr&gt;</th><th scope=col>&lt;dbl&gt;</th><th scope=col>&lt;dbl&gt;</th><th scope=col>&lt;dbl&gt;</th></tr>\n",
       "</thead>\n",
       "<tbody>\n",
       "\t<tr><th scope=row>1</th><td>a</td><td>4.228524</td><td>4.141342</td><td> 0.087181528</td></tr>\n",
       "\t<tr><th scope=row>2</th><td>b</td><td>4.190851</td><td>4.208667</td><td>-0.017815603</td></tr>\n",
       "\t<tr><th scope=row>3</th><td>c</td><td>4.193630</td><td>4.186716</td><td> 0.006913719</td></tr>\n",
       "\t<tr><th scope=row>4</th><td>d</td><td>4.196287</td><td>4.169038</td><td> 0.027248183</td></tr>\n",
       "\t<tr><th scope=row>5</th><td>e</td><td>4.195670</td><td>4.188424</td><td> 0.007245861</td></tr>\n",
       "\t<tr><th scope=row>6</th><td>f</td><td>4.184407</td><td>4.279333</td><td>-0.094926039</td></tr>\n",
       "</tbody>\n",
       "</table>\n"
      ],
      "text/latex": [
       "A data.frame: 6 × 4\n",
       "\\begin{tabular}{r|llll}\n",
       "  & letters & with & wout & diff\\\\\n",
       "  & <chr> & <dbl> & <dbl> & <dbl>\\\\\n",
       "\\hline\n",
       "\t1 & a & 4.228524 & 4.141342 &  0.087181528\\\\\n",
       "\t2 & b & 4.190851 & 4.208667 & -0.017815603\\\\\n",
       "\t3 & c & 4.193630 & 4.186716 &  0.006913719\\\\\n",
       "\t4 & d & 4.196287 & 4.169038 &  0.027248183\\\\\n",
       "\t5 & e & 4.195670 & 4.188424 &  0.007245861\\\\\n",
       "\t6 & f & 4.184407 & 4.279333 & -0.094926039\\\\\n",
       "\\end{tabular}\n"
      ],
      "text/markdown": [
       "\n",
       "A data.frame: 6 × 4\n",
       "\n",
       "| <!--/--> | letters &lt;chr&gt; | with &lt;dbl&gt; | wout &lt;dbl&gt; | diff &lt;dbl&gt; |\n",
       "|---|---|---|---|---|\n",
       "| 1 | a | 4.228524 | 4.141342 |  0.087181528 |\n",
       "| 2 | b | 4.190851 | 4.208667 | -0.017815603 |\n",
       "| 3 | c | 4.193630 | 4.186716 |  0.006913719 |\n",
       "| 4 | d | 4.196287 | 4.169038 |  0.027248183 |\n",
       "| 5 | e | 4.195670 | 4.188424 |  0.007245861 |\n",
       "| 6 | f | 4.184407 | 4.279333 | -0.094926039 |\n",
       "\n"
      ],
      "text/plain": [
       "  letters with     wout     diff        \n",
       "1 a       4.228524 4.141342  0.087181528\n",
       "2 b       4.190851 4.208667 -0.017815603\n",
       "3 c       4.193630 4.186716  0.006913719\n",
       "4 d       4.196287 4.169038  0.027248183\n",
       "5 e       4.195670 4.188424  0.007245861\n",
       "6 f       4.184407 4.279333 -0.094926039"
      ]
     },
     "metadata": {},
     "output_type": "display_data"
    }
   ],
   "source": [
    "\n",
    "noVow <- filter(letterResults, vowel == 0)\n",
    "oneVow <- filter(letterResults, vowel == 1)\n",
    "twoVow <- filter(letterResults, vowel == 2)\n",
    "threeVow <- filter(letterResults, vowel == 3)\n",
    "\n",
    "print(mean(noVow$score) )\n",
    "print(mean(oneVow$score) )\n",
    "print(mean(twoVow$score) )\n",
    "print(mean(threeVow$score) )\n",
    "\n",
    "print(mean(noVow$peopleAdj))\n",
    "print(mean(oneVow$peopleAdj))\n",
    "print(mean(twoVow$peopleAdj))\n",
    "print(mean(threeVow$peopleAdj))\n",
    "\n",
    "print(mean(noVow$hard))\n",
    "print(mean(oneVow$hard))\n",
    "print(mean(twoVow$hard))\n",
    "print(mean(threeVow$hard))\n",
    "\n",
    "tempDF <- data.frame(letters)\n",
    "\n",
    "tempDF['with'] <- NA\n",
    "tempDF['wout'] <- NA\n",
    "tempDF['diff'] <- NA\n",
    "\n",
    "head(tempDF)\n",
    "\n",
    "for(i in 1:26) {\n",
    "    temp1 <- letterResults[letterResults[,i]==0, ]\n",
    "    temp2 <- letterResults[letterResults[,i]!=0, ]\n",
    "    tempDF[i,2] <- mean(temp1$score)\n",
    "    tempDF[i,3] <- mean(temp2$score)\n",
    "    tempDF[i,4] <- mean(temp1$score) - mean(temp2$score)\n",
    "    print(paste(i, mean(temp1$score), mean(temp2$score),mean(temp1$score) - mean(temp2$score)))\n",
    "}\n",
    "head(tempDF)"
   ]
  },
  {
   "cell_type": "code",
   "execution_count": 15,
   "id": "d01e2669-e137-4e13-b64d-5a678cb74bb2",
   "metadata": {},
   "outputs": [
    {
     "data": {
      "text/html": [
       "<table class=\"dataframe\">\n",
       "<caption>A data.frame: 26 × 4</caption>\n",
       "<thead>\n",
       "\t<tr><th></th><th scope=col>letters</th><th scope=col>with</th><th scope=col>wout</th><th scope=col>diff</th></tr>\n",
       "\t<tr><th></th><th scope=col>&lt;chr&gt;</th><th scope=col>&lt;dbl&gt;</th><th scope=col>&lt;dbl&gt;</th><th scope=col>&lt;dbl&gt;</th></tr>\n",
       "</thead>\n",
       "<tbody>\n",
       "\t<tr><th scope=row>20</th><td>t</td><td>4.283966</td><td>4.014344</td><td> 0.269621982</td></tr>\n",
       "\t<tr><th scope=row>9</th><td>i</td><td>4.238923</td><td>4.070000</td><td> 0.168923077</td></tr>\n",
       "\t<tr><th scope=row>19</th><td>s</td><td>4.229709</td><td>4.070000</td><td> 0.159709091</td></tr>\n",
       "\t<tr><th scope=row>8</th><td>h</td><td>4.211793</td><td>4.110580</td><td> 0.101213393</td></tr>\n",
       "\t<tr><th scope=row>16</th><td>p</td><td>4.208620</td><td>4.114355</td><td> 0.094264690</td></tr>\n",
       "\t<tr><th scope=row>14</th><td>n</td><td>4.214542</td><td>4.121860</td><td> 0.092681659</td></tr>\n",
       "\t<tr><th scope=row>1</th><td>a</td><td>4.228524</td><td>4.141342</td><td> 0.087181528</td></tr>\n",
       "\t<tr><th scope=row>18</th><td>r</td><td>4.222271</td><td>4.139615</td><td> 0.082655358</td></tr>\n",
       "\t<tr><th scope=row>4</th><td>d</td><td>4.196287</td><td>4.169038</td><td> 0.027248183</td></tr>\n",
       "\t<tr><th scope=row>13</th><td>m</td><td>4.194318</td><td>4.180392</td><td> 0.013926025</td></tr>\n",
       "\t<tr><th scope=row>5</th><td>e</td><td>4.195670</td><td>4.188424</td><td> 0.007245861</td></tr>\n",
       "\t<tr><th scope=row>3</th><td>c</td><td>4.193630</td><td>4.186716</td><td> 0.006913719</td></tr>\n",
       "\t<tr><th scope=row>12</th><td>l</td><td>4.193410</td><td>4.189490</td><td> 0.003920166</td></tr>\n",
       "\t<tr><th scope=row>2</th><td>b</td><td>4.190851</td><td>4.208667</td><td>-0.017815603</td></tr>\n",
       "\t<tr><th scope=row>15</th><td>o</td><td>4.182083</td><td>4.213025</td><td>-0.030941877</td></tr>\n",
       "\t<tr><th scope=row>11</th><td>k</td><td>4.185153</td><td>4.263333</td><td>-0.078179959</td></tr>\n",
       "\t<tr><th scope=row>21</th><td>u</td><td>4.178859</td><td>4.258197</td><td>-0.079337661</td></tr>\n",
       "\t<tr><th scope=row>6</th><td>f</td><td>4.184407</td><td>4.279333</td><td>-0.094926039</td></tr>\n",
       "\t<tr><th scope=row>17</th><td>q</td><td>4.190932</td><td>4.292000</td><td>-0.101067797</td></tr>\n",
       "\t<tr><th scope=row>22</th><td>v</td><td>4.179403</td><td>4.372917</td><td>-0.193513682</td></tr>\n",
       "\t<tr><th scope=row>7</th><td>g</td><td>4.166667</td><td>4.362766</td><td>-0.196099291</td></tr>\n",
       "\t<tr><th scope=row>25</th><td>y</td><td>4.154080</td><td>4.383000</td><td>-0.228919732</td></tr>\n",
       "\t<tr><th scope=row>23</th><td>w</td><td>4.169635</td><td>4.441333</td><td>-0.271698075</td></tr>\n",
       "\t<tr><th scope=row>24</th><td>x</td><td>4.186790</td><td>4.471429</td><td>-0.284638799</td></tr>\n",
       "\t<tr><th scope=row>10</th><td>j</td><td>4.187775</td><td>4.597500</td><td>-0.409725352</td></tr>\n",
       "\t<tr><th scope=row>26</th><td>z</td><td>4.183757</td><td>4.800000</td><td>-0.616242938</td></tr>\n",
       "</tbody>\n",
       "</table>\n"
      ],
      "text/latex": [
       "A data.frame: 26 × 4\n",
       "\\begin{tabular}{r|llll}\n",
       "  & letters & with & wout & diff\\\\\n",
       "  & <chr> & <dbl> & <dbl> & <dbl>\\\\\n",
       "\\hline\n",
       "\t20 & t & 4.283966 & 4.014344 &  0.269621982\\\\\n",
       "\t9 & i & 4.238923 & 4.070000 &  0.168923077\\\\\n",
       "\t19 & s & 4.229709 & 4.070000 &  0.159709091\\\\\n",
       "\t8 & h & 4.211793 & 4.110580 &  0.101213393\\\\\n",
       "\t16 & p & 4.208620 & 4.114355 &  0.094264690\\\\\n",
       "\t14 & n & 4.214542 & 4.121860 &  0.092681659\\\\\n",
       "\t1 & a & 4.228524 & 4.141342 &  0.087181528\\\\\n",
       "\t18 & r & 4.222271 & 4.139615 &  0.082655358\\\\\n",
       "\t4 & d & 4.196287 & 4.169038 &  0.027248183\\\\\n",
       "\t13 & m & 4.194318 & 4.180392 &  0.013926025\\\\\n",
       "\t5 & e & 4.195670 & 4.188424 &  0.007245861\\\\\n",
       "\t3 & c & 4.193630 & 4.186716 &  0.006913719\\\\\n",
       "\t12 & l & 4.193410 & 4.189490 &  0.003920166\\\\\n",
       "\t2 & b & 4.190851 & 4.208667 & -0.017815603\\\\\n",
       "\t15 & o & 4.182083 & 4.213025 & -0.030941877\\\\\n",
       "\t11 & k & 4.185153 & 4.263333 & -0.078179959\\\\\n",
       "\t21 & u & 4.178859 & 4.258197 & -0.079337661\\\\\n",
       "\t6 & f & 4.184407 & 4.279333 & -0.094926039\\\\\n",
       "\t17 & q & 4.190932 & 4.292000 & -0.101067797\\\\\n",
       "\t22 & v & 4.179403 & 4.372917 & -0.193513682\\\\\n",
       "\t7 & g & 4.166667 & 4.362766 & -0.196099291\\\\\n",
       "\t25 & y & 4.154080 & 4.383000 & -0.228919732\\\\\n",
       "\t23 & w & 4.169635 & 4.441333 & -0.271698075\\\\\n",
       "\t24 & x & 4.186790 & 4.471429 & -0.284638799\\\\\n",
       "\t10 & j & 4.187775 & 4.597500 & -0.409725352\\\\\n",
       "\t26 & z & 4.183757 & 4.800000 & -0.616242938\\\\\n",
       "\\end{tabular}\n"
      ],
      "text/markdown": [
       "\n",
       "A data.frame: 26 × 4\n",
       "\n",
       "| <!--/--> | letters &lt;chr&gt; | with &lt;dbl&gt; | wout &lt;dbl&gt; | diff &lt;dbl&gt; |\n",
       "|---|---|---|---|---|\n",
       "| 20 | t | 4.283966 | 4.014344 |  0.269621982 |\n",
       "| 9 | i | 4.238923 | 4.070000 |  0.168923077 |\n",
       "| 19 | s | 4.229709 | 4.070000 |  0.159709091 |\n",
       "| 8 | h | 4.211793 | 4.110580 |  0.101213393 |\n",
       "| 16 | p | 4.208620 | 4.114355 |  0.094264690 |\n",
       "| 14 | n | 4.214542 | 4.121860 |  0.092681659 |\n",
       "| 1 | a | 4.228524 | 4.141342 |  0.087181528 |\n",
       "| 18 | r | 4.222271 | 4.139615 |  0.082655358 |\n",
       "| 4 | d | 4.196287 | 4.169038 |  0.027248183 |\n",
       "| 13 | m | 4.194318 | 4.180392 |  0.013926025 |\n",
       "| 5 | e | 4.195670 | 4.188424 |  0.007245861 |\n",
       "| 3 | c | 4.193630 | 4.186716 |  0.006913719 |\n",
       "| 12 | l | 4.193410 | 4.189490 |  0.003920166 |\n",
       "| 2 | b | 4.190851 | 4.208667 | -0.017815603 |\n",
       "| 15 | o | 4.182083 | 4.213025 | -0.030941877 |\n",
       "| 11 | k | 4.185153 | 4.263333 | -0.078179959 |\n",
       "| 21 | u | 4.178859 | 4.258197 | -0.079337661 |\n",
       "| 6 | f | 4.184407 | 4.279333 | -0.094926039 |\n",
       "| 17 | q | 4.190932 | 4.292000 | -0.101067797 |\n",
       "| 22 | v | 4.179403 | 4.372917 | -0.193513682 |\n",
       "| 7 | g | 4.166667 | 4.362766 | -0.196099291 |\n",
       "| 25 | y | 4.154080 | 4.383000 | -0.228919732 |\n",
       "| 23 | w | 4.169635 | 4.441333 | -0.271698075 |\n",
       "| 24 | x | 4.186790 | 4.471429 | -0.284638799 |\n",
       "| 10 | j | 4.187775 | 4.597500 | -0.409725352 |\n",
       "| 26 | z | 4.183757 | 4.800000 | -0.616242938 |\n",
       "\n"
      ],
      "text/plain": [
       "   letters with     wout     diff        \n",
       "20 t       4.283966 4.014344  0.269621982\n",
       "9  i       4.238923 4.070000  0.168923077\n",
       "19 s       4.229709 4.070000  0.159709091\n",
       "8  h       4.211793 4.110580  0.101213393\n",
       "16 p       4.208620 4.114355  0.094264690\n",
       "14 n       4.214542 4.121860  0.092681659\n",
       "1  a       4.228524 4.141342  0.087181528\n",
       "18 r       4.222271 4.139615  0.082655358\n",
       "4  d       4.196287 4.169038  0.027248183\n",
       "13 m       4.194318 4.180392  0.013926025\n",
       "5  e       4.195670 4.188424  0.007245861\n",
       "3  c       4.193630 4.186716  0.006913719\n",
       "12 l       4.193410 4.189490  0.003920166\n",
       "2  b       4.190851 4.208667 -0.017815603\n",
       "15 o       4.182083 4.213025 -0.030941877\n",
       "11 k       4.185153 4.263333 -0.078179959\n",
       "21 u       4.178859 4.258197 -0.079337661\n",
       "6  f       4.184407 4.279333 -0.094926039\n",
       "17 q       4.190932 4.292000 -0.101067797\n",
       "22 v       4.179403 4.372917 -0.193513682\n",
       "7  g       4.166667 4.362766 -0.196099291\n",
       "25 y       4.154080 4.383000 -0.228919732\n",
       "23 w       4.169635 4.441333 -0.271698075\n",
       "24 x       4.186790 4.471429 -0.284638799\n",
       "10 j       4.187775 4.597500 -0.409725352\n",
       "26 z       4.183757 4.800000 -0.616242938"
      ]
     },
     "metadata": {},
     "output_type": "display_data"
    }
   ],
   "source": [
    "letterFreq <- tempDF[order(tempDF$diff, decreasing = TRUE),]\n",
    "head(letterFreq, 27)\n",
    "\n",
    "\n"
   ]
  },
  {
   "cell_type": "code",
   "execution_count": 16,
   "id": "f19df0e3-4434-4801-82dc-2a979ee0c4b5",
   "metadata": {},
   "outputs": [
    {
     "name": "stdout",
     "output_type": "stream",
     "text": [
      "[1] 0.2882798\n"
     ]
    },
    {
     "data": {
      "text/html": [
       "<table class=\"dataframe\">\n",
       "<caption>A tibble: 6 × 45</caption>\n",
       "<thead>\n",
       "\t<tr><th scope=col>Date</th><th scope=col>Contest number</th><th scope=col>Word</th><th scope=col>Number of  reported results</th><th scope=col>Number in hard mode</th><th scope=col>1 try</th><th scope=col>2 tries</th><th scope=col>3 tries</th><th scope=col>4 tries</th><th scope=col>5 tries</th><th scope=col>⋯</th><th scope=col>t</th><th scope=col>u</th><th scope=col>v</th><th scope=col>w</th><th scope=col>x</th><th scope=col>y</th><th scope=col>z</th><th scope=col>normUsers</th><th scope=col>normAdjUsers</th><th scope=col>adjFac</th></tr>\n",
       "\t<tr><th scope=col>&lt;chr&gt;</th><th scope=col>&lt;chr&gt;</th><th scope=col>&lt;chr&gt;</th><th scope=col>&lt;chr&gt;</th><th scope=col>&lt;chr&gt;</th><th scope=col>&lt;chr&gt;</th><th scope=col>&lt;chr&gt;</th><th scope=col>&lt;chr&gt;</th><th scope=col>&lt;chr&gt;</th><th scope=col>&lt;chr&gt;</th><th scope=col>⋯</th><th scope=col>&lt;chr&gt;</th><th scope=col>&lt;chr&gt;</th><th scope=col>&lt;chr&gt;</th><th scope=col>&lt;chr&gt;</th><th scope=col>&lt;chr&gt;</th><th scope=col>&lt;chr&gt;</th><th scope=col>&lt;chr&gt;</th><th scope=col>&lt;dbl&gt;</th><th scope=col>&lt;dbl&gt;</th><th scope=col>&lt;dbl&gt;</th></tr>\n",
       "</thead>\n",
       "<tbody>\n",
       "\t<tr><td>44926</td><td>560</td><td>manly</td><td>20380</td><td>1899</td><td>0</td><td>2</td><td>17</td><td>37</td><td>29</td><td>⋯</td><td>0</td><td>0</td><td>0</td><td>0</td><td>0</td><td>1</td><td>0</td><td> 113.3788</td><td> 0.005594360</td><td>-0.03121035</td></tr>\n",
       "\t<tr><td>44925</td><td>559</td><td>molar</td><td>21204</td><td>1973</td><td>0</td><td>4</td><td>21</td><td>38</td><td>26</td><td>⋯</td><td>0</td><td>0</td><td>0</td><td>0</td><td>0</td><td>0</td><td>0</td><td> 935.4360</td><td> 0.046152063</td><td> 0.15674120</td></tr>\n",
       "\t<tr><td>44924</td><td>558</td><td>havoc</td><td>20001</td><td>1919</td><td>0</td><td>2</td><td>16</td><td>38</td><td>30</td><td>⋯</td><td>0</td><td>0</td><td>1</td><td>0</td><td>0</td><td>0</td><td>0</td><td>-291.8071</td><td>-0.014379829</td><td>-0.02914692</td></tr>\n",
       "\t<tr><td>44923</td><td>557</td><td>impel</td><td>20160</td><td>1937</td><td>0</td><td>3</td><td>21</td><td>40</td><td>25</td><td>⋯</td><td>0</td><td>0</td><td>0</td><td>0</td><td>0</td><td>0</td><td>0</td><td>-186.9372</td><td>-0.009187484</td><td> 0.28827982</td></tr>\n",
       "\t<tr><td>44922</td><td>556</td><td>condo</td><td>20879</td><td>2012</td><td>0</td><td>2</td><td>17</td><td>35</td><td>29</td><td>⋯</td><td>0</td><td>0</td><td>0</td><td>0</td><td>0</td><td>0</td><td>0</td><td> 440.9184</td><td> 0.021573373</td><td> 0.06495981</td></tr>\n",
       "\t<tr><td>44921</td><td>555</td><td>judge</td><td>20011</td><td>2043</td><td>0</td><td>2</td><td>8 </td><td>16</td><td>26</td><td>⋯</td><td>0</td><td>1</td><td>0</td><td>0</td><td>0</td><td>0</td><td>0</td><td>-560.4073</td><td>-0.027242050</td><td>-0.65066826</td></tr>\n",
       "</tbody>\n",
       "</table>\n"
      ],
      "text/latex": [
       "A tibble: 6 × 45\n",
       "\\begin{tabular}{lllllllllllllllllllll}\n",
       " Date & Contest number & Word & Number of  reported results & Number in hard mode & 1 try & 2 tries & 3 tries & 4 tries & 5 tries & ⋯ & t & u & v & w & x & y & z & normUsers & normAdjUsers & adjFac\\\\\n",
       " <chr> & <chr> & <chr> & <chr> & <chr> & <chr> & <chr> & <chr> & <chr> & <chr> & ⋯ & <chr> & <chr> & <chr> & <chr> & <chr> & <chr> & <chr> & <dbl> & <dbl> & <dbl>\\\\\n",
       "\\hline\n",
       "\t 44926 & 560 & manly & 20380 & 1899 & 0 & 2 & 17 & 37 & 29 & ⋯ & 0 & 0 & 0 & 0 & 0 & 1 & 0 &  113.3788 &  0.005594360 & -0.03121035\\\\\n",
       "\t 44925 & 559 & molar & 21204 & 1973 & 0 & 4 & 21 & 38 & 26 & ⋯ & 0 & 0 & 0 & 0 & 0 & 0 & 0 &  935.4360 &  0.046152063 &  0.15674120\\\\\n",
       "\t 44924 & 558 & havoc & 20001 & 1919 & 0 & 2 & 16 & 38 & 30 & ⋯ & 0 & 0 & 1 & 0 & 0 & 0 & 0 & -291.8071 & -0.014379829 & -0.02914692\\\\\n",
       "\t 44923 & 557 & impel & 20160 & 1937 & 0 & 3 & 21 & 40 & 25 & ⋯ & 0 & 0 & 0 & 0 & 0 & 0 & 0 & -186.9372 & -0.009187484 &  0.28827982\\\\\n",
       "\t 44922 & 556 & condo & 20879 & 2012 & 0 & 2 & 17 & 35 & 29 & ⋯ & 0 & 0 & 0 & 0 & 0 & 0 & 0 &  440.9184 &  0.021573373 &  0.06495981\\\\\n",
       "\t 44921 & 555 & judge & 20011 & 2043 & 0 & 2 & 8  & 16 & 26 & ⋯ & 0 & 1 & 0 & 0 & 0 & 0 & 0 & -560.4073 & -0.027242050 & -0.65066826\\\\\n",
       "\\end{tabular}\n"
      ],
      "text/markdown": [
       "\n",
       "A tibble: 6 × 45\n",
       "\n",
       "| Date &lt;chr&gt; | Contest number &lt;chr&gt; | Word &lt;chr&gt; | Number of  reported results &lt;chr&gt; | Number in hard mode &lt;chr&gt; | 1 try &lt;chr&gt; | 2 tries &lt;chr&gt; | 3 tries &lt;chr&gt; | 4 tries &lt;chr&gt; | 5 tries &lt;chr&gt; | ⋯ ⋯ | t &lt;chr&gt; | u &lt;chr&gt; | v &lt;chr&gt; | w &lt;chr&gt; | x &lt;chr&gt; | y &lt;chr&gt; | z &lt;chr&gt; | normUsers &lt;dbl&gt; | normAdjUsers &lt;dbl&gt; | adjFac &lt;dbl&gt; |\n",
       "|---|---|---|---|---|---|---|---|---|---|---|---|---|---|---|---|---|---|---|---|---|\n",
       "| 44926 | 560 | manly | 20380 | 1899 | 0 | 2 | 17 | 37 | 29 | ⋯ | 0 | 0 | 0 | 0 | 0 | 1 | 0 |  113.3788 |  0.005594360 | -0.03121035 |\n",
       "| 44925 | 559 | molar | 21204 | 1973 | 0 | 4 | 21 | 38 | 26 | ⋯ | 0 | 0 | 0 | 0 | 0 | 0 | 0 |  935.4360 |  0.046152063 |  0.15674120 |\n",
       "| 44924 | 558 | havoc | 20001 | 1919 | 0 | 2 | 16 | 38 | 30 | ⋯ | 0 | 0 | 1 | 0 | 0 | 0 | 0 | -291.8071 | -0.014379829 | -0.02914692 |\n",
       "| 44923 | 557 | impel | 20160 | 1937 | 0 | 3 | 21 | 40 | 25 | ⋯ | 0 | 0 | 0 | 0 | 0 | 0 | 0 | -186.9372 | -0.009187484 |  0.28827982 |\n",
       "| 44922 | 556 | condo | 20879 | 2012 | 0 | 2 | 17 | 35 | 29 | ⋯ | 0 | 0 | 0 | 0 | 0 | 0 | 0 |  440.9184 |  0.021573373 |  0.06495981 |\n",
       "| 44921 | 555 | judge | 20011 | 2043 | 0 | 2 | 8  | 16 | 26 | ⋯ | 0 | 1 | 0 | 0 | 0 | 0 | 0 | -560.4073 | -0.027242050 | -0.65066826 |\n",
       "\n"
      ],
      "text/plain": [
       "  Date  Contest number Word  Number of  reported results Number in hard mode\n",
       "1 44926 560            manly 20380                       1899               \n",
       "2 44925 559            molar 21204                       1973               \n",
       "3 44924 558            havoc 20001                       1919               \n",
       "4 44923 557            impel 20160                       1937               \n",
       "5 44922 556            condo 20879                       2012               \n",
       "6 44921 555            judge 20011                       2043               \n",
       "  1 try 2 tries 3 tries 4 tries 5 tries ⋯ t u v w x y z normUsers normAdjUsers\n",
       "1 0     2       17      37      29      ⋯ 0 0 0 0 0 1 0  113.3788  0.005594360\n",
       "2 0     4       21      38      26      ⋯ 0 0 0 0 0 0 0  935.4360  0.046152063\n",
       "3 0     2       16      38      30      ⋯ 0 0 1 0 0 0 0 -291.8071 -0.014379829\n",
       "4 0     3       21      40      25      ⋯ 0 0 0 0 0 0 0 -186.9372 -0.009187484\n",
       "5 0     2       17      35      29      ⋯ 0 0 0 0 0 0 0  440.9184  0.021573373\n",
       "6 0     2       8       16      26      ⋯ 0 1 0 0 0 0 0 -560.4073 -0.027242050\n",
       "  adjFac     \n",
       "1 -0.03121035\n",
       "2  0.15674120\n",
       "3 -0.02914692\n",
       "4  0.28827982\n",
       "5  0.06495981\n",
       "6 -0.65066826"
      ]
     },
     "metadata": {},
     "output_type": "display_data"
    },
    {
     "data": {
      "text/html": [],
      "text/latex": [],
      "text/markdown": [],
      "text/plain": [
       "character(0)"
      ]
     },
     "metadata": {},
     "output_type": "display_data"
    },
    {
     "data": {
      "text/html": [
       "<table class=\"dataframe\">\n",
       "<caption>A tibble: 6 × 46</caption>\n",
       "<thead>\n",
       "\t<tr><th scope=col>Date</th><th scope=col>Contest number</th><th scope=col>Word</th><th scope=col>Number of  reported results</th><th scope=col>Number in hard mode</th><th scope=col>1 try</th><th scope=col>2 tries</th><th scope=col>3 tries</th><th scope=col>4 tries</th><th scope=col>5 tries</th><th scope=col>⋯</th><th scope=col>u</th><th scope=col>v</th><th scope=col>w</th><th scope=col>x</th><th scope=col>y</th><th scope=col>z</th><th scope=col>normUsers</th><th scope=col>normAdjUsers</th><th scope=col>adjFac</th><th scope=col>letFreq</th></tr>\n",
       "\t<tr><th scope=col>&lt;chr&gt;</th><th scope=col>&lt;chr&gt;</th><th scope=col>&lt;chr&gt;</th><th scope=col>&lt;chr&gt;</th><th scope=col>&lt;chr&gt;</th><th scope=col>&lt;chr&gt;</th><th scope=col>&lt;chr&gt;</th><th scope=col>&lt;chr&gt;</th><th scope=col>&lt;chr&gt;</th><th scope=col>&lt;chr&gt;</th><th scope=col>⋯</th><th scope=col>&lt;chr&gt;</th><th scope=col>&lt;chr&gt;</th><th scope=col>&lt;chr&gt;</th><th scope=col>&lt;chr&gt;</th><th scope=col>&lt;chr&gt;</th><th scope=col>&lt;chr&gt;</th><th scope=col>&lt;dbl&gt;</th><th scope=col>&lt;dbl&gt;</th><th scope=col>&lt;dbl&gt;</th><th scope=col>&lt;dbl&gt;</th></tr>\n",
       "</thead>\n",
       "<tbody>\n",
       "\t<tr><td>44926</td><td>560</td><td>manly</td><td>20380</td><td>1899</td><td>0</td><td>2</td><td>17</td><td>37</td><td>29</td><td>⋯</td><td>0</td><td>0</td><td>0</td><td>0</td><td>1</td><td>0</td><td> 113.3788</td><td> 0.005594360</td><td>-0.03121035</td><td>-0.03121035</td></tr>\n",
       "\t<tr><td>44925</td><td>559</td><td>molar</td><td>21204</td><td>1973</td><td>0</td><td>4</td><td>21</td><td>38</td><td>26</td><td>⋯</td><td>0</td><td>0</td><td>0</td><td>0</td><td>0</td><td>0</td><td> 935.4360</td><td> 0.046152063</td><td> 0.15674120</td><td> 0.15674120</td></tr>\n",
       "\t<tr><td>44924</td><td>558</td><td>havoc</td><td>20001</td><td>1919</td><td>0</td><td>2</td><td>16</td><td>38</td><td>30</td><td>⋯</td><td>0</td><td>1</td><td>0</td><td>0</td><td>0</td><td>0</td><td>-291.8071</td><td>-0.014379829</td><td>-0.02914692</td><td>-0.02914692</td></tr>\n",
       "\t<tr><td>44923</td><td>557</td><td>impel</td><td>20160</td><td>1937</td><td>0</td><td>3</td><td>21</td><td>40</td><td>25</td><td>⋯</td><td>0</td><td>0</td><td>0</td><td>0</td><td>0</td><td>0</td><td>-186.9372</td><td>-0.009187484</td><td> 0.28827982</td><td> 0.28827982</td></tr>\n",
       "\t<tr><td>44922</td><td>556</td><td>condo</td><td>20879</td><td>2012</td><td>0</td><td>2</td><td>17</td><td>35</td><td>29</td><td>⋯</td><td>0</td><td>0</td><td>0</td><td>0</td><td>0</td><td>0</td><td> 440.9184</td><td> 0.021573373</td><td> 0.06495981</td><td> 0.06495981</td></tr>\n",
       "\t<tr><td>44921</td><td>555</td><td>judge</td><td>20011</td><td>2043</td><td>0</td><td>2</td><td>8 </td><td>16</td><td>26</td><td>⋯</td><td>1</td><td>0</td><td>0</td><td>0</td><td>0</td><td>0</td><td>-560.4073</td><td>-0.027242050</td><td>-0.65066826</td><td>-0.65066826</td></tr>\n",
       "</tbody>\n",
       "</table>\n"
      ],
      "text/latex": [
       "A tibble: 6 × 46\n",
       "\\begin{tabular}{lllllllllllllllllllll}\n",
       " Date & Contest number & Word & Number of  reported results & Number in hard mode & 1 try & 2 tries & 3 tries & 4 tries & 5 tries & ⋯ & u & v & w & x & y & z & normUsers & normAdjUsers & adjFac & letFreq\\\\\n",
       " <chr> & <chr> & <chr> & <chr> & <chr> & <chr> & <chr> & <chr> & <chr> & <chr> & ⋯ & <chr> & <chr> & <chr> & <chr> & <chr> & <chr> & <dbl> & <dbl> & <dbl> & <dbl>\\\\\n",
       "\\hline\n",
       "\t 44926 & 560 & manly & 20380 & 1899 & 0 & 2 & 17 & 37 & 29 & ⋯ & 0 & 0 & 0 & 0 & 1 & 0 &  113.3788 &  0.005594360 & -0.03121035 & -0.03121035\\\\\n",
       "\t 44925 & 559 & molar & 21204 & 1973 & 0 & 4 & 21 & 38 & 26 & ⋯ & 0 & 0 & 0 & 0 & 0 & 0 &  935.4360 &  0.046152063 &  0.15674120 &  0.15674120\\\\\n",
       "\t 44924 & 558 & havoc & 20001 & 1919 & 0 & 2 & 16 & 38 & 30 & ⋯ & 0 & 1 & 0 & 0 & 0 & 0 & -291.8071 & -0.014379829 & -0.02914692 & -0.02914692\\\\\n",
       "\t 44923 & 557 & impel & 20160 & 1937 & 0 & 3 & 21 & 40 & 25 & ⋯ & 0 & 0 & 0 & 0 & 0 & 0 & -186.9372 & -0.009187484 &  0.28827982 &  0.28827982\\\\\n",
       "\t 44922 & 556 & condo & 20879 & 2012 & 0 & 2 & 17 & 35 & 29 & ⋯ & 0 & 0 & 0 & 0 & 0 & 0 &  440.9184 &  0.021573373 &  0.06495981 &  0.06495981\\\\\n",
       "\t 44921 & 555 & judge & 20011 & 2043 & 0 & 2 & 8  & 16 & 26 & ⋯ & 1 & 0 & 0 & 0 & 0 & 0 & -560.4073 & -0.027242050 & -0.65066826 & -0.65066826\\\\\n",
       "\\end{tabular}\n"
      ],
      "text/markdown": [
       "\n",
       "A tibble: 6 × 46\n",
       "\n",
       "| Date &lt;chr&gt; | Contest number &lt;chr&gt; | Word &lt;chr&gt; | Number of  reported results &lt;chr&gt; | Number in hard mode &lt;chr&gt; | 1 try &lt;chr&gt; | 2 tries &lt;chr&gt; | 3 tries &lt;chr&gt; | 4 tries &lt;chr&gt; | 5 tries &lt;chr&gt; | ⋯ ⋯ | u &lt;chr&gt; | v &lt;chr&gt; | w &lt;chr&gt; | x &lt;chr&gt; | y &lt;chr&gt; | z &lt;chr&gt; | normUsers &lt;dbl&gt; | normAdjUsers &lt;dbl&gt; | adjFac &lt;dbl&gt; | letFreq &lt;dbl&gt; |\n",
       "|---|---|---|---|---|---|---|---|---|---|---|---|---|---|---|---|---|---|---|---|---|\n",
       "| 44926 | 560 | manly | 20380 | 1899 | 0 | 2 | 17 | 37 | 29 | ⋯ | 0 | 0 | 0 | 0 | 1 | 0 |  113.3788 |  0.005594360 | -0.03121035 | -0.03121035 |\n",
       "| 44925 | 559 | molar | 21204 | 1973 | 0 | 4 | 21 | 38 | 26 | ⋯ | 0 | 0 | 0 | 0 | 0 | 0 |  935.4360 |  0.046152063 |  0.15674120 |  0.15674120 |\n",
       "| 44924 | 558 | havoc | 20001 | 1919 | 0 | 2 | 16 | 38 | 30 | ⋯ | 0 | 1 | 0 | 0 | 0 | 0 | -291.8071 | -0.014379829 | -0.02914692 | -0.02914692 |\n",
       "| 44923 | 557 | impel | 20160 | 1937 | 0 | 3 | 21 | 40 | 25 | ⋯ | 0 | 0 | 0 | 0 | 0 | 0 | -186.9372 | -0.009187484 |  0.28827982 |  0.28827982 |\n",
       "| 44922 | 556 | condo | 20879 | 2012 | 0 | 2 | 17 | 35 | 29 | ⋯ | 0 | 0 | 0 | 0 | 0 | 0 |  440.9184 |  0.021573373 |  0.06495981 |  0.06495981 |\n",
       "| 44921 | 555 | judge | 20011 | 2043 | 0 | 2 | 8  | 16 | 26 | ⋯ | 1 | 0 | 0 | 0 | 0 | 0 | -560.4073 | -0.027242050 | -0.65066826 | -0.65066826 |\n",
       "\n"
      ],
      "text/plain": [
       "  Date  Contest number Word  Number of  reported results Number in hard mode\n",
       "1 44926 560            manly 20380                       1899               \n",
       "2 44925 559            molar 21204                       1973               \n",
       "3 44924 558            havoc 20001                       1919               \n",
       "4 44923 557            impel 20160                       1937               \n",
       "5 44922 556            condo 20879                       2012               \n",
       "6 44921 555            judge 20011                       2043               \n",
       "  1 try 2 tries 3 tries 4 tries 5 tries ⋯ u v w x y z normUsers normAdjUsers\n",
       "1 0     2       17      37      29      ⋯ 0 0 0 0 1 0  113.3788  0.005594360\n",
       "2 0     4       21      38      26      ⋯ 0 0 0 0 0 0  935.4360  0.046152063\n",
       "3 0     2       16      38      30      ⋯ 0 1 0 0 0 0 -291.8071 -0.014379829\n",
       "4 0     3       21      40      25      ⋯ 0 0 0 0 0 0 -186.9372 -0.009187484\n",
       "5 0     2       17      35      29      ⋯ 0 0 0 0 0 0  440.9184  0.021573373\n",
       "6 0     2       8       16      26      ⋯ 1 0 0 0 0 0 -560.4073 -0.027242050\n",
       "  adjFac      letFreq    \n",
       "1 -0.03121035 -0.03121035\n",
       "2  0.15674120  0.15674120\n",
       "3 -0.02914692 -0.02914692\n",
       "4  0.28827982  0.28827982\n",
       "5  0.06495981  0.06495981\n",
       "6 -0.65066826 -0.65066826"
      ]
     },
     "metadata": {},
     "output_type": "display_data"
    }
   ],
   "source": [
    "#print(combinedSet)\n",
    "\n",
    "#combinedSet$adjFac <- \n",
    "#print(as.numeric(unlist(tempDF$diff)))\n",
    "\n",
    "#print(as.numeric(unlist(combinedSet[3, 17:42])))\n",
    "\n",
    "adjust <- function(n){\n",
    "    adjNum <- sum(as.numeric(unlist(tempDF$diff)) * as.numeric(unlist(combinedSet[n, 17:42])))\n",
    "    return(adjNum)\n",
    "}\n",
    "\n",
    "print(adjust(4))\n",
    "\n",
    "combinedSet$adjFac <- NA\n",
    "\n",
    "for (i in 1:nrow(combinedSet)){\n",
    "combinedSet[i, ncol(combinedSet)] <- adjust(i)\n",
    "}\n",
    "\n",
    "head(combinedSet)\n",
    "\n",
    "\n",
    "system(\"gsutil cp gs://mcm_2023_data/letterFreq.csv ~/MCM_2023\", intern=TRUE)\n",
    "letterFreq = read.table('./letterFreq.csv',sep=',')\n",
    "\n",
    "modify <- function(n){\n",
    "    adjNum <- sum(as.numeric(unlist(letterFreq[,2])) * as.numeric(unlist(combinedSet[n, 17:42])))\n",
    "    return(adjNum)\n",
    "}\n",
    "combinedSet$letFreq <- NA\n",
    "\n",
    "for (i in 1:nrow(combinedSet)){\n",
    "    combinedSet[i, ncol(combinedSet)] <- adjust(i)\n",
    "}\n",
    "\n",
    "head(combinedSet)\n"
   ]
  },
  {
   "cell_type": "code",
   "execution_count": 17,
   "id": "feea0d5b-aafe-4846-a9a9-daa774e5e11d",
   "metadata": {},
   "outputs": [
    {
     "data": {
      "text/html": [],
      "text/latex": [],
      "text/markdown": [],
      "text/plain": [
       "character(0)"
      ]
     },
     "metadata": {},
     "output_type": "display_data"
    },
    {
     "data": {
      "text/html": [
       "<table class=\"dataframe\">\n",
       "<caption>A data.frame: 6 × 2</caption>\n",
       "<thead>\n",
       "\t<tr><th></th><th scope=col>V1</th><th scope=col>V2</th></tr>\n",
       "\t<tr><th></th><th scope=col>&lt;chr&gt;</th><th scope=col>&lt;dbl&gt;</th></tr>\n",
       "</thead>\n",
       "<tbody>\n",
       "\t<tr><th scope=row>1</th><td>a</td><td>0.61657003</td></tr>\n",
       "\t<tr><th scope=row>2</th><td>b</td><td>0.15937744</td></tr>\n",
       "\t<tr><th scope=row>3</th><td>c</td><td>0.36597166</td></tr>\n",
       "\t<tr><th scope=row>4</th><td>d</td><td>0.25876862</td></tr>\n",
       "\t<tr><th scope=row>5</th><td>e</td><td>0.67173521</td></tr>\n",
       "\t<tr><th scope=row>6</th><td>f</td><td>0.09276965</td></tr>\n",
       "</tbody>\n",
       "</table>\n"
      ],
      "text/latex": [
       "A data.frame: 6 × 2\n",
       "\\begin{tabular}{r|ll}\n",
       "  & V1 & V2\\\\\n",
       "  & <chr> & <dbl>\\\\\n",
       "\\hline\n",
       "\t1 & a & 0.61657003\\\\\n",
       "\t2 & b & 0.15937744\\\\\n",
       "\t3 & c & 0.36597166\\\\\n",
       "\t4 & d & 0.25876862\\\\\n",
       "\t5 & e & 0.67173521\\\\\n",
       "\t6 & f & 0.09276965\\\\\n",
       "\\end{tabular}\n"
      ],
      "text/markdown": [
       "\n",
       "A data.frame: 6 × 2\n",
       "\n",
       "| <!--/--> | V1 &lt;chr&gt; | V2 &lt;dbl&gt; |\n",
       "|---|---|---|\n",
       "| 1 | a | 0.61657003 |\n",
       "| 2 | b | 0.15937744 |\n",
       "| 3 | c | 0.36597166 |\n",
       "| 4 | d | 0.25876862 |\n",
       "| 5 | e | 0.67173521 |\n",
       "| 6 | f | 0.09276965 |\n",
       "\n"
      ],
      "text/plain": [
       "  V1 V2        \n",
       "1 a  0.61657003\n",
       "2 b  0.15937744\n",
       "3 c  0.36597166\n",
       "4 d  0.25876862\n",
       "5 e  0.67173521\n",
       "6 f  0.09276965"
      ]
     },
     "metadata": {},
     "output_type": "display_data"
    },
    {
     "data": {
      "text/html": [
       "<table class=\"dataframe\">\n",
       "<caption>A data.frame: 6 × 9</caption>\n",
       "<thead>\n",
       "\t<tr><th></th><th scope=col>word</th><th scope=col>two</th><th scope=col>three</th><th scope=col>four</th><th scope=col>freq</th><th scope=col>letAdj</th><th scope=col>unique</th><th scope=col>letFreq</th><th scope=col>score</th></tr>\n",
       "\t<tr><th></th><th scope=col>&lt;chr&gt;</th><th scope=col>&lt;dbl&gt;</th><th scope=col>&lt;dbl&gt;</th><th scope=col>&lt;dbl&gt;</th><th scope=col>&lt;dbl&gt;</th><th scope=col>&lt;dbl&gt;</th><th scope=col>&lt;fct&gt;</th><th scope=col>&lt;dbl&gt;</th><th scope=col>&lt;dbl&gt;</th></tr>\n",
       "</thead>\n",
       "<tbody>\n",
       "\t<tr><th scope=row>1</th><td>manly</td><td>1.3453627</td><td>0.34230453</td><td>0.023127605</td><td>0.005</td><td>-0.03121035</td><td>5</td><td>-0.03121035</td><td>4.34</td></tr>\n",
       "\t<tr><th scope=row>2</th><td>molar</td><td>1.3980539</td><td>0.37733783</td><td>0.038456367</td><td>0.005</td><td> 0.15674120</td><td>5</td><td> 0.15674120</td><td>4.14</td></tr>\n",
       "\t<tr><th scope=row>3</th><td>havoc</td><td>0.4933752</td><td>0.04570751</td><td>0.002016942</td><td>0.005</td><td>-0.02914692</td><td>5</td><td>-0.02914692</td><td>4.40</td></tr>\n",
       "\t<tr><th scope=row>4</th><td>impel</td><td>0.7906757</td><td>0.21457896</td><td>0.042490251</td><td>0.005</td><td> 0.28827982</td><td>5</td><td> 0.28827982</td><td>4.15</td></tr>\n",
       "\t<tr><th scope=row>5</th><td>condo</td><td>1.4388890</td><td>0.54319861</td><td>0.051095872</td><td>0.005</td><td> 0.06495981</td><td>4</td><td> 0.06495981</td><td>4.45</td></tr>\n",
       "\t<tr><th scope=row>6</th><td>judge</td><td>0.2727380</td><td>0.06659976</td><td>0.020438349</td><td>0.008</td><td>-0.65066826</td><td>5</td><td>-0.65066826</td><td>5.18</td></tr>\n",
       "</tbody>\n",
       "</table>\n"
      ],
      "text/latex": [
       "A data.frame: 6 × 9\n",
       "\\begin{tabular}{r|lllllllll}\n",
       "  & word & two & three & four & freq & letAdj & unique & letFreq & score\\\\\n",
       "  & <chr> & <dbl> & <dbl> & <dbl> & <dbl> & <dbl> & <fct> & <dbl> & <dbl>\\\\\n",
       "\\hline\n",
       "\t1 & manly & 1.3453627 & 0.34230453 & 0.023127605 & 0.005 & -0.03121035 & 5 & -0.03121035 & 4.34\\\\\n",
       "\t2 & molar & 1.3980539 & 0.37733783 & 0.038456367 & 0.005 &  0.15674120 & 5 &  0.15674120 & 4.14\\\\\n",
       "\t3 & havoc & 0.4933752 & 0.04570751 & 0.002016942 & 0.005 & -0.02914692 & 5 & -0.02914692 & 4.40\\\\\n",
       "\t4 & impel & 0.7906757 & 0.21457896 & 0.042490251 & 0.005 &  0.28827982 & 5 &  0.28827982 & 4.15\\\\\n",
       "\t5 & condo & 1.4388890 & 0.54319861 & 0.051095872 & 0.005 &  0.06495981 & 4 &  0.06495981 & 4.45\\\\\n",
       "\t6 & judge & 0.2727380 & 0.06659976 & 0.020438349 & 0.008 & -0.65066826 & 5 & -0.65066826 & 5.18\\\\\n",
       "\\end{tabular}\n"
      ],
      "text/markdown": [
       "\n",
       "A data.frame: 6 × 9\n",
       "\n",
       "| <!--/--> | word &lt;chr&gt; | two &lt;dbl&gt; | three &lt;dbl&gt; | four &lt;dbl&gt; | freq &lt;dbl&gt; | letAdj &lt;dbl&gt; | unique &lt;fct&gt; | letFreq &lt;dbl&gt; | score &lt;dbl&gt; |\n",
       "|---|---|---|---|---|---|---|---|---|---|\n",
       "| 1 | manly | 1.3453627 | 0.34230453 | 0.023127605 | 0.005 | -0.03121035 | 5 | -0.03121035 | 4.34 |\n",
       "| 2 | molar | 1.3980539 | 0.37733783 | 0.038456367 | 0.005 |  0.15674120 | 5 |  0.15674120 | 4.14 |\n",
       "| 3 | havoc | 0.4933752 | 0.04570751 | 0.002016942 | 0.005 | -0.02914692 | 5 | -0.02914692 | 4.40 |\n",
       "| 4 | impel | 0.7906757 | 0.21457896 | 0.042490251 | 0.005 |  0.28827982 | 5 |  0.28827982 | 4.15 |\n",
       "| 5 | condo | 1.4388890 | 0.54319861 | 0.051095872 | 0.005 |  0.06495981 | 4 |  0.06495981 | 4.45 |\n",
       "| 6 | judge | 0.2727380 | 0.06659976 | 0.020438349 | 0.008 | -0.65066826 | 5 | -0.65066826 | 5.18 |\n",
       "\n"
      ],
      "text/plain": [
       "  word  two       three      four        freq  letAdj      unique letFreq    \n",
       "1 manly 1.3453627 0.34230453 0.023127605 0.005 -0.03121035 5      -0.03121035\n",
       "2 molar 1.3980539 0.37733783 0.038456367 0.005  0.15674120 5       0.15674120\n",
       "3 havoc 0.4933752 0.04570751 0.002016942 0.005 -0.02914692 5      -0.02914692\n",
       "4 impel 0.7906757 0.21457896 0.042490251 0.005  0.28827982 5       0.28827982\n",
       "5 condo 1.4388890 0.54319861 0.051095872 0.005  0.06495981 4       0.06495981\n",
       "6 judge 0.2727380 0.06659976 0.020438349 0.008 -0.65066826 5      -0.65066826\n",
       "  score\n",
       "1 4.34 \n",
       "2 4.14 \n",
       "3 4.40 \n",
       "4 4.15 \n",
       "5 4.45 \n",
       "6 5.18 "
      ]
     },
     "metadata": {},
     "output_type": "display_data"
    }
   ],
   "source": [
    "system(\"gsutil cp gs://mcm_2023_data/projected.csv ~/MCM_2023\", intern=TRUE)\n",
    "\n",
    "finalRes = read.table('./projected.csv',sep=',', header=TRUE)\n",
    "\n",
    "\n",
    "#head(finalRes)\n",
    "\n",
    "\n",
    "head(letterFreq)\n",
    "\n",
    "colnames(finalRes) <- c(\"word\", \"two\", \"three\", \"four\", \"freq\", \"score\")\n",
    "\n",
    "finalRes$unique <- letterResults$uniqueLetters\n",
    "\n",
    "finalRes$letAdj <- combinedSet$adjFac\n",
    "\n",
    "finalRes$letFreq <- combinedSet$letFreq\n",
    "\n",
    "\n",
    "\n",
    "\n",
    "\n",
    "finalRes <- finalRes[, c(\"word\", \"two\", \"three\", \"four\", \"freq\", \"letAdj\", \"unique\", \"letFreq\", \"score\")]\n",
    "\n",
    "head(finalRes)\n",
    "\n",
    "write.csv(finalRes, \"./optimize.csv\")"
   ]
  },
  {
   "cell_type": "code",
   "execution_count": 18,
   "id": "8b91d45f-b2c8-4f16-8bfa-ebd6feca34fd",
   "metadata": {},
   "outputs": [
    {
     "data": {
      "text/html": [
       "<table class=\"dataframe\">\n",
       "<caption>A data.frame: 6 × 9</caption>\n",
       "<thead>\n",
       "\t<tr><th></th><th scope=col>word</th><th scope=col>two</th><th scope=col>three</th><th scope=col>four</th><th scope=col>freq</th><th scope=col>letAdj</th><th scope=col>unique</th><th scope=col>letFreq</th><th scope=col>score</th></tr>\n",
       "\t<tr><th></th><th scope=col>&lt;chr&gt;</th><th scope=col>&lt;dbl&gt;</th><th scope=col>&lt;dbl&gt;</th><th scope=col>&lt;dbl&gt;</th><th scope=col>&lt;dbl&gt;</th><th scope=col>&lt;dbl&gt;</th><th scope=col>&lt;fct&gt;</th><th scope=col>&lt;dbl&gt;</th><th scope=col>&lt;dbl&gt;</th></tr>\n",
       "</thead>\n",
       "<tbody>\n",
       "\t<tr><th scope=row>1</th><td>manly</td><td>1.3453627</td><td>0.34230453</td><td>0.023127605</td><td>0.005</td><td>-0.03121035</td><td>5</td><td>-0.03121035</td><td>4.34</td></tr>\n",
       "\t<tr><th scope=row>2</th><td>molar</td><td>1.3980539</td><td>0.37733783</td><td>0.038456367</td><td>0.005</td><td> 0.15674120</td><td>5</td><td> 0.15674120</td><td>4.14</td></tr>\n",
       "\t<tr><th scope=row>3</th><td>havoc</td><td>0.4933752</td><td>0.04570751</td><td>0.002016942</td><td>0.005</td><td>-0.02914692</td><td>5</td><td>-0.02914692</td><td>4.40</td></tr>\n",
       "\t<tr><th scope=row>4</th><td>impel</td><td>0.7906757</td><td>0.21457896</td><td>0.042490251</td><td>0.005</td><td> 0.28827982</td><td>5</td><td> 0.28827982</td><td>4.15</td></tr>\n",
       "\t<tr><th scope=row>5</th><td>condo</td><td>1.4388890</td><td>0.54319861</td><td>0.051095872</td><td>0.005</td><td> 0.06495981</td><td>4</td><td> 0.06495981</td><td>4.45</td></tr>\n",
       "\t<tr><th scope=row>6</th><td>judge</td><td>0.2727380</td><td>0.06659976</td><td>0.020438349</td><td>0.008</td><td>-0.65066826</td><td>5</td><td>-0.65066826</td><td>5.18</td></tr>\n",
       "</tbody>\n",
       "</table>\n"
      ],
      "text/latex": [
       "A data.frame: 6 × 9\n",
       "\\begin{tabular}{r|lllllllll}\n",
       "  & word & two & three & four & freq & letAdj & unique & letFreq & score\\\\\n",
       "  & <chr> & <dbl> & <dbl> & <dbl> & <dbl> & <dbl> & <fct> & <dbl> & <dbl>\\\\\n",
       "\\hline\n",
       "\t1 & manly & 1.3453627 & 0.34230453 & 0.023127605 & 0.005 & -0.03121035 & 5 & -0.03121035 & 4.34\\\\\n",
       "\t2 & molar & 1.3980539 & 0.37733783 & 0.038456367 & 0.005 &  0.15674120 & 5 &  0.15674120 & 4.14\\\\\n",
       "\t3 & havoc & 0.4933752 & 0.04570751 & 0.002016942 & 0.005 & -0.02914692 & 5 & -0.02914692 & 4.40\\\\\n",
       "\t4 & impel & 0.7906757 & 0.21457896 & 0.042490251 & 0.005 &  0.28827982 & 5 &  0.28827982 & 4.15\\\\\n",
       "\t5 & condo & 1.4388890 & 0.54319861 & 0.051095872 & 0.005 &  0.06495981 & 4 &  0.06495981 & 4.45\\\\\n",
       "\t6 & judge & 0.2727380 & 0.06659976 & 0.020438349 & 0.008 & -0.65066826 & 5 & -0.65066826 & 5.18\\\\\n",
       "\\end{tabular}\n"
      ],
      "text/markdown": [
       "\n",
       "A data.frame: 6 × 9\n",
       "\n",
       "| <!--/--> | word &lt;chr&gt; | two &lt;dbl&gt; | three &lt;dbl&gt; | four &lt;dbl&gt; | freq &lt;dbl&gt; | letAdj &lt;dbl&gt; | unique &lt;fct&gt; | letFreq &lt;dbl&gt; | score &lt;dbl&gt; |\n",
       "|---|---|---|---|---|---|---|---|---|---|\n",
       "| 1 | manly | 1.3453627 | 0.34230453 | 0.023127605 | 0.005 | -0.03121035 | 5 | -0.03121035 | 4.34 |\n",
       "| 2 | molar | 1.3980539 | 0.37733783 | 0.038456367 | 0.005 |  0.15674120 | 5 |  0.15674120 | 4.14 |\n",
       "| 3 | havoc | 0.4933752 | 0.04570751 | 0.002016942 | 0.005 | -0.02914692 | 5 | -0.02914692 | 4.40 |\n",
       "| 4 | impel | 0.7906757 | 0.21457896 | 0.042490251 | 0.005 |  0.28827982 | 5 |  0.28827982 | 4.15 |\n",
       "| 5 | condo | 1.4388890 | 0.54319861 | 0.051095872 | 0.005 |  0.06495981 | 4 |  0.06495981 | 4.45 |\n",
       "| 6 | judge | 0.2727380 | 0.06659976 | 0.020438349 | 0.008 | -0.65066826 | 5 | -0.65066826 | 5.18 |\n",
       "\n"
      ],
      "text/plain": [
       "  word  two       three      four        freq  letAdj      unique letFreq    \n",
       "1 manly 1.3453627 0.34230453 0.023127605 0.005 -0.03121035 5      -0.03121035\n",
       "2 molar 1.3980539 0.37733783 0.038456367 0.005  0.15674120 5       0.15674120\n",
       "3 havoc 0.4933752 0.04570751 0.002016942 0.005 -0.02914692 5      -0.02914692\n",
       "4 impel 0.7906757 0.21457896 0.042490251 0.005  0.28827982 5       0.28827982\n",
       "5 condo 1.4388890 0.54319861 0.051095872 0.005  0.06495981 4       0.06495981\n",
       "6 judge 0.2727380 0.06659976 0.020438349 0.008 -0.65066826 5      -0.65066826\n",
       "  score\n",
       "1 4.34 \n",
       "2 4.14 \n",
       "3 4.40 \n",
       "4 4.15 \n",
       "5 4.45 \n",
       "6 5.18 "
      ]
     },
     "metadata": {},
     "output_type": "display_data"
    },
    {
     "data": {
      "image/png": "[encoded data removed]",
      "text/plain": [
       "plot without title"
      ]
     },
     "metadata": {
      "image/png": {
       "height": 420,
       "width": 420
      }
     },
     "output_type": "display_data"
    },
    {
     "data": {
      "image/png": "[encoded data removed]",
      "text/plain": [
       "plot without title"
      ]
     },
     "metadata": {
      "image/png": {
       "height": 420,
       "width": 420
      }
     },
     "output_type": "display_data"
    },
    {
     "data": {
      "image/png": "[encoded data removed]",
      "text/plain": [
       "plot without title"
      ]
     },
     "metadata": {
      "image/png": {
       "height": 420,
       "width": 420
      }
     },
     "output_type": "display_data"
    }
   ],
   "source": [
    "head(finalRes)\n",
    "\n",
    "#finalRes$two <- as.factor(finalRes$two)\n",
    "#finalRes$three <- as.factor(finalRes$three)\n",
    "#finalRes$four <- as.factor(finalRes$four)\n",
    "\n",
    "\n",
    "p <- ggplot(finalRes, aes(x=two, y=score))  + geom_point()\n",
    "print(p)\n",
    "\n",
    "p <- ggplot(finalRes, aes(x=three, y=score))  + geom_point()\n",
    "print(p)\n",
    "\n",
    "p <- ggplot(finalRes, aes(x=four, y=score))  + geom_point()\n",
    "print(p)\n",
    "\n"
   ]
  },
  {
   "cell_type": "code",
   "execution_count": 19,
   "id": "b8e559e7-e5c7-4bfb-9581-f0dd70eae307",
   "metadata": {},
   "outputs": [
    {
     "name": "stdout",
     "output_type": "stream",
     "text": [
      "[1] 4.19234\n",
      "[1] 0.4036552\n"
     ]
    }
   ],
   "source": [
    "print(mean(finalRes$score))\n",
    "print(sd(finalRes$score))\n"
   ]
  },
  {
   "cell_type": "code",
   "execution_count": 28,
   "id": "8efc212f-cd98-48a1-a83f-8a17eeb6b24d",
   "metadata": {},
   "outputs": [
    {
     "data": {
      "text/html": [
       "<table class=\"dataframe\">\n",
       "<caption>A tibble: 26 × 8</caption>\n",
       "<thead>\n",
       "\t<tr><th scope=col>1 try</th><th scope=col>2 tries</th><th scope=col>3 tries</th><th scope=col>4 tries</th><th scope=col>5 tries</th><th scope=col>6 tries</th><th scope=col>7 or more tries (X)</th><th scope=col>avg</th></tr>\n",
       "\t<tr><th scope=col>&lt;chr&gt;</th><th scope=col>&lt;chr&gt;</th><th scope=col>&lt;chr&gt;</th><th scope=col>&lt;chr&gt;</th><th scope=col>&lt;chr&gt;</th><th scope=col>&lt;chr&gt;</th><th scope=col>&lt;chr&gt;</th><th scope=col>&lt;dbl&gt;</th></tr>\n",
       "</thead>\n",
       "<tbody>\n",
       "\t<tr><td>0</td><td>2</td><td>13</td><td>35</td><td>32</td><td>15</td><td>3 </td><td>4.54</td></tr>\n",
       "\t<tr><td>0</td><td>2</td><td>13</td><td>32</td><td>32</td><td>17</td><td>3 </td><td>4.54</td></tr>\n",
       "\t<tr><td>0</td><td>2</td><td>16</td><td>31</td><td>31</td><td>17</td><td>3 </td><td>4.54</td></tr>\n",
       "\t<tr><td>0</td><td>2</td><td>16</td><td>33</td><td>29</td><td>16</td><td>4 </td><td>4.53</td></tr>\n",
       "\t<tr><td>0</td><td>3</td><td>13</td><td>35</td><td>34</td><td>14</td><td>2 </td><td>4.53</td></tr>\n",
       "\t<tr><td>0</td><td>4</td><td>16</td><td>29</td><td>29</td><td>18</td><td>4 </td><td>4.53</td></tr>\n",
       "\t<tr><td>1</td><td>4</td><td>17</td><td>28</td><td>26</td><td>18</td><td>6 </td><td>4.52</td></tr>\n",
       "\t<tr><td>0</td><td>1</td><td>13</td><td>34</td><td>34</td><td>15</td><td>2 </td><td>4.51</td></tr>\n",
       "\t<tr><td>0</td><td>5</td><td>24</td><td>25</td><td>18</td><td>17</td><td>11</td><td>4.51</td></tr>\n",
       "\t<tr><td>0</td><td>4</td><td>17</td><td>30</td><td>27</td><td>17</td><td>5 </td><td>4.51</td></tr>\n",
       "\t<tr><td>0</td><td>2</td><td>17</td><td>33</td><td>28</td><td>16</td><td>4 </td><td>4.51</td></tr>\n",
       "\t<tr><td>1</td><td>6</td><td>17</td><td>27</td><td>27</td><td>18</td><td>5 </td><td>4.50</td></tr>\n",
       "\t<tr><td>0</td><td>1</td><td>11</td><td>36</td><td>36</td><td>14</td><td>1 </td><td>4.50</td></tr>\n",
       "\t<tr><td>0</td><td>3</td><td>15</td><td>32</td><td>32</td><td>16</td><td>2 </td><td>4.49</td></tr>\n",
       "\t<tr><td>0</td><td>3</td><td>14</td><td>33</td><td>33</td><td>15</td><td>2 </td><td>4.49</td></tr>\n",
       "\t<tr><td>0</td><td>2</td><td>14</td><td>32</td><td>33</td><td>16</td><td>2 </td><td>4.49</td></tr>\n",
       "\t<tr><td>0</td><td>2</td><td>18</td><td>36</td><td>27</td><td>15</td><td>3 </td><td>4.48</td></tr>\n",
       "\t<tr><td>0</td><td>2</td><td>16</td><td>37</td><td>31</td><td>13</td><td>2 </td><td>4.47</td></tr>\n",
       "\t<tr><td>1</td><td>4</td><td>19</td><td>27</td><td>26</td><td>18</td><td>5 </td><td>4.47</td></tr>\n",
       "\t<tr><td>0</td><td>3</td><td>17</td><td>30</td><td>28</td><td>17</td><td>4 </td><td>4.47</td></tr>\n",
       "\t<tr><td>0</td><td>2</td><td>14</td><td>35</td><td>35</td><td>13</td><td>1 </td><td>4.46</td></tr>\n",
       "\t<tr><td>1</td><td>3</td><td>17</td><td>33</td><td>29</td><td>15</td><td>3 </td><td>4.46</td></tr>\n",
       "\t<tr><td>0</td><td>2</td><td>17</td><td>35</td><td>29</td><td>14</td><td>3 </td><td>4.45</td></tr>\n",
       "\t<tr><td>0</td><td>4</td><td>18</td><td>30</td><td>28</td><td>17</td><td>3 </td><td>4.45</td></tr>\n",
       "\t<tr><td>0</td><td>3</td><td>16</td><td>31</td><td>30</td><td>16</td><td>3 </td><td>4.45</td></tr>\n",
       "\t<tr><td>1</td><td>4</td><td>17</td><td>30</td><td>27</td><td>17</td><td>4 </td><td>4.45</td></tr>\n",
       "</tbody>\n",
       "</table>\n"
      ],
      "text/latex": [
       "A tibble: 26 × 8\n",
       "\\begin{tabular}{llllllll}\n",
       " 1 try & 2 tries & 3 tries & 4 tries & 5 tries & 6 tries & 7 or more tries (X) & avg\\\\\n",
       " <chr> & <chr> & <chr> & <chr> & <chr> & <chr> & <chr> & <dbl>\\\\\n",
       "\\hline\n",
       "\t 0 & 2 & 13 & 35 & 32 & 15 & 3  & 4.54\\\\\n",
       "\t 0 & 2 & 13 & 32 & 32 & 17 & 3  & 4.54\\\\\n",
       "\t 0 & 2 & 16 & 31 & 31 & 17 & 3  & 4.54\\\\\n",
       "\t 0 & 2 & 16 & 33 & 29 & 16 & 4  & 4.53\\\\\n",
       "\t 0 & 3 & 13 & 35 & 34 & 14 & 2  & 4.53\\\\\n",
       "\t 0 & 4 & 16 & 29 & 29 & 18 & 4  & 4.53\\\\\n",
       "\t 1 & 4 & 17 & 28 & 26 & 18 & 6  & 4.52\\\\\n",
       "\t 0 & 1 & 13 & 34 & 34 & 15 & 2  & 4.51\\\\\n",
       "\t 0 & 5 & 24 & 25 & 18 & 17 & 11 & 4.51\\\\\n",
       "\t 0 & 4 & 17 & 30 & 27 & 17 & 5  & 4.51\\\\\n",
       "\t 0 & 2 & 17 & 33 & 28 & 16 & 4  & 4.51\\\\\n",
       "\t 1 & 6 & 17 & 27 & 27 & 18 & 5  & 4.50\\\\\n",
       "\t 0 & 1 & 11 & 36 & 36 & 14 & 1  & 4.50\\\\\n",
       "\t 0 & 3 & 15 & 32 & 32 & 16 & 2  & 4.49\\\\\n",
       "\t 0 & 3 & 14 & 33 & 33 & 15 & 2  & 4.49\\\\\n",
       "\t 0 & 2 & 14 & 32 & 33 & 16 & 2  & 4.49\\\\\n",
       "\t 0 & 2 & 18 & 36 & 27 & 15 & 3  & 4.48\\\\\n",
       "\t 0 & 2 & 16 & 37 & 31 & 13 & 2  & 4.47\\\\\n",
       "\t 1 & 4 & 19 & 27 & 26 & 18 & 5  & 4.47\\\\\n",
       "\t 0 & 3 & 17 & 30 & 28 & 17 & 4  & 4.47\\\\\n",
       "\t 0 & 2 & 14 & 35 & 35 & 13 & 1  & 4.46\\\\\n",
       "\t 1 & 3 & 17 & 33 & 29 & 15 & 3  & 4.46\\\\\n",
       "\t 0 & 2 & 17 & 35 & 29 & 14 & 3  & 4.45\\\\\n",
       "\t 0 & 4 & 18 & 30 & 28 & 17 & 3  & 4.45\\\\\n",
       "\t 0 & 3 & 16 & 31 & 30 & 16 & 3  & 4.45\\\\\n",
       "\t 1 & 4 & 17 & 30 & 27 & 17 & 4  & 4.45\\\\\n",
       "\\end{tabular}\n"
      ],
      "text/markdown": [
       "\n",
       "A tibble: 26 × 8\n",
       "\n",
       "| 1 try &lt;chr&gt; | 2 tries &lt;chr&gt; | 3 tries &lt;chr&gt; | 4 tries &lt;chr&gt; | 5 tries &lt;chr&gt; | 6 tries &lt;chr&gt; | 7 or more tries (X) &lt;chr&gt; | avg &lt;dbl&gt; |\n",
       "|---|---|---|---|---|---|---|---|\n",
       "| 0 | 2 | 13 | 35 | 32 | 15 | 3  | 4.54 |\n",
       "| 0 | 2 | 13 | 32 | 32 | 17 | 3  | 4.54 |\n",
       "| 0 | 2 | 16 | 31 | 31 | 17 | 3  | 4.54 |\n",
       "| 0 | 2 | 16 | 33 | 29 | 16 | 4  | 4.53 |\n",
       "| 0 | 3 | 13 | 35 | 34 | 14 | 2  | 4.53 |\n",
       "| 0 | 4 | 16 | 29 | 29 | 18 | 4  | 4.53 |\n",
       "| 1 | 4 | 17 | 28 | 26 | 18 | 6  | 4.52 |\n",
       "| 0 | 1 | 13 | 34 | 34 | 15 | 2  | 4.51 |\n",
       "| 0 | 5 | 24 | 25 | 18 | 17 | 11 | 4.51 |\n",
       "| 0 | 4 | 17 | 30 | 27 | 17 | 5  | 4.51 |\n",
       "| 0 | 2 | 17 | 33 | 28 | 16 | 4  | 4.51 |\n",
       "| 1 | 6 | 17 | 27 | 27 | 18 | 5  | 4.50 |\n",
       "| 0 | 1 | 11 | 36 | 36 | 14 | 1  | 4.50 |\n",
       "| 0 | 3 | 15 | 32 | 32 | 16 | 2  | 4.49 |\n",
       "| 0 | 3 | 14 | 33 | 33 | 15 | 2  | 4.49 |\n",
       "| 0 | 2 | 14 | 32 | 33 | 16 | 2  | 4.49 |\n",
       "| 0 | 2 | 18 | 36 | 27 | 15 | 3  | 4.48 |\n",
       "| 0 | 2 | 16 | 37 | 31 | 13 | 2  | 4.47 |\n",
       "| 1 | 4 | 19 | 27 | 26 | 18 | 5  | 4.47 |\n",
       "| 0 | 3 | 17 | 30 | 28 | 17 | 4  | 4.47 |\n",
       "| 0 | 2 | 14 | 35 | 35 | 13 | 1  | 4.46 |\n",
       "| 1 | 3 | 17 | 33 | 29 | 15 | 3  | 4.46 |\n",
       "| 0 | 2 | 17 | 35 | 29 | 14 | 3  | 4.45 |\n",
       "| 0 | 4 | 18 | 30 | 28 | 17 | 3  | 4.45 |\n",
       "| 0 | 3 | 16 | 31 | 30 | 16 | 3  | 4.45 |\n",
       "| 1 | 4 | 17 | 30 | 27 | 17 | 4  | 4.45 |\n",
       "\n"
      ],
      "text/plain": [
       "   1 try 2 tries 3 tries 4 tries 5 tries 6 tries 7 or more tries (X) avg \n",
       "1  0     2       13      35      32      15      3                   4.54\n",
       "2  0     2       13      32      32      17      3                   4.54\n",
       "3  0     2       16      31      31      17      3                   4.54\n",
       "4  0     2       16      33      29      16      4                   4.53\n",
       "5  0     3       13      35      34      14      2                   4.53\n",
       "6  0     4       16      29      29      18      4                   4.53\n",
       "7  1     4       17      28      26      18      6                   4.52\n",
       "8  0     1       13      34      34      15      2                   4.51\n",
       "9  0     5       24      25      18      17      11                  4.51\n",
       "10 0     4       17      30      27      17      5                   4.51\n",
       "11 0     2       17      33      28      16      4                   4.51\n",
       "12 1     6       17      27      27      18      5                   4.50\n",
       "13 0     1       11      36      36      14      1                   4.50\n",
       "14 0     3       15      32      32      16      2                   4.49\n",
       "15 0     3       14      33      33      15      2                   4.49\n",
       "16 0     2       14      32      33      16      2                   4.49\n",
       "17 0     2       18      36      27      15      3                   4.48\n",
       "18 0     2       16      37      31      13      2                   4.47\n",
       "19 1     4       19      27      26      18      5                   4.47\n",
       "20 0     3       17      30      28      17      4                   4.47\n",
       "21 0     2       14      35      35      13      1                   4.46\n",
       "22 1     3       17      33      29      15      3                   4.46\n",
       "23 0     2       17      35      29      14      3                   4.45\n",
       "24 0     4       18      30      28      17      3                   4.45\n",
       "25 0     3       16      31      30      16      3                   4.45\n",
       "26 1     4       17      30      27      17      4                   4.45"
      ]
     },
     "metadata": {},
     "output_type": "display_data"
    },
    {
     "name": "stdout",
     "output_type": "stream",
     "text": [
      "[1] 0.1923077\n",
      "[1] 2.884615\n",
      "[1] 15.96154\n",
      "[1] 31.88462\n",
      "[1] 29.65385\n",
      "[1] 15.92308\n",
      "[1] 3.461538\n"
     ]
    }
   ],
   "source": [
    "other <- combinedSet[order(-combinedSet$avg),]\n",
    "\n",
    "other <- other[,6:13]\n",
    "\n",
    "other <- filter(other, (avg <= (4.492672+.05)))\n",
    "\n",
    "other <- filter(other, (avg >= (4.492672-.05)))\n",
    "\n",
    "head(other, 50)\n",
    "\n",
    "print(mean(as.numeric(unlist(other[,1]))))\n",
    "      \n",
    "print(mean(as.numeric(unlist(other[,2]))))\n",
    "      \n",
    "print(mean(as.numeric(unlist(other[,3]))))\n",
    "            \n",
    "print(mean(as.numeric(unlist(other[,4]))))\n",
    "\n",
    "print(mean(as.numeric(unlist(other[,5]))))\n",
    "    \n",
    "print(mean(as.numeric(unlist(other[,6]))))\n",
    "      \n",
    "print(mean(as.numeric(unlist(other[,7]))))"
   ]
  },
  {
   "cell_type": "code",
   "execution_count": 21,
   "id": "7d5018df-311b-4153-8668-28d23b3ffe90",
   "metadata": {},
   "outputs": [],
   "source": [
    "\n",
    "#write.csv(combinedSet, \"./combine.csv\")"
   ]
  },
  {
   "cell_type": "code",
   "execution_count": 29,
   "id": "75566f33-56c9-4ae7-973c-8527ab7e69fa",
   "metadata": {},
   "outputs": [
    {
     "data": {
      "text/plain": [
       "\n",
       "To cite R in publications use:\n",
       "\n",
       "  R Core Team (2022). R: A language and environment for statistical\n",
       "  computing. R Foundation for Statistical Computing, Vienna, Austria.\n",
       "  URL https://www.R-project.org/.\n",
       "\n",
       "A BibTeX entry for LaTeX users is\n",
       "\n",
       "  @Manual{,\n",
       "    title = {R: A Language and Environment for Statistical Computing},\n",
       "    author = {{R Core Team}},\n",
       "    organization = {R Foundation for Statistical Computing},\n",
       "    address = {Vienna, Austria},\n",
       "    year = {2022},\n",
       "    url = {https://www.R-project.org/},\n",
       "  }\n",
       "\n",
       "We have invested a lot of time and effort in creating R, please cite it\n",
       "when using it for data analysis. See also ‘citation(\"pkgname\")’ for\n",
       "citing R packages.\n"
      ]
     },
     "metadata": {},
     "output_type": "display_data"
    },
    {
     "data": {
      "text/plain": [
       "\n",
       "To cite ggplot2 in publications, please use:\n",
       "\n",
       "  H. Wickham. ggplot2: Elegant Graphics for Data Analysis.\n",
       "  Springer-Verlag New York, 2016.\n",
       "\n",
       "A BibTeX entry for LaTeX users is\n",
       "\n",
       "  @Book{,\n",
       "    author = {Hadley Wickham},\n",
       "    title = {ggplot2: Elegant Graphics for Data Analysis},\n",
       "    publisher = {Springer-Verlag New York},\n",
       "    year = {2016},\n",
       "    isbn = {978-3-319-24277-4},\n",
       "    url = {https://ggplot2.tidyverse.org},\n",
       "  }\n"
      ]
     },
     "metadata": {},
     "output_type": "display_data"
    },
    {
     "data": {
      "text/plain": [
       "\n",
       "To cite package ‘tidyverse’ in publications use:\n",
       "\n",
       "  Wickham H, Averick M, Bryan J, Chang W, McGowan LD, François R,\n",
       "  Grolemund G, Hayes A, Henry L, Hester J, Kuhn M, Pedersen TL, Miller\n",
       "  E, Bache SM, Müller K, Ooms J, Robinson D, Seidel DP, Spinu V,\n",
       "  Takahashi K, Vaughan D, Wilke C, Woo K, Yutani H (2019). “Welcome to\n",
       "  the tidyverse.” _Journal of Open Source Software_, *4*(43), 1686.\n",
       "  doi:10.21105/joss.01686 <https://doi.org/10.21105/joss.01686>.\n",
       "\n",
       "A BibTeX entry for LaTeX users is\n",
       "\n",
       "  @Article{,\n",
       "    title = {Welcome to the {tidyverse}},\n",
       "    author = {Hadley Wickham and Mara Averick and Jennifer Bryan and Winston Chang and Lucy D'Agostino McGowan and Romain François and Garrett Grolemund and Alex Hayes and Lionel Henry and Jim Hester and Max Kuhn and Thomas Lin Pedersen and Evan Miller and Stephan Milton Bache and Kirill Müller and Jeroen Ooms and David Robinson and Dana Paige Seidel and Vitalie Spinu and Kohske Takahashi and Davis Vaughan and Claus Wilke and Kara Woo and Hiroaki Yutani},\n",
       "    year = {2019},\n",
       "    journal = {Journal of Open Source Software},\n",
       "    volume = {4},\n",
       "    number = {43},\n",
       "    pages = {1686},\n",
       "    doi = {10.21105/joss.01686},\n",
       "  }\n"
      ]
     },
     "metadata": {},
     "output_type": "display_data"
    },
    {
     "data": {
      "text/plain": [
       "\n",
       "To cite package ‘dplyr’ in publications use:\n",
       "\n",
       "  Wickham H, François R, Henry L, Müller K, Vaughan D (2023). _dplyr: A\n",
       "  Grammar of Data Manipulation_. R package version 1.1.0,\n",
       "  <https://CRAN.R-project.org/package=dplyr>.\n",
       "\n",
       "A BibTeX entry for LaTeX users is\n",
       "\n",
       "  @Manual{,\n",
       "    title = {dplyr: A Grammar of Data Manipulation},\n",
       "    author = {Hadley Wickham and Romain François and Lionel Henry and Kirill Müller and Davis Vaughan},\n",
       "    year = {2023},\n",
       "    note = {R package version 1.1.0},\n",
       "    url = {https://CRAN.R-project.org/package=dplyr},\n",
       "  }\n",
       "\n",
       "\n"
      ]
     },
     "metadata": {},
     "output_type": "display_data"
    }
   ],
   "source": [
    "citation()\n",
    "citation(\"ggplot2\")\n",
    "citation(\"tidyverse\")\n",
    "citation(\"dplyr\")"
   ]
  },
  {
   "cell_type": "code",
   "execution_count": null,
   "id": "e06a8b14-7511-4b56-87ea-62c9aab8f716",
   "metadata": {},
   "outputs": [],
   "source": []
  }
 ],
 "metadata": {
  "environment": {
   "kernel": "ir",
   "name": "r-cpu.4-2.m103",
   "type": "gcloud",
   "uri": "gcr.io/deeplearning-platform-release/r-cpu.4-2:m103"
  },
  "kernelspec": {
   "display_name": "R",
   "language": "R",
   "name": "ir"
  },
  "language_info": {
   "codemirror_mode": "r",
   "file_extension": ".r",
   "mimetype": "text/x-r-source",
   "name": "R",
   "pygments_lexer": "r",
   "version": "4.2.2"
  }
 },
 "nbformat": 4,
 "nbformat_minor": 5
}
